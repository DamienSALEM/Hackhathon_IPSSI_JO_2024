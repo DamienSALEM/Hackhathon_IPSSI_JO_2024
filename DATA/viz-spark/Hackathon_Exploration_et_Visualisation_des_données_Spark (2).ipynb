{
  "nbformat": 4,
  "nbformat_minor": 0,
  "metadata": {
    "colab": {
      "provenance": []
    },
    "kernelspec": {
      "name": "python3",
      "display_name": "Python 3"
    },
    "language_info": {
      "name": "python"
    }
  },
  "cells": [
    {
      "cell_type": "code",
      "execution_count": null,
      "metadata": {
        "id": "YoZCPMdVV_Zk"
      },
      "outputs": [],
      "source": [
        "%load_ext google.colab.data_table"
      ]
    },
    {
      "cell_type": "code",
      "source": [
        "# Question perso :\n",
        "\n",
        "# Comment les conditions météorologiques prévues à Paris en 2024 peuvent-elles influencer les performances dans certaines disciplines ?\n",
        "# Quels sont les progrès ou régressions des performances des athlètes clés dans les compétitions récentes (championnats mondiaux, compétitions nationales) ?\n",
        "# Quels athlètes ont été récemment blessés et comment cela pourrait-il affecter leur performance ?\n",
        "# Y a-t-il de nouveaux athlètes prometteurs qui pourraient surprendre et surpasser les favoris ?\n",
        "# Les athlètes français bénéficieront-ils d’un avantage significatif en jouant à domicile ?\n",
        "# Comment l’expérience passée des athlètes aux Jeux Olympiques influence-t-elle leurs performances futures ?\n",
        "# Ukraine-Russie. La situation géopolitique peut elle affecter la préparation des athlètes, leur moral, et même leur participation ?\n",
        "# Le sentiment et l’état émotionnel des athlètes peuvent influencer leurs performances ?\n",
        "# Y a-t-il une corrélation entre le nombre de médailles remportées et des facteurs économiques tel que le montant du Produit Intérieur Brut (PIB) ?"
      ],
      "metadata": {
        "id": "HQaEpI6GzDLr"
      },
      "execution_count": null,
      "outputs": []
    },
    {
      "cell_type": "code",
      "source": [
        "!pip install pyspark"
      ],
      "metadata": {
        "id": "tG3FphGOj6F7",
        "colab": {
          "base_uri": "https://localhost:8080/"
        },
        "outputId": "9f92e7cd-00ff-40c6-decd-e10642c94ddd"
      },
      "execution_count": 2,
      "outputs": [
        {
          "output_type": "stream",
          "name": "stdout",
          "text": [
            "Collecting pyspark\n",
            "  Downloading pyspark-3.5.1.tar.gz (317.0 MB)\n",
            "\u001b[2K     \u001b[90m━━━━━━━━━━━━━━━━━━━━━━━━━━━━━━━━━━━━━━━━\u001b[0m \u001b[32m317.0/317.0 MB\u001b[0m \u001b[31m2.4 MB/s\u001b[0m eta \u001b[36m0:00:00\u001b[0m\n",
            "\u001b[?25h  Preparing metadata (setup.py) ... \u001b[?25l\u001b[?25hdone\n",
            "Requirement already satisfied: py4j==0.10.9.7 in /usr/local/lib/python3.10/dist-packages (from pyspark) (0.10.9.7)\n",
            "Building wheels for collected packages: pyspark\n",
            "  Building wheel for pyspark (setup.py) ... \u001b[?25l\u001b[?25hdone\n",
            "  Created wheel for pyspark: filename=pyspark-3.5.1-py2.py3-none-any.whl size=317488491 sha256=65bd0d00e92e19c8fb8609cba5f241390b81197d716d695858f91187fab2afe7\n",
            "  Stored in directory: /root/.cache/pip/wheels/80/1d/60/2c256ed38dddce2fdd93be545214a63e02fbd8d74fb0b7f3a6\n",
            "Successfully built pyspark\n",
            "Installing collected packages: pyspark\n",
            "Successfully installed pyspark-3.5.1\n"
          ]
        }
      ]
    },
    {
      "cell_type": "code",
      "source": [
        "!pip install sshtunnel"
      ],
      "metadata": {
        "colab": {
          "base_uri": "https://localhost:8080/"
        },
        "id": "vLeXFYVeRpJK",
        "outputId": "ac607d63-68ba-4f90-aad8-9564c9dabfdb"
      },
      "execution_count": 61,
      "outputs": [
        {
          "output_type": "stream",
          "name": "stdout",
          "text": [
            "Collecting sshtunnel\n",
            "  Downloading sshtunnel-0.4.0-py2.py3-none-any.whl (24 kB)\n",
            "Collecting paramiko>=2.7.2 (from sshtunnel)\n",
            "  Downloading paramiko-3.4.0-py3-none-any.whl (225 kB)\n",
            "\u001b[2K     \u001b[90m━━━━━━━━━━━━━━━━━━━━━━━━━━━━━━━━━━━━━━━━\u001b[0m \u001b[32m225.9/225.9 kB\u001b[0m \u001b[31m5.2 MB/s\u001b[0m eta \u001b[36m0:00:00\u001b[0m\n",
            "\u001b[?25hCollecting bcrypt>=3.2 (from paramiko>=2.7.2->sshtunnel)\n",
            "  Downloading bcrypt-4.1.3-cp39-abi3-manylinux_2_28_x86_64.whl (283 kB)\n",
            "\u001b[2K     \u001b[90m━━━━━━━━━━━━━━━━━━━━━━━━━━━━━━━━━━━━━━━━\u001b[0m \u001b[32m283.7/283.7 kB\u001b[0m \u001b[31m17.1 MB/s\u001b[0m eta \u001b[36m0:00:00\u001b[0m\n",
            "\u001b[?25hRequirement already satisfied: cryptography>=3.3 in /usr/local/lib/python3.10/dist-packages (from paramiko>=2.7.2->sshtunnel) (42.0.7)\n",
            "Collecting pynacl>=1.5 (from paramiko>=2.7.2->sshtunnel)\n",
            "  Downloading PyNaCl-1.5.0-cp36-abi3-manylinux_2_17_x86_64.manylinux2014_x86_64.manylinux_2_24_x86_64.whl (856 kB)\n",
            "\u001b[2K     \u001b[90m━━━━━━━━━━━━━━━━━━━━━━━━━━━━━━━━━━━━━━━━\u001b[0m \u001b[32m856.7/856.7 kB\u001b[0m \u001b[31m34.7 MB/s\u001b[0m eta \u001b[36m0:00:00\u001b[0m\n",
            "\u001b[?25hRequirement already satisfied: cffi>=1.12 in /usr/local/lib/python3.10/dist-packages (from cryptography>=3.3->paramiko>=2.7.2->sshtunnel) (1.16.0)\n",
            "Requirement already satisfied: pycparser in /usr/local/lib/python3.10/dist-packages (from cffi>=1.12->cryptography>=3.3->paramiko>=2.7.2->sshtunnel) (2.22)\n",
            "Installing collected packages: bcrypt, pynacl, paramiko, sshtunnel\n",
            "Successfully installed bcrypt-4.1.3 paramiko-3.4.0 pynacl-1.5.0 sshtunnel-0.4.0\n"
          ]
        }
      ]
    },
    {
      "cell_type": "code",
      "source": [
        "from pyspark.sql import SparkSession\n",
        "from pyspark.sql.types import *\n",
        "from pyspark.sql import functions as F\n",
        "from pyspark.sql.types import *\n",
        "from pyspark.sql.functions import udf\n",
        "from pyspark.sql.window import Window\n",
        "from pyspark.conf import SparkConf\n",
        "import pandas as pd\n",
        "import plotly.express as px\n",
        "from pyspark.sql.functions import col, sum as spark_sum, isnan, when, concat, lit, regexp_replace, regexp_extract\n",
        "from sshtunnel import SSHTunnelForwarder\n",
        "import os"
      ],
      "metadata": {
        "id": "v1CJrvrwjPXi"
      },
      "execution_count": 29,
      "outputs": []
    },
    {
      "cell_type": "code",
      "source": [
        "!wget https://dev.mysql.com/get/Downloads/Connector-J/mysql-connector-java-8.0.26.tar.gz\n",
        "!tar xzf mysql-connector-java-8.0.26.tar.gz\n",
        "!mv mysql-connector-java-8.0.26/mysql-connector-java-8.0.26.jar ."
      ],
      "metadata": {
        "colab": {
          "base_uri": "https://localhost:8080/"
        },
        "id": "p8s92aggZgG8",
        "outputId": "bdb04992-f2b1-458b-94c3-89f5b171bf30"
      },
      "execution_count": 83,
      "outputs": [
        {
          "output_type": "stream",
          "name": "stdout",
          "text": [
            "--2024-05-28 13:31:29--  https://dev.mysql.com/get/Downloads/Connector-J/mysql-connector-java-8.0.26.tar.gz\n",
            "Resolving dev.mysql.com (dev.mysql.com)... 104.119.68.171, 2600:1406:bc00:1484::2e31, 2600:1406:bc00:1483::2e31\n",
            "Connecting to dev.mysql.com (dev.mysql.com)|104.119.68.171|:443... connected.\n",
            "HTTP request sent, awaiting response... 302 Moved Temporarily\n",
            "Location: https://cdn.mysql.com//archives/mysql-connector-java-8.0/mysql-connector-java-8.0.26.tar.gz [following]\n",
            "--2024-05-28 13:31:29--  https://cdn.mysql.com//archives/mysql-connector-java-8.0/mysql-connector-java-8.0.26.tar.gz\n",
            "Resolving cdn.mysql.com (cdn.mysql.com)... 23.45.39.12, 2600:1406:bc00:148a::1d68, 2600:1406:bc00:148b::1d68\n",
            "Connecting to cdn.mysql.com (cdn.mysql.com)|23.45.39.12|:443... connected.\n",
            "HTTP request sent, awaiting response... 200 OK\n",
            "Length: 4180706 (4.0M) [application/x-tar-gz]\n",
            "Saving to: ‘mysql-connector-java-8.0.26.tar.gz’\n",
            "\n",
            "mysql-connector-jav 100%[===================>]   3.99M  --.-KB/s    in 0.1s    \n",
            "\n",
            "2024-05-28 13:31:30 (30.2 MB/s) - ‘mysql-connector-java-8.0.26.tar.gz’ saved [4180706/4180706]\n",
            "\n"
          ]
        }
      ]
    },
    {
      "cell_type": "code",
      "source": [
        "# spark = SparkSession.builder\\\n",
        "#         .master(\"local\")\\\n",
        "#         .appName(\"Colab\")\\\n",
        "#         .config('spark.ui.port', '4050')\\\n",
        "#         .getOrCreate()\n",
        "# spark"
      ],
      "metadata": {
        "id": "QWxgrvFkcpYU"
      },
      "execution_count": null,
      "outputs": []
    },
    {
      "cell_type": "code",
      "source": [],
      "metadata": {
        "id": "GXz9EMHWQQYm"
      },
      "execution_count": 94,
      "outputs": []
    },
    {
      "cell_type": "code",
      "source": [
        "from sshtunnel import SSHTunnelForwarder\n",
        "import os\n",
        "\n",
        "JDBC_DRIVER_PATH = \"./mysql-connector-java-8.0.26.jar\"\n",
        "\n",
        "spark = SparkSession.builder \\\n",
        "    .master(\"local\") \\\n",
        "    .appName(\"Colab\") \\\n",
        "    .config('spark.ui.port', '4050') \\\n",
        "    .config(\"spark.jars\", JDBC_DRIVER_PATH) \\\n",
        "    .getOrCreate()\n",
        "\n",
        "server = SSHTunnelForwarder(\n",
        "    (SSH_HOST, 22),\n",
        "    ssh_username=SSH_USERNAME,\n",
        "    ssh_password=SSH_PASSWORD,\n",
        "    remote_bind_address=(DB_HOST, DB_PORT),\n",
        "    # local_bind_address=('127.0.0.1', LOCAL_PORT)\n",
        ")\n",
        "\n",
        "server.start()\n",
        "\n",
        "jdbc_url = f\"jdbc:mysql://127.0.0.1:{server.local_bind_port}/{DB_NAME}\"\n",
        "\n",
        "connection_properties = {\n",
        "    \"user\": DB_USER,\n",
        "    \"password\": DB_PASSWORD,\n",
        "    \"driver\": \"com.mysql.cj.jdbc.Driver\"\n",
        "}"
      ],
      "metadata": {
        "id": "oIj7HxkTkYvS"
      },
      "execution_count": 95,
      "outputs": []
    },
    {
      "cell_type": "code",
      "source": [
        "df = spark.read.jdbc(url=jdbc_url, table=\"olympic_medals\", properties=connection_properties)\n",
        "\n",
        "df.printSchema()\n",
        "df.show(5)"
      ],
      "metadata": {
        "colab": {
          "base_uri": "https://localhost:8080/",
          "height": 918
        },
        "id": "LGNYgdKmY2h-",
        "outputId": "767c0c46-28d3-49ed-f2bc-fce5aadf37b1"
      },
      "execution_count": 98,
      "outputs": [
        {
          "output_type": "error",
          "ename": "Py4JJavaError",
          "evalue": "An error occurred while calling o915.jdbc.\n: java.lang.ClassNotFoundException: com.mysql.cj.jdbc.Driver\n\tat java.base/java.net.URLClassLoader.findClass(URLClassLoader.java:476)\n\tat java.base/java.lang.ClassLoader.loadClass(ClassLoader.java:594)\n\tat java.base/java.lang.ClassLoader.loadClass(ClassLoader.java:527)\n\tat org.apache.spark.sql.execution.datasources.jdbc.DriverRegistry$.register(DriverRegistry.scala:46)\n\tat org.apache.spark.sql.execution.datasources.jdbc.JDBCOptions.$anonfun$driverClass$1(JDBCOptions.scala:103)\n\tat org.apache.spark.sql.execution.datasources.jdbc.JDBCOptions.$anonfun$driverClass$1$adapted(JDBCOptions.scala:103)\n\tat scala.Option.foreach(Option.scala:407)\n\tat org.apache.spark.sql.execution.datasources.jdbc.JDBCOptions.<init>(JDBCOptions.scala:103)\n\tat org.apache.spark.sql.execution.datasources.jdbc.JDBCOptions.<init>(JDBCOptions.scala:41)\n\tat org.apache.spark.sql.execution.datasources.jdbc.JdbcRelationProvider.createRelation(JdbcRelationProvider.scala:34)\n\tat org.apache.spark.sql.execution.datasources.DataSource.resolveRelation(DataSource.scala:346)\n\tat org.apache.spark.sql.DataFrameReader.loadV1Source(DataFrameReader.scala:229)\n\tat org.apache.spark.sql.DataFrameReader.$anonfun$load$2(DataFrameReader.scala:211)\n\tat scala.Option.getOrElse(Option.scala:189)\n\tat org.apache.spark.sql.DataFrameReader.load(DataFrameReader.scala:211)\n\tat org.apache.spark.sql.DataFrameReader.load(DataFrameReader.scala:172)\n\tat org.apache.spark.sql.DataFrameReader.jdbc(DataFrameReader.scala:249)\n\tat java.base/jdk.internal.reflect.NativeMethodAccessorImpl.invoke0(Native Method)\n\tat java.base/jdk.internal.reflect.NativeMethodAccessorImpl.invoke(NativeMethodAccessorImpl.java:62)\n\tat java.base/jdk.internal.reflect.DelegatingMethodAccessorImpl.invoke(DelegatingMethodAccessorImpl.java:43)\n\tat java.base/java.lang.reflect.Method.invoke(Method.java:566)\n\tat py4j.reflection.MethodInvoker.invoke(MethodInvoker.java:244)\n\tat py4j.reflection.ReflectionEngine.invoke(ReflectionEngine.java:374)\n\tat py4j.Gateway.invoke(Gateway.java:282)\n\tat py4j.commands.AbstractCommand.invokeMethod(AbstractCommand.java:132)\n\tat py4j.commands.CallCommand.execute(CallCommand.java:79)\n\tat py4j.ClientServerConnection.waitForCommands(ClientServerConnection.java:182)\n\tat py4j.ClientServerConnection.run(ClientServerConnection.java:106)\n\tat java.base/java.lang.Thread.run(Thread.java:829)\n",
          "traceback": [
            "\u001b[0;31m---------------------------------------------------------------------------\u001b[0m",
            "\u001b[0;31mPy4JJavaError\u001b[0m                             Traceback (most recent call last)",
            "\u001b[0;32m<ipython-input-98-c058037e6491>\u001b[0m in \u001b[0;36m<cell line: 1>\u001b[0;34m()\u001b[0m\n\u001b[0;32m----> 1\u001b[0;31m \u001b[0mdf\u001b[0m \u001b[0;34m=\u001b[0m \u001b[0mspark\u001b[0m\u001b[0;34m.\u001b[0m\u001b[0mread\u001b[0m\u001b[0;34m.\u001b[0m\u001b[0mjdbc\u001b[0m\u001b[0;34m(\u001b[0m\u001b[0murl\u001b[0m\u001b[0;34m=\u001b[0m\u001b[0mjdbc_url\u001b[0m\u001b[0;34m,\u001b[0m \u001b[0mtable\u001b[0m\u001b[0;34m=\u001b[0m\u001b[0;34m\"olympic_medals\"\u001b[0m\u001b[0;34m,\u001b[0m \u001b[0mproperties\u001b[0m\u001b[0;34m=\u001b[0m\u001b[0mconnection_properties\u001b[0m\u001b[0;34m)\u001b[0m\u001b[0;34m\u001b[0m\u001b[0;34m\u001b[0m\u001b[0m\n\u001b[0m\u001b[1;32m      2\u001b[0m \u001b[0;34m\u001b[0m\u001b[0m\n\u001b[1;32m      3\u001b[0m \u001b[0mdf\u001b[0m\u001b[0;34m.\u001b[0m\u001b[0mprintSchema\u001b[0m\u001b[0;34m(\u001b[0m\u001b[0;34m)\u001b[0m\u001b[0;34m\u001b[0m\u001b[0;34m\u001b[0m\u001b[0m\n\u001b[1;32m      4\u001b[0m \u001b[0mdf\u001b[0m\u001b[0;34m.\u001b[0m\u001b[0mshow\u001b[0m\u001b[0;34m(\u001b[0m\u001b[0;36m5\u001b[0m\u001b[0;34m)\u001b[0m\u001b[0;34m\u001b[0m\u001b[0;34m\u001b[0m\u001b[0m\n",
            "\u001b[0;32m/usr/local/lib/python3.10/dist-packages/pyspark/sql/readwriter.py\u001b[0m in \u001b[0;36mjdbc\u001b[0;34m(self, url, table, column, lowerBound, upperBound, numPartitions, predicates, properties)\u001b[0m\n\u001b[1;32m    944\u001b[0m             \u001b[0mjpredicates\u001b[0m \u001b[0;34m=\u001b[0m \u001b[0mutils\u001b[0m\u001b[0;34m.\u001b[0m\u001b[0mtoJArray\u001b[0m\u001b[0;34m(\u001b[0m\u001b[0mgateway\u001b[0m\u001b[0;34m,\u001b[0m \u001b[0mgateway\u001b[0m\u001b[0;34m.\u001b[0m\u001b[0mjvm\u001b[0m\u001b[0;34m.\u001b[0m\u001b[0mjava\u001b[0m\u001b[0;34m.\u001b[0m\u001b[0mlang\u001b[0m\u001b[0;34m.\u001b[0m\u001b[0mString\u001b[0m\u001b[0;34m,\u001b[0m \u001b[0mpredicates\u001b[0m\u001b[0;34m)\u001b[0m\u001b[0;34m\u001b[0m\u001b[0;34m\u001b[0m\u001b[0m\n\u001b[1;32m    945\u001b[0m             \u001b[0;32mreturn\u001b[0m \u001b[0mself\u001b[0m\u001b[0;34m.\u001b[0m\u001b[0m_df\u001b[0m\u001b[0;34m(\u001b[0m\u001b[0mself\u001b[0m\u001b[0;34m.\u001b[0m\u001b[0m_jreader\u001b[0m\u001b[0;34m.\u001b[0m\u001b[0mjdbc\u001b[0m\u001b[0;34m(\u001b[0m\u001b[0murl\u001b[0m\u001b[0;34m,\u001b[0m \u001b[0mtable\u001b[0m\u001b[0;34m,\u001b[0m \u001b[0mjpredicates\u001b[0m\u001b[0;34m,\u001b[0m \u001b[0mjprop\u001b[0m\u001b[0;34m)\u001b[0m\u001b[0;34m)\u001b[0m\u001b[0;34m\u001b[0m\u001b[0;34m\u001b[0m\u001b[0m\n\u001b[0;32m--> 946\u001b[0;31m         \u001b[0;32mreturn\u001b[0m \u001b[0mself\u001b[0m\u001b[0;34m.\u001b[0m\u001b[0m_df\u001b[0m\u001b[0;34m(\u001b[0m\u001b[0mself\u001b[0m\u001b[0;34m.\u001b[0m\u001b[0m_jreader\u001b[0m\u001b[0;34m.\u001b[0m\u001b[0mjdbc\u001b[0m\u001b[0;34m(\u001b[0m\u001b[0murl\u001b[0m\u001b[0;34m,\u001b[0m \u001b[0mtable\u001b[0m\u001b[0;34m,\u001b[0m \u001b[0mjprop\u001b[0m\u001b[0;34m)\u001b[0m\u001b[0;34m)\u001b[0m\u001b[0;34m\u001b[0m\u001b[0;34m\u001b[0m\u001b[0m\n\u001b[0m\u001b[1;32m    947\u001b[0m \u001b[0;34m\u001b[0m\u001b[0m\n\u001b[1;32m    948\u001b[0m \u001b[0;34m\u001b[0m\u001b[0m\n",
            "\u001b[0;32m/usr/local/lib/python3.10/dist-packages/py4j/java_gateway.py\u001b[0m in \u001b[0;36m__call__\u001b[0;34m(self, *args)\u001b[0m\n\u001b[1;32m   1320\u001b[0m \u001b[0;34m\u001b[0m\u001b[0m\n\u001b[1;32m   1321\u001b[0m         \u001b[0manswer\u001b[0m \u001b[0;34m=\u001b[0m \u001b[0mself\u001b[0m\u001b[0;34m.\u001b[0m\u001b[0mgateway_client\u001b[0m\u001b[0;34m.\u001b[0m\u001b[0msend_command\u001b[0m\u001b[0;34m(\u001b[0m\u001b[0mcommand\u001b[0m\u001b[0;34m)\u001b[0m\u001b[0;34m\u001b[0m\u001b[0;34m\u001b[0m\u001b[0m\n\u001b[0;32m-> 1322\u001b[0;31m         return_value = get_return_value(\n\u001b[0m\u001b[1;32m   1323\u001b[0m             answer, self.gateway_client, self.target_id, self.name)\n\u001b[1;32m   1324\u001b[0m \u001b[0;34m\u001b[0m\u001b[0m\n",
            "\u001b[0;32m/usr/local/lib/python3.10/dist-packages/pyspark/errors/exceptions/captured.py\u001b[0m in \u001b[0;36mdeco\u001b[0;34m(*a, **kw)\u001b[0m\n\u001b[1;32m    177\u001b[0m     \u001b[0;32mdef\u001b[0m \u001b[0mdeco\u001b[0m\u001b[0;34m(\u001b[0m\u001b[0;34m*\u001b[0m\u001b[0ma\u001b[0m\u001b[0;34m:\u001b[0m \u001b[0mAny\u001b[0m\u001b[0;34m,\u001b[0m \u001b[0;34m**\u001b[0m\u001b[0mkw\u001b[0m\u001b[0;34m:\u001b[0m \u001b[0mAny\u001b[0m\u001b[0;34m)\u001b[0m \u001b[0;34m->\u001b[0m \u001b[0mAny\u001b[0m\u001b[0;34m:\u001b[0m\u001b[0;34m\u001b[0m\u001b[0;34m\u001b[0m\u001b[0m\n\u001b[1;32m    178\u001b[0m         \u001b[0;32mtry\u001b[0m\u001b[0;34m:\u001b[0m\u001b[0;34m\u001b[0m\u001b[0;34m\u001b[0m\u001b[0m\n\u001b[0;32m--> 179\u001b[0;31m             \u001b[0;32mreturn\u001b[0m \u001b[0mf\u001b[0m\u001b[0;34m(\u001b[0m\u001b[0;34m*\u001b[0m\u001b[0ma\u001b[0m\u001b[0;34m,\u001b[0m \u001b[0;34m**\u001b[0m\u001b[0mkw\u001b[0m\u001b[0;34m)\u001b[0m\u001b[0;34m\u001b[0m\u001b[0;34m\u001b[0m\u001b[0m\n\u001b[0m\u001b[1;32m    180\u001b[0m         \u001b[0;32mexcept\u001b[0m \u001b[0mPy4JJavaError\u001b[0m \u001b[0;32mas\u001b[0m \u001b[0me\u001b[0m\u001b[0;34m:\u001b[0m\u001b[0;34m\u001b[0m\u001b[0;34m\u001b[0m\u001b[0m\n\u001b[1;32m    181\u001b[0m             \u001b[0mconverted\u001b[0m \u001b[0;34m=\u001b[0m \u001b[0mconvert_exception\u001b[0m\u001b[0;34m(\u001b[0m\u001b[0me\u001b[0m\u001b[0;34m.\u001b[0m\u001b[0mjava_exception\u001b[0m\u001b[0;34m)\u001b[0m\u001b[0;34m\u001b[0m\u001b[0;34m\u001b[0m\u001b[0m\n",
            "\u001b[0;32m/usr/local/lib/python3.10/dist-packages/py4j/protocol.py\u001b[0m in \u001b[0;36mget_return_value\u001b[0;34m(answer, gateway_client, target_id, name)\u001b[0m\n\u001b[1;32m    324\u001b[0m             \u001b[0mvalue\u001b[0m \u001b[0;34m=\u001b[0m \u001b[0mOUTPUT_CONVERTER\u001b[0m\u001b[0;34m[\u001b[0m\u001b[0mtype\u001b[0m\u001b[0;34m]\u001b[0m\u001b[0;34m(\u001b[0m\u001b[0manswer\u001b[0m\u001b[0;34m[\u001b[0m\u001b[0;36m2\u001b[0m\u001b[0;34m:\u001b[0m\u001b[0;34m]\u001b[0m\u001b[0;34m,\u001b[0m \u001b[0mgateway_client\u001b[0m\u001b[0;34m)\u001b[0m\u001b[0;34m\u001b[0m\u001b[0;34m\u001b[0m\u001b[0m\n\u001b[1;32m    325\u001b[0m             \u001b[0;32mif\u001b[0m \u001b[0manswer\u001b[0m\u001b[0;34m[\u001b[0m\u001b[0;36m1\u001b[0m\u001b[0;34m]\u001b[0m \u001b[0;34m==\u001b[0m \u001b[0mREFERENCE_TYPE\u001b[0m\u001b[0;34m:\u001b[0m\u001b[0;34m\u001b[0m\u001b[0;34m\u001b[0m\u001b[0m\n\u001b[0;32m--> 326\u001b[0;31m                 raise Py4JJavaError(\n\u001b[0m\u001b[1;32m    327\u001b[0m                     \u001b[0;34m\"An error occurred while calling {0}{1}{2}.\\n\"\u001b[0m\u001b[0;34m.\u001b[0m\u001b[0;34m\u001b[0m\u001b[0;34m\u001b[0m\u001b[0m\n\u001b[1;32m    328\u001b[0m                     format(target_id, \".\", name), value)\n",
            "\u001b[0;31mPy4JJavaError\u001b[0m: An error occurred while calling o915.jdbc.\n: java.lang.ClassNotFoundException: com.mysql.cj.jdbc.Driver\n\tat java.base/java.net.URLClassLoader.findClass(URLClassLoader.java:476)\n\tat java.base/java.lang.ClassLoader.loadClass(ClassLoader.java:594)\n\tat java.base/java.lang.ClassLoader.loadClass(ClassLoader.java:527)\n\tat org.apache.spark.sql.execution.datasources.jdbc.DriverRegistry$.register(DriverRegistry.scala:46)\n\tat org.apache.spark.sql.execution.datasources.jdbc.JDBCOptions.$anonfun$driverClass$1(JDBCOptions.scala:103)\n\tat org.apache.spark.sql.execution.datasources.jdbc.JDBCOptions.$anonfun$driverClass$1$adapted(JDBCOptions.scala:103)\n\tat scala.Option.foreach(Option.scala:407)\n\tat org.apache.spark.sql.execution.datasources.jdbc.JDBCOptions.<init>(JDBCOptions.scala:103)\n\tat org.apache.spark.sql.execution.datasources.jdbc.JDBCOptions.<init>(JDBCOptions.scala:41)\n\tat org.apache.spark.sql.execution.datasources.jdbc.JdbcRelationProvider.createRelation(JdbcRelationProvider.scala:34)\n\tat org.apache.spark.sql.execution.datasources.DataSource.resolveRelation(DataSource.scala:346)\n\tat org.apache.spark.sql.DataFrameReader.loadV1Source(DataFrameReader.scala:229)\n\tat org.apache.spark.sql.DataFrameReader.$anonfun$load$2(DataFrameReader.scala:211)\n\tat scala.Option.getOrElse(Option.scala:189)\n\tat org.apache.spark.sql.DataFrameReader.load(DataFrameReader.scala:211)\n\tat org.apache.spark.sql.DataFrameReader.load(DataFrameReader.scala:172)\n\tat org.apache.spark.sql.DataFrameReader.jdbc(DataFrameReader.scala:249)\n\tat java.base/jdk.internal.reflect.NativeMethodAccessorImpl.invoke0(Native Method)\n\tat java.base/jdk.internal.reflect.NativeMethodAccessorImpl.invoke(NativeMethodAccessorImpl.java:62)\n\tat java.base/jdk.internal.reflect.DelegatingMethodAccessorImpl.invoke(DelegatingMethodAccessorImpl.java:43)\n\tat java.base/java.lang.reflect.Method.invoke(Method.java:566)\n\tat py4j.reflection.MethodInvoker.invoke(MethodInvoker.java:244)\n\tat py4j.reflection.ReflectionEngine.invoke(ReflectionEngine.java:374)\n\tat py4j.Gateway.invoke(Gateway.java:282)\n\tat py4j.commands.AbstractCommand.invokeMethod(AbstractCommand.java:132)\n\tat py4j.commands.CallCommand.execute(CallCommand.java:79)\n\tat py4j.ClientServerConnection.waitForCommands(ClientServerConnection.java:182)\n\tat py4j.ClientServerConnection.run(ClientServerConnection.java:106)\n\tat java.base/java.lang.Thread.run(Thread.java:829)\n"
          ]
        }
      ]
    },
    {
      "cell_type": "code",
      "source": [
        "server.stop()"
      ],
      "metadata": {
        "id": "eYEGeDeDTFr1"
      },
      "execution_count": 71,
      "outputs": []
    },
    {
      "cell_type": "code",
      "source": [
        "excel_file_path = \"olympic_medals.xlsx\"\n",
        "df = pd.read_excel(excel_file_path)\n",
        "csv_file_path = \"./yourfile.csv\"\n",
        "df.to_csv(csv_file_path, index=False)"
      ],
      "metadata": {
        "id": "vYitXib5lMhK"
      },
      "execution_count": null,
      "outputs": []
    },
    {
      "cell_type": "code",
      "source": [
        "df_medals = spark.read \\\n",
        "    .format(\"csv\") \\\n",
        "    .option(\"header\", \"true\") \\\n",
        "    .option(\"inferSchema\", \"true\") \\\n",
        "    .load(\"./olympic_medals.csv\")\n",
        "df_medals.show()"
      ],
      "metadata": {
        "colab": {
          "base_uri": "https://localhost:8080/"
        },
        "id": "kv9yH3Zio_dJ",
        "outputId": "657a1afa-6ba9-4439-f2be-64aad785d511"
      },
      "execution_count": null,
      "outputs": [
        {
          "output_type": "stream",
          "name": "stdout",
          "text": [
            "+----------+----------------+------------+--------------------+------------+----------+----------------+-----------------+--------------------+--------------------+--------------------+------------+---------------------+\n",
            "|Unnamed: 0|discipline_title|   slug_game|         event_title|event_gender|medal_type|participant_type|participant_title|         athlete_url|   athlete_full_name|        country_name|country_code|country_3_letter_code|\n",
            "+----------+----------------+------------+--------------------+------------+----------+----------------+-----------------+--------------------+--------------------+--------------------+------------+---------------------+\n",
            "|         0|         Curling|beijing-2022|       Mixed Doubles|       Mixed|      GOLD|        GameTeam|            Italy|https://olympics....|Stefania CONSTANTINI|               Italy|          IT|                  ITA|\n",
            "|         1|         Curling|beijing-2022|       Mixed Doubles|       Mixed|      GOLD|        GameTeam|            Italy|https://olympics....|        Amos MOSANER|               Italy|          IT|                  ITA|\n",
            "|         2|         Curling|beijing-2022|       Mixed Doubles|       Mixed|    SILVER|        GameTeam|           Norway|https://olympics....|    Kristin SKASLIEN|              Norway|          NO|                  NOR|\n",
            "|         3|         Curling|beijing-2022|       Mixed Doubles|       Mixed|    SILVER|        GameTeam|           Norway|https://olympics....|  Magnus NEDREGOTTEN|              Norway|          NO|                  NOR|\n",
            "|         4|         Curling|beijing-2022|       Mixed Doubles|       Mixed|    BRONZE|        GameTeam|           Sweden|https://olympics....|       Almida DE VAL|              Sweden|          SE|                  SWE|\n",
            "|         5|         Curling|beijing-2022|       Mixed Doubles|       Mixed|    BRONZE|        GameTeam|           Sweden|https://olympics....|      Oskar ERIKSSON|              Sweden|          SE|                  SWE|\n",
            "|         6|         Curling|beijing-2022|               Women|       Women|      GOLD|        GameTeam|    Great Britain|                NULL|                NULL|       Great Britain|          GB|                  GBR|\n",
            "|         7|         Curling|beijing-2022|               Women|       Women|    SILVER|        GameTeam|            Japan|                NULL|                NULL|               Japan|          JP|                  JPN|\n",
            "|         8|         Curling|beijing-2022|               Women|       Women|    BRONZE|        GameTeam|           Sweden|                NULL|                NULL|              Sweden|          SE|                  SWE|\n",
            "|         9|         Curling|beijing-2022|                 Men|         Men|      GOLD|        GameTeam|           Sweden|                NULL|                NULL|              Sweden|          SE|                  SWE|\n",
            "|        10|         Curling|beijing-2022|                 Men|         Men|    SILVER|        GameTeam|    Great Britain|                NULL|                NULL|       Great Britain|          GB|                  GBR|\n",
            "|        11|         Curling|beijing-2022|                 Men|         Men|    BRONZE|        GameTeam|           Canada|                NULL|                NULL|              Canada|          CA|                  CAN|\n",
            "|        12|Freestyle Skiing|beijing-2022|        Men's Moguls|         Men|    SILVER|         Athlete|             NULL|https://olympics....|    Mikael KINGSBURY|              Canada|          CA|                  CAN|\n",
            "|        13|Freestyle Skiing|beijing-2022|        Men's Moguls|         Men|      GOLD|         Athlete|             NULL|https://olympics....|     Walter WALLBERG|              Sweden|          SE|                  SWE|\n",
            "|        14|Freestyle Skiing|beijing-2022|        Men's Moguls|         Men|    BRONZE|         Athlete|             NULL|https://olympics....|     Ikuma HORISHIMA|               Japan|          JP|                  JPN|\n",
            "|        15|Freestyle Skiing|beijing-2022|Men's Freeski Hal...|         Men|      GOLD|         Athlete|             NULL|https://olympics....|       Nico PORTEOUS|         New Zealand|          NZ|                  NZL|\n",
            "|        16|Freestyle Skiing|beijing-2022|Men's Freeski Hal...|         Men|    SILVER|         Athlete|             NULL|https://olympics....|          David WISE|United States of ...|          US|                  USA|\n",
            "|        17|Freestyle Skiing|beijing-2022|Men's Freeski Hal...|         Men|    BRONZE|         Athlete|             NULL|https://olympics....|       Alex FERREIRA|United States of ...|          US|                  USA|\n",
            "|        18|Freestyle Skiing|beijing-2022|Men's Freeski Big...|         Men|    BRONZE|         Athlete|             NULL|https://olympics....|      Henrik HARLAUT|              Sweden|          SE|                  SWE|\n",
            "|        19|Freestyle Skiing|beijing-2022|Men's Freeski Big...|         Men|      GOLD|         Athlete|             NULL|https://olympics....|           Birk RUUD|              Norway|          NO|                  NOR|\n",
            "+----------+----------------+------------+--------------------+------------+----------+----------------+-----------------+--------------------+--------------------+--------------------+------------+---------------------+\n",
            "only showing top 20 rows\n",
            "\n"
          ]
        }
      ]
    },
    {
      "cell_type": "code",
      "source": [
        "excel_file_path = \"olympic_athletes.json\"\n",
        "df = pd.read_json(excel_file_path)\n",
        "csv_file_path = \"./olympic_athletes.csv\"\n",
        "df.to_csv(csv_file_path, index=False)"
      ],
      "metadata": {
        "id": "t1ddnFQjsHnN"
      },
      "execution_count": null,
      "outputs": []
    },
    {
      "cell_type": "code",
      "source": [
        "df_athletes = spark.read \\\n",
        "    .format(\"csv\") \\\n",
        "    .option(\"header\", \"true\") \\\n",
        "    .option(\"inferSchema\", \"true\") \\\n",
        "    .load(\"./olympic_athletes.csv\")\n",
        "df_athletes.show()"
      ],
      "metadata": {
        "colab": {
          "base_uri": "https://localhost:8080/"
        },
        "id": "q83iU6DjspsA",
        "outputId": "0aa2bf3c-e030-40cb-9552-0f56dadd749e"
      },
      "execution_count": null,
      "outputs": [
        {
          "output_type": "stream",
          "name": "stdout",
          "text": [
            "+--------------------+--------------------+--------------------+----------------+------------------+--------------+----+\n",
            "|         athlete_url|   athlete_full_name|games_participations|      first_game|athlete_year_birth|athlete_medals| bio|\n",
            "+--------------------+--------------------+--------------------+----------------+------------------+--------------+----+\n",
            "|https://olympics....|Cooper WOODS-TOPA...|                   1|    Beijing 2022|            2000.0|          NULL|NULL|\n",
            "|https://olympics....|      Felix ELOFSSON|                   2|PyeongChang 2018|            1995.0|          NULL|NULL|\n",
            "|https://olympics....|       Dylan WALCZYK|                   1|    Beijing 2022|            1993.0|          NULL|NULL|\n",
            "|https://olympics....|       Olli PENTTALA|                   1|    Beijing 2022|            1995.0|          NULL|NULL|\n",
            "|https://olympics....|    Dmitriy REIKHERD|                   1|    Beijing 2022|            1989.0|          NULL|NULL|\n",
            "|https://olympics....|         Matt GRAHAM|                   3|      Sochi 2014|            1994.0|             \"|NULL|\n",
            "|                   1|                NULL|                NULL|            NULL|              NULL|          NULL|NULL|\n",
            "|                   S|                NULL|                NULL|            NULL|              NULL|          NULL|NULL|\n",
            "|                   ,|                NULL|                NULL|            NULL|              NULL|          NULL|NULL|\n",
            "|https://olympics....|     Ikuma HORISHIMA|                   2|PyeongChang 2018|            1997.0|             \"|NULL|\n",
            "|                   1|                NULL|                NULL|            NULL|              NULL|          NULL|NULL|\n",
            "|                   B|                NULL|                NULL|            NULL|              NULL|          NULL|NULL|\n",
            "|                   ,|                NULL|                NULL|            NULL|              NULL|          NULL|NULL|\n",
            "|https://olympics....|         Daichi HARA|                   2|PyeongChang 2018|            1997.0|             \"|NULL|\n",
            "|                   1|                NULL|                NULL|            NULL|              NULL|          NULL|NULL|\n",
            "|                   B|                NULL|                NULL|            NULL|              NULL|          NULL|NULL|\n",
            "|                   ,|                NULL|                NULL|            NULL|              NULL|          NULL|NULL|\n",
            "|https://olympics....|      Laurent DUMAIS|                   1|    Beijing 2022|            1996.0|          NULL|NULL|\n",
            "|https://olympics....|      James MATHESON|                   2|PyeongChang 2018|            1995.0|          NULL|NULL|\n",
            "|https://olympics....|      Pavel KOLMAKOV|                   3|      Sochi 2014|            1996.0|          NULL|NULL|\n",
            "+--------------------+--------------------+--------------------+----------------+------------------+--------------+----+\n",
            "only showing top 20 rows\n",
            "\n"
          ]
        }
      ]
    },
    {
      "cell_type": "code",
      "source": [
        "excel_file_path = \"olympic_results.html\"\n",
        "df = pd.read_html(excel_file_path)\n",
        "csv_file_path = \"./olympic_results.csv\"\n",
        "df.to_csv(csv_file_path, index=False)"
      ],
      "metadata": {
        "colab": {
          "base_uri": "https://localhost:8080/",
          "height": 180
        },
        "id": "6rqYy2uytXyW",
        "outputId": "ed35b7c9-3ac2-4514-e658-9a03de3bae0f"
      },
      "execution_count": null,
      "outputs": [
        {
          "output_type": "error",
          "ename": "AttributeError",
          "evalue": "'list' object has no attribute 'to_csv'",
          "traceback": [
            "\u001b[0;31m---------------------------------------------------------------------------\u001b[0m",
            "\u001b[0;31mAttributeError\u001b[0m                            Traceback (most recent call last)",
            "\u001b[0;32m<ipython-input-27-ed388764752d>\u001b[0m in \u001b[0;36m<cell line: 4>\u001b[0;34m()\u001b[0m\n\u001b[1;32m      2\u001b[0m \u001b[0mdf\u001b[0m \u001b[0;34m=\u001b[0m \u001b[0mpd\u001b[0m\u001b[0;34m.\u001b[0m\u001b[0mread_html\u001b[0m\u001b[0;34m(\u001b[0m\u001b[0mexcel_file_path\u001b[0m\u001b[0;34m)\u001b[0m\u001b[0;34m\u001b[0m\u001b[0;34m\u001b[0m\u001b[0m\n\u001b[1;32m      3\u001b[0m \u001b[0mcsv_file_path\u001b[0m \u001b[0;34m=\u001b[0m \u001b[0;34m\"./olympic_results.csv\"\u001b[0m\u001b[0;34m\u001b[0m\u001b[0;34m\u001b[0m\u001b[0m\n\u001b[0;32m----> 4\u001b[0;31m \u001b[0mdf\u001b[0m\u001b[0;34m.\u001b[0m\u001b[0mto_csv\u001b[0m\u001b[0;34m(\u001b[0m\u001b[0mcsv_file_path\u001b[0m\u001b[0;34m,\u001b[0m \u001b[0mindex\u001b[0m\u001b[0;34m=\u001b[0m\u001b[0;32mFalse\u001b[0m\u001b[0;34m)\u001b[0m\u001b[0;34m\u001b[0m\u001b[0;34m\u001b[0m\u001b[0m\n\u001b[0m",
            "\u001b[0;31mAttributeError\u001b[0m: 'list' object has no attribute 'to_csv'"
          ]
        }
      ]
    },
    {
      "cell_type": "code",
      "source": [
        "html_file_path = \"olympic_results.html\"\n",
        "dfs = pd.read_html(html_file_path)\n",
        "print(f\"Nombre de tables trouvées : {len(dfs)}\")\n",
        "df = dfs[0]\n",
        "csv_file_path = \"./olympic_results.csv\"\n",
        "df.to_csv(csv_file_path, index=False)"
      ],
      "metadata": {
        "colab": {
          "base_uri": "https://localhost:8080/"
        },
        "id": "jlNs9OHXuMs1",
        "outputId": "62d554f9-8664-494b-80d0-2df003f1ab90"
      },
      "execution_count": null,
      "outputs": [
        {
          "output_type": "stream",
          "name": "stdout",
          "text": [
            "Nombre de tables trouvées : 1\n",
            "Fichier CSV sauvegardé à l'emplacement : ./olympic_results.csv\n"
          ]
        }
      ]
    },
    {
      "cell_type": "code",
      "source": [
        "df_results = spark.read \\\n",
        "    .format(\"csv\") \\\n",
        "    .option(\"header\", \"true\") \\\n",
        "    .option(\"inferSchema\", \"true\") \\\n",
        "    .load(\"./olympic_results.csv\")\n",
        "df_results.show()"
      ],
      "metadata": {
        "colab": {
          "base_uri": "https://localhost:8080/"
        },
        "id": "9DOZSze4uhMk",
        "outputId": "058c0193-bb17-40bb-ed57-8facb9cdea53"
      },
      "execution_count": null,
      "outputs": [
        {
          "output_type": "stream",
          "name": "stdout",
          "text": [
            "+----------+----------------+-------------+------------+----------------+----------+--------------------+----------+-------------+--------------------+------------+---------------------+-----------+-----------------+----------+----------+\n",
            "|Unnamed: 0|discipline_title|  event_title|   slug_game|participant_type|medal_type|            athletes|rank_equal|rank_position|        country_name|country_code|country_3_letter_code|athlete_url|athlete_full_name|value_unit|value_type|\n",
            "+----------+----------------+-------------+------------+----------------+----------+--------------------+----------+-------------+--------------------+------------+---------------------+-----------+-----------------+----------+----------+\n",
            "|         0|         Curling|Mixed Doubles|beijing-2022|        GameTeam|      GOLD|[('Stefania CONST...|     False|            1|               Italy|          IT|                  ITA|       NULL|             NULL|      NULL|      NULL|\n",
            "|         1|         Curling|Mixed Doubles|beijing-2022|        GameTeam|    SILVER|[('Kristin SKASLI...|     False|            2|              Norway|          NO|                  NOR|       NULL|             NULL|      NULL|      NULL|\n",
            "|         2|         Curling|Mixed Doubles|beijing-2022|        GameTeam|    BRONZE|[('Almida DE VAL'...|     False|            3|              Sweden|          SE|                  SWE|       NULL|             NULL|      NULL|      NULL|\n",
            "|         3|         Curling|Mixed Doubles|beijing-2022|        GameTeam|      NULL|[('Jennifer DODDS...|     False|            4|       Great Britain|          GB|                  GBR|       NULL|             NULL|      NULL|      NULL|\n",
            "|         4|         Curling|Mixed Doubles|beijing-2022|        GameTeam|      NULL|[('Rachel HOMAN',...|     False|            5|              Canada|          CA|                  CAN|       NULL|             NULL|      NULL|      NULL|\n",
            "|         5|         Curling|Mixed Doubles|beijing-2022|        GameTeam|      NULL|[('Zuzana HAJKOVA...|     False|            6|      Czech Republic|          CZ|                  CZE|       NULL|             NULL|      NULL|      NULL|\n",
            "|         6|         Curling|Mixed Doubles|beijing-2022|        GameTeam|      NULL|[('Jenny PERRET',...|     False|            7|         Switzerland|          CH|                  SUI|       NULL|             NULL|      NULL|      NULL|\n",
            "|         7|         Curling|Mixed Doubles|beijing-2022|        GameTeam|      NULL|[('Vicky PERSINGE...|     False|            8|United States of ...|          US|                  USA|       NULL|             NULL|      NULL|      NULL|\n",
            "|         8|         Curling|Mixed Doubles|beijing-2022|        GameTeam|      NULL|[('Suyuan FAN', '...|     False|            9|People's Republic...|          CN|                  CHN|       NULL|             NULL|      NULL|      NULL|\n",
            "|         9|         Curling|Mixed Doubles|beijing-2022|        GameTeam|      NULL|[('Tahli GILL', '...|     False|           10|           Australia|          AU|                  AUS|       NULL|             NULL|      NULL|      NULL|\n",
            "|        10|         Curling|        Women|beijing-2022|        GameTeam|      GOLD|                NULL|     False|            1|       Great Britain|          GB|                  GBR|       NULL|             NULL|      NULL|      NULL|\n",
            "|        11|         Curling|        Women|beijing-2022|        GameTeam|    SILVER|                NULL|     False|            2|               Japan|          JP|                  JPN|       NULL|             NULL|      NULL|      NULL|\n",
            "|        12|         Curling|        Women|beijing-2022|        GameTeam|    BRONZE|                NULL|     False|            3|              Sweden|          SE|                  SWE|       NULL|             NULL|      NULL|      NULL|\n",
            "|        13|         Curling|        Women|beijing-2022|        GameTeam|      NULL|                NULL|     False|            4|         Switzerland|          CH|                  SUI|       NULL|             NULL|      NULL|      NULL|\n",
            "|        14|         Curling|        Women|beijing-2022|        GameTeam|      NULL|                NULL|     False|            5|              Canada|          CA|                  CAN|       NULL|             NULL|      NULL|      NULL|\n",
            "|        15|         Curling|        Women|beijing-2022|        GameTeam|      NULL|                NULL|     False|            6|United States of ...|          US|                  USA|       NULL|             NULL|      NULL|      NULL|\n",
            "|        16|         Curling|        Women|beijing-2022|        GameTeam|      NULL|                NULL|     False|            7|People's Republic...|          CN|                  CHN|       NULL|             NULL|      NULL|      NULL|\n",
            "|        17|         Curling|        Women|beijing-2022|        GameTeam|      NULL|                NULL|     False|            8|   Republic of Korea|          KR|                  KOR|       NULL|             NULL|      NULL|      NULL|\n",
            "|        18|         Curling|        Women|beijing-2022|        GameTeam|      NULL|                NULL|     False|            9|             Denmark|          DK|                  DEN|       NULL|             NULL|      NULL|      NULL|\n",
            "|        19|         Curling|        Women|beijing-2022|        GameTeam|      NULL|                NULL|     False|           10|                 ROC|         ROC|                  ROC|       NULL|             NULL|      NULL|      NULL|\n",
            "+----------+----------------+-------------+------------+----------------+----------+--------------------+----------+-------------+--------------------+------------+---------------------+-----------+-----------------+----------+----------+\n",
            "only showing top 20 rows\n",
            "\n"
          ]
        }
      ]
    },
    {
      "cell_type": "code",
      "source": [
        "excel_file_path = \"olympic_hosts.xml\"\n",
        "df = pd.read_xml(excel_file_path)\n",
        "csv_file_path = \"./olympic_hosts.csv\"\n",
        "df.to_csv(csv_file_path, index=False)"
      ],
      "metadata": {
        "id": "oOY7B7MEu4EI"
      },
      "execution_count": null,
      "outputs": []
    },
    {
      "cell_type": "code",
      "source": [
        "df_data_olympic_hosts = spark.read \\\n",
        "    .format(\"csv\") \\\n",
        "    .option(\"header\", \"true\") \\\n",
        "    .option(\"inferSchema\", \"true\") \\\n",
        "    .load(\"./olympic_hosts.csv\")\n",
        "df_data.show()"
      ],
      "metadata": {
        "colab": {
          "base_uri": "https://localhost:8080/"
        },
        "id": "0hIWQXx2vEEM",
        "outputId": "d557a79f-a582-4ed6-bc31-b9dbb0fd1ef8"
      },
      "execution_count": null,
      "outputs": [
        {
          "output_type": "stream",
          "name": "stdout",
          "text": [
            "+-----+-------------------+-------------------+-------------------+------------------+-------------------+-----------+---------+\n",
            "|index|          game_slug|      game_end_date|    game_start_date|     game_location|          game_name|game_season|game_year|\n",
            "+-----+-------------------+-------------------+-------------------+------------------+-------------------+-----------+---------+\n",
            "|    0|       beijing-2022|2022-02-20 12:00:00|2022-02-04 15:00:00|             China|       Beijing 2022|     Winter|     2022|\n",
            "|    1|         tokyo-2020|2021-08-08 14:00:00|2021-07-23 11:00:00|             Japan|         Tokyo 2020|     Summer|     2020|\n",
            "|    2|   pyeongchang-2018|2018-02-25 08:00:00|2018-02-08 23:00:00| Republic of Korea|   PyeongChang 2018|     Winter|     2018|\n",
            "|    3|           rio-2016|2016-08-21 21:00:00|2016-08-05 12:00:00|            Brazil|           Rio 2016|     Summer|     2016|\n",
            "|    4|         sochi-2014|2014-02-23 16:00:00|2014-02-07 04:00:00|Russian Federation|         Sochi 2014|     Winter|     2014|\n",
            "|    5|        london-2012|2012-08-12 19:00:00|2012-07-27 07:00:00|     Great Britain|        London 2012|     Summer|     2012|\n",
            "|    6|     vancouver-2010|2010-02-28 04:00:00|2010-02-12 16:00:00|            Canada|     Vancouver 2010|     Winter|     2010|\n",
            "|    7|       beijing-2008|2008-08-24 12:00:00|2008-08-08 00:00:00|             China|       Beijing 2008|     Summer|     2008|\n",
            "|    8|         turin-2006|2006-02-26 19:00:00|2006-02-10 07:00:00|             Italy|         Turin 2006|     Winter|     2006|\n",
            "|    9|        athens-2004|2004-08-29 18:00:00|2004-08-13 06:00:00|            Greece|        Athens 2004|     Summer|     2004|\n",
            "|   10|salt-lake-city-2002|2002-02-24 08:00:00|2002-02-08 15:00:00|     United States|Salt Lake City 2002|     Winter|     2002|\n",
            "|   11|        sydney-2000|2000-10-01 09:00:00|2000-09-15 01:00:00|         Australia|        Sydney 2000|     Summer|     2000|\n",
            "|   12|        nagano-1998|1998-02-22 11:00:00|1998-02-06 23:00:00|             Japan|        Nagano 1998|     Winter|     1998|\n",
            "|   13|       atlanta-1996|1996-08-05 21:00:00|1996-07-19 12:00:00|     United States|       Atlanta 1996|     Summer|     1996|\n",
            "|   14|   lillehammer-1994|1994-02-27 19:00:00|1994-02-12 07:00:00|            Norway|   Lillehammer 1994|     Winter|     1994|\n",
            "|   15|     barcelona-1992|1992-08-09 18:00:00|1992-07-25 06:00:00|             Spain|     Barcelona 1992|     Summer|     1992|\n",
            "|   16|   albertville-1992|1992-02-23 19:00:00|1992-02-08 07:00:00|            France|   Albertville 1992|     Winter|     1992|\n",
            "|   17|         seoul-1988|1988-10-02 10:00:00|1988-09-16 22:00:00| Republic of Korea|         Seoul 1988|     Summer|     1988|\n",
            "|   18|       calgary-1988|1988-02-28 03:00:00|1988-02-13 15:00:00|            Canada|       Calgary 1988|     Winter|     1988|\n",
            "|   19|   los-angeles-1984|1984-08-12 19:00:00|1984-07-28 15:00:00|     United States|   Los Angeles 1984|     Summer|     1984|\n",
            "+-----+-------------------+-------------------+-------------------+------------------+-------------------+-----------+---------+\n",
            "only showing top 20 rows\n",
            "\n"
          ]
        }
      ]
    },
    {
      "cell_type": "code",
      "source": [],
      "metadata": {
        "id": "Mqo5HW2g1sCY"
      },
      "execution_count": null,
      "outputs": []
    },
    {
      "cell_type": "code",
      "source": [
        "# 1. La France a organisé 6 JO : 3 d’hiver et 3 d’été (en comptant celui de 2024) ?"
      ],
      "metadata": {
        "id": "eXitgtM12LjV"
      },
      "execution_count": null,
      "outputs": []
    },
    {
      "cell_type": "code",
      "source": [
        "df_france = df_data_olympic_hosts.filter(df_data_olympic_hosts.game_location == \"France\")\n",
        "df_france.show()\n",
        "df_france_pd = df_france.toPandas()\n",
        "counts_by_season = df_france_pd['game_season'].value_counts().reset_index()\n",
        "counts_by_season.columns = ['Season', 'Count']\n",
        "\n",
        "fig = px.bar(counts_by_season, x='Season', y='Count', title='Nombre de Jeux Olympiques organisés en France par saison')\n",
        "fig.show()"
      ],
      "metadata": {
        "colab": {
          "base_uri": "https://localhost:8080/",
          "height": 721
        },
        "id": "5RrhWA3L2n6r",
        "outputId": "e63b5dd8-4e4a-401b-f036-3f9cdbbcc272"
      },
      "execution_count": null,
      "outputs": [
        {
          "output_type": "stream",
          "name": "stdout",
          "text": [
            "+-----+----------------+-------------------+-------------------+-------------+----------------+-----------+---------+\n",
            "|index|       game_slug|      game_end_date|    game_start_date|game_location|       game_name|game_season|game_year|\n",
            "+-----+----------------+-------------------+-------------------+-------------+----------------+-----------+---------+\n",
            "|   16|albertville-1992|1992-02-23 19:00:00|1992-02-08 07:00:00|       France|Albertville 1992|     Winter|     1992|\n",
            "|   28|   grenoble-1968|1968-02-18 19:00:00|1968-02-06 07:00:00|       France|   Grenoble 1968|     Winter|     1968|\n",
            "|   45|      paris-1924|1924-07-27 19:00:00|1924-05-04 07:00:00|       France|      Paris 1924|     Summer|     1924|\n",
            "|   46|   chamonix-1924|1924-02-05 20:00:00|1924-01-25 08:00:00|       France|   Chamonix 1924|     Winter|     1924|\n",
            "|   51|      paris-1900|1900-10-28 19:50:39|1900-05-14 08:50:39|       France|      Paris 1900|     Summer|     1900|\n",
            "+-----+----------------+-------------------+-------------------+-------------+----------------+-----------+---------+\n",
            "\n"
          ]
        },
        {
          "output_type": "display_data",
          "data": {
            "text/html": [
              "<html>\n",
              "<head><meta charset=\"utf-8\" /></head>\n",
              "<body>\n",
              "    <div>            <script src=\"https://cdnjs.cloudflare.com/ajax/libs/mathjax/2.7.5/MathJax.js?config=TeX-AMS-MML_SVG\"></script><script type=\"text/javascript\">if (window.MathJax && window.MathJax.Hub && window.MathJax.Hub.Config) {window.MathJax.Hub.Config({SVG: {font: \"STIX-Web\"}});}</script>                <script type=\"text/javascript\">window.PlotlyConfig = {MathJaxConfig: 'local'};</script>\n",
              "        <script charset=\"utf-8\" src=\"https://cdn.plot.ly/plotly-2.24.1.min.js\"></script>                <div id=\"8794486a-1703-4c41-b250-972233fdd0f8\" class=\"plotly-graph-div\" style=\"height:525px; width:100%;\"></div>            <script type=\"text/javascript\">                                    window.PLOTLYENV=window.PLOTLYENV || {};                                    if (document.getElementById(\"8794486a-1703-4c41-b250-972233fdd0f8\")) {                    Plotly.newPlot(                        \"8794486a-1703-4c41-b250-972233fdd0f8\",                        [{\"alignmentgroup\":\"True\",\"hovertemplate\":\"Season=%{x}\\u003cbr\\u003eCount=%{y}\\u003cextra\\u003e\\u003c\\u002fextra\\u003e\",\"legendgroup\":\"\",\"marker\":{\"color\":\"#636efa\",\"pattern\":{\"shape\":\"\"}},\"name\":\"\",\"offsetgroup\":\"\",\"orientation\":\"v\",\"showlegend\":false,\"textposition\":\"auto\",\"x\":[\"Winter\",\"Summer\"],\"xaxis\":\"x\",\"y\":[3,2],\"yaxis\":\"y\",\"type\":\"bar\"}],                        {\"template\":{\"data\":{\"histogram2dcontour\":[{\"type\":\"histogram2dcontour\",\"colorbar\":{\"outlinewidth\":0,\"ticks\":\"\"},\"colorscale\":[[0.0,\"#0d0887\"],[0.1111111111111111,\"#46039f\"],[0.2222222222222222,\"#7201a8\"],[0.3333333333333333,\"#9c179e\"],[0.4444444444444444,\"#bd3786\"],[0.5555555555555556,\"#d8576b\"],[0.6666666666666666,\"#ed7953\"],[0.7777777777777778,\"#fb9f3a\"],[0.8888888888888888,\"#fdca26\"],[1.0,\"#f0f921\"]]}],\"choropleth\":[{\"type\":\"choropleth\",\"colorbar\":{\"outlinewidth\":0,\"ticks\":\"\"}}],\"histogram2d\":[{\"type\":\"histogram2d\",\"colorbar\":{\"outlinewidth\":0,\"ticks\":\"\"},\"colorscale\":[[0.0,\"#0d0887\"],[0.1111111111111111,\"#46039f\"],[0.2222222222222222,\"#7201a8\"],[0.3333333333333333,\"#9c179e\"],[0.4444444444444444,\"#bd3786\"],[0.5555555555555556,\"#d8576b\"],[0.6666666666666666,\"#ed7953\"],[0.7777777777777778,\"#fb9f3a\"],[0.8888888888888888,\"#fdca26\"],[1.0,\"#f0f921\"]]}],\"heatmap\":[{\"type\":\"heatmap\",\"colorbar\":{\"outlinewidth\":0,\"ticks\":\"\"},\"colorscale\":[[0.0,\"#0d0887\"],[0.1111111111111111,\"#46039f\"],[0.2222222222222222,\"#7201a8\"],[0.3333333333333333,\"#9c179e\"],[0.4444444444444444,\"#bd3786\"],[0.5555555555555556,\"#d8576b\"],[0.6666666666666666,\"#ed7953\"],[0.7777777777777778,\"#fb9f3a\"],[0.8888888888888888,\"#fdca26\"],[1.0,\"#f0f921\"]]}],\"heatmapgl\":[{\"type\":\"heatmapgl\",\"colorbar\":{\"outlinewidth\":0,\"ticks\":\"\"},\"colorscale\":[[0.0,\"#0d0887\"],[0.1111111111111111,\"#46039f\"],[0.2222222222222222,\"#7201a8\"],[0.3333333333333333,\"#9c179e\"],[0.4444444444444444,\"#bd3786\"],[0.5555555555555556,\"#d8576b\"],[0.6666666666666666,\"#ed7953\"],[0.7777777777777778,\"#fb9f3a\"],[0.8888888888888888,\"#fdca26\"],[1.0,\"#f0f921\"]]}],\"contourcarpet\":[{\"type\":\"contourcarpet\",\"colorbar\":{\"outlinewidth\":0,\"ticks\":\"\"}}],\"contour\":[{\"type\":\"contour\",\"colorbar\":{\"outlinewidth\":0,\"ticks\":\"\"},\"colorscale\":[[0.0,\"#0d0887\"],[0.1111111111111111,\"#46039f\"],[0.2222222222222222,\"#7201a8\"],[0.3333333333333333,\"#9c179e\"],[0.4444444444444444,\"#bd3786\"],[0.5555555555555556,\"#d8576b\"],[0.6666666666666666,\"#ed7953\"],[0.7777777777777778,\"#fb9f3a\"],[0.8888888888888888,\"#fdca26\"],[1.0,\"#f0f921\"]]}],\"surface\":[{\"type\":\"surface\",\"colorbar\":{\"outlinewidth\":0,\"ticks\":\"\"},\"colorscale\":[[0.0,\"#0d0887\"],[0.1111111111111111,\"#46039f\"],[0.2222222222222222,\"#7201a8\"],[0.3333333333333333,\"#9c179e\"],[0.4444444444444444,\"#bd3786\"],[0.5555555555555556,\"#d8576b\"],[0.6666666666666666,\"#ed7953\"],[0.7777777777777778,\"#fb9f3a\"],[0.8888888888888888,\"#fdca26\"],[1.0,\"#f0f921\"]]}],\"mesh3d\":[{\"type\":\"mesh3d\",\"colorbar\":{\"outlinewidth\":0,\"ticks\":\"\"}}],\"scatter\":[{\"fillpattern\":{\"fillmode\":\"overlay\",\"size\":10,\"solidity\":0.2},\"type\":\"scatter\"}],\"parcoords\":[{\"type\":\"parcoords\",\"line\":{\"colorbar\":{\"outlinewidth\":0,\"ticks\":\"\"}}}],\"scatterpolargl\":[{\"type\":\"scatterpolargl\",\"marker\":{\"colorbar\":{\"outlinewidth\":0,\"ticks\":\"\"}}}],\"bar\":[{\"error_x\":{\"color\":\"#2a3f5f\"},\"error_y\":{\"color\":\"#2a3f5f\"},\"marker\":{\"line\":{\"color\":\"#E5ECF6\",\"width\":0.5},\"pattern\":{\"fillmode\":\"overlay\",\"size\":10,\"solidity\":0.2}},\"type\":\"bar\"}],\"scattergeo\":[{\"type\":\"scattergeo\",\"marker\":{\"colorbar\":{\"outlinewidth\":0,\"ticks\":\"\"}}}],\"scatterpolar\":[{\"type\":\"scatterpolar\",\"marker\":{\"colorbar\":{\"outlinewidth\":0,\"ticks\":\"\"}}}],\"histogram\":[{\"marker\":{\"pattern\":{\"fillmode\":\"overlay\",\"size\":10,\"solidity\":0.2}},\"type\":\"histogram\"}],\"scattergl\":[{\"type\":\"scattergl\",\"marker\":{\"colorbar\":{\"outlinewidth\":0,\"ticks\":\"\"}}}],\"scatter3d\":[{\"type\":\"scatter3d\",\"line\":{\"colorbar\":{\"outlinewidth\":0,\"ticks\":\"\"}},\"marker\":{\"colorbar\":{\"outlinewidth\":0,\"ticks\":\"\"}}}],\"scattermapbox\":[{\"type\":\"scattermapbox\",\"marker\":{\"colorbar\":{\"outlinewidth\":0,\"ticks\":\"\"}}}],\"scatterternary\":[{\"type\":\"scatterternary\",\"marker\":{\"colorbar\":{\"outlinewidth\":0,\"ticks\":\"\"}}}],\"scattercarpet\":[{\"type\":\"scattercarpet\",\"marker\":{\"colorbar\":{\"outlinewidth\":0,\"ticks\":\"\"}}}],\"carpet\":[{\"aaxis\":{\"endlinecolor\":\"#2a3f5f\",\"gridcolor\":\"white\",\"linecolor\":\"white\",\"minorgridcolor\":\"white\",\"startlinecolor\":\"#2a3f5f\"},\"baxis\":{\"endlinecolor\":\"#2a3f5f\",\"gridcolor\":\"white\",\"linecolor\":\"white\",\"minorgridcolor\":\"white\",\"startlinecolor\":\"#2a3f5f\"},\"type\":\"carpet\"}],\"table\":[{\"cells\":{\"fill\":{\"color\":\"#EBF0F8\"},\"line\":{\"color\":\"white\"}},\"header\":{\"fill\":{\"color\":\"#C8D4E3\"},\"line\":{\"color\":\"white\"}},\"type\":\"table\"}],\"barpolar\":[{\"marker\":{\"line\":{\"color\":\"#E5ECF6\",\"width\":0.5},\"pattern\":{\"fillmode\":\"overlay\",\"size\":10,\"solidity\":0.2}},\"type\":\"barpolar\"}],\"pie\":[{\"automargin\":true,\"type\":\"pie\"}]},\"layout\":{\"autotypenumbers\":\"strict\",\"colorway\":[\"#636efa\",\"#EF553B\",\"#00cc96\",\"#ab63fa\",\"#FFA15A\",\"#19d3f3\",\"#FF6692\",\"#B6E880\",\"#FF97FF\",\"#FECB52\"],\"font\":{\"color\":\"#2a3f5f\"},\"hovermode\":\"closest\",\"hoverlabel\":{\"align\":\"left\"},\"paper_bgcolor\":\"white\",\"plot_bgcolor\":\"#E5ECF6\",\"polar\":{\"bgcolor\":\"#E5ECF6\",\"angularaxis\":{\"gridcolor\":\"white\",\"linecolor\":\"white\",\"ticks\":\"\"},\"radialaxis\":{\"gridcolor\":\"white\",\"linecolor\":\"white\",\"ticks\":\"\"}},\"ternary\":{\"bgcolor\":\"#E5ECF6\",\"aaxis\":{\"gridcolor\":\"white\",\"linecolor\":\"white\",\"ticks\":\"\"},\"baxis\":{\"gridcolor\":\"white\",\"linecolor\":\"white\",\"ticks\":\"\"},\"caxis\":{\"gridcolor\":\"white\",\"linecolor\":\"white\",\"ticks\":\"\"}},\"coloraxis\":{\"colorbar\":{\"outlinewidth\":0,\"ticks\":\"\"}},\"colorscale\":{\"sequential\":[[0.0,\"#0d0887\"],[0.1111111111111111,\"#46039f\"],[0.2222222222222222,\"#7201a8\"],[0.3333333333333333,\"#9c179e\"],[0.4444444444444444,\"#bd3786\"],[0.5555555555555556,\"#d8576b\"],[0.6666666666666666,\"#ed7953\"],[0.7777777777777778,\"#fb9f3a\"],[0.8888888888888888,\"#fdca26\"],[1.0,\"#f0f921\"]],\"sequentialminus\":[[0.0,\"#0d0887\"],[0.1111111111111111,\"#46039f\"],[0.2222222222222222,\"#7201a8\"],[0.3333333333333333,\"#9c179e\"],[0.4444444444444444,\"#bd3786\"],[0.5555555555555556,\"#d8576b\"],[0.6666666666666666,\"#ed7953\"],[0.7777777777777778,\"#fb9f3a\"],[0.8888888888888888,\"#fdca26\"],[1.0,\"#f0f921\"]],\"diverging\":[[0,\"#8e0152\"],[0.1,\"#c51b7d\"],[0.2,\"#de77ae\"],[0.3,\"#f1b6da\"],[0.4,\"#fde0ef\"],[0.5,\"#f7f7f7\"],[0.6,\"#e6f5d0\"],[0.7,\"#b8e186\"],[0.8,\"#7fbc41\"],[0.9,\"#4d9221\"],[1,\"#276419\"]]},\"xaxis\":{\"gridcolor\":\"white\",\"linecolor\":\"white\",\"ticks\":\"\",\"title\":{\"standoff\":15},\"zerolinecolor\":\"white\",\"automargin\":true,\"zerolinewidth\":2},\"yaxis\":{\"gridcolor\":\"white\",\"linecolor\":\"white\",\"ticks\":\"\",\"title\":{\"standoff\":15},\"zerolinecolor\":\"white\",\"automargin\":true,\"zerolinewidth\":2},\"scene\":{\"xaxis\":{\"backgroundcolor\":\"#E5ECF6\",\"gridcolor\":\"white\",\"linecolor\":\"white\",\"showbackground\":true,\"ticks\":\"\",\"zerolinecolor\":\"white\",\"gridwidth\":2},\"yaxis\":{\"backgroundcolor\":\"#E5ECF6\",\"gridcolor\":\"white\",\"linecolor\":\"white\",\"showbackground\":true,\"ticks\":\"\",\"zerolinecolor\":\"white\",\"gridwidth\":2},\"zaxis\":{\"backgroundcolor\":\"#E5ECF6\",\"gridcolor\":\"white\",\"linecolor\":\"white\",\"showbackground\":true,\"ticks\":\"\",\"zerolinecolor\":\"white\",\"gridwidth\":2}},\"shapedefaults\":{\"line\":{\"color\":\"#2a3f5f\"}},\"annotationdefaults\":{\"arrowcolor\":\"#2a3f5f\",\"arrowhead\":0,\"arrowwidth\":1},\"geo\":{\"bgcolor\":\"white\",\"landcolor\":\"#E5ECF6\",\"subunitcolor\":\"white\",\"showland\":true,\"showlakes\":true,\"lakecolor\":\"white\"},\"title\":{\"x\":0.05},\"mapbox\":{\"style\":\"light\"}}},\"xaxis\":{\"anchor\":\"y\",\"domain\":[0.0,1.0],\"title\":{\"text\":\"Season\"}},\"yaxis\":{\"anchor\":\"x\",\"domain\":[0.0,1.0],\"title\":{\"text\":\"Count\"}},\"legend\":{\"tracegroupgap\":0},\"title\":{\"text\":\"Nombre de Jeux Olympiques organis\\u00e9s en France par saison\"},\"barmode\":\"relative\"},                        {\"responsive\": true}                    ).then(function(){\n",
              "                            \n",
              "var gd = document.getElementById('8794486a-1703-4c41-b250-972233fdd0f8');\n",
              "var x = new MutationObserver(function (mutations, observer) {{\n",
              "        var display = window.getComputedStyle(gd).display;\n",
              "        if (!display || display === 'none') {{\n",
              "            console.log([gd, 'removed!']);\n",
              "            Plotly.purge(gd);\n",
              "            observer.disconnect();\n",
              "        }}\n",
              "}});\n",
              "\n",
              "// Listen for the removal of the full notebook cells\n",
              "var notebookContainer = gd.closest('#notebook-container');\n",
              "if (notebookContainer) {{\n",
              "    x.observe(notebookContainer, {childList: true});\n",
              "}}\n",
              "\n",
              "// Listen for the clearing of the current output cell\n",
              "var outputEl = gd.closest('.output');\n",
              "if (outputEl) {{\n",
              "    x.observe(outputEl, {childList: true});\n",
              "}}\n",
              "\n",
              "                        })                };                            </script>        </div>\n",
              "</body>\n",
              "</html>"
            ]
          },
          "metadata": {}
        }
      ]
    },
    {
      "cell_type": "code",
      "source": [
        "# 2. La France est le 2è pays qui a organisé le plus de JO après les USA (8 JO) ?"
      ],
      "metadata": {
        "id": "xGdesQGN3Hvu"
      },
      "execution_count": null,
      "outputs": []
    },
    {
      "cell_type": "code",
      "source": [
        "df_host_counts = df_data_olympic_hosts.groupBy(\"game_location\").count().orderBy(\"count\", ascending=False)\n",
        "df_host_counts.show()\n",
        "df_host_counts_pd = df_host_counts.toPandas()\n",
        "fig = px.bar(df_host_counts_pd, x='game_location', y='count', title='Nombre de Jeux Olympiques organisés par pays')\n",
        "fig.show()"
      ],
      "metadata": {
        "colab": {
          "base_uri": "https://localhost:8080/",
          "height": 1000
        },
        "id": "0krQamTi3Dwt",
        "outputId": "1e6fc2c5-6065-41f2-acc6-d62be64f2f43"
      },
      "execution_count": null,
      "outputs": [
        {
          "output_type": "stream",
          "name": "stdout",
          "text": [
            "+--------------------+-----+\n",
            "|       game_location|count|\n",
            "+--------------------+-----+\n",
            "|       United States|    8|\n",
            "|              France|    5|\n",
            "|               Japan|    4|\n",
            "|       Great Britain|    3|\n",
            "|               Italy|    3|\n",
            "|              Canada|    3|\n",
            "|   Republic of Korea|    2|\n",
            "|             Germany|    2|\n",
            "|              Greece|    2|\n",
            "|               China|    2|\n",
            "|              Norway|    2|\n",
            "|         Switzerland|    2|\n",
            "|             Austria|    2|\n",
            "|              Sweden|    1|\n",
            "|             Belgium|    1|\n",
            "|             Finland|    1|\n",
            "|               Spain|    1|\n",
            "|  Russian Federation|    1|\n",
            "|Federal Republic ...|    1|\n",
            "|              Mexico|    1|\n",
            "+--------------------+-----+\n",
            "only showing top 20 rows\n",
            "\n"
          ]
        },
        {
          "output_type": "display_data",
          "data": {
            "text/html": [
              "<html>\n",
              "<head><meta charset=\"utf-8\" /></head>\n",
              "<body>\n",
              "    <div>            <script src=\"https://cdnjs.cloudflare.com/ajax/libs/mathjax/2.7.5/MathJax.js?config=TeX-AMS-MML_SVG\"></script><script type=\"text/javascript\">if (window.MathJax && window.MathJax.Hub && window.MathJax.Hub.Config) {window.MathJax.Hub.Config({SVG: {font: \"STIX-Web\"}});}</script>                <script type=\"text/javascript\">window.PlotlyConfig = {MathJaxConfig: 'local'};</script>\n",
              "        <script charset=\"utf-8\" src=\"https://cdn.plot.ly/plotly-2.24.1.min.js\"></script>                <div id=\"636e8c02-e2ac-4d14-aab5-5f6d47a2bc24\" class=\"plotly-graph-div\" style=\"height:525px; width:100%;\"></div>            <script type=\"text/javascript\">                                    window.PLOTLYENV=window.PLOTLYENV || {};                                    if (document.getElementById(\"636e8c02-e2ac-4d14-aab5-5f6d47a2bc24\")) {                    Plotly.newPlot(                        \"636e8c02-e2ac-4d14-aab5-5f6d47a2bc24\",                        [{\"alignmentgroup\":\"True\",\"hovertemplate\":\"game_location=%{x}\\u003cbr\\u003ecount=%{y}\\u003cextra\\u003e\\u003c\\u002fextra\\u003e\",\"legendgroup\":\"\",\"marker\":{\"color\":\"#636efa\",\"pattern\":{\"shape\":\"\"}},\"name\":\"\",\"offsetgroup\":\"\",\"orientation\":\"v\",\"showlegend\":false,\"textposition\":\"auto\",\"x\":[\"United States\",\"France\",\"Japan\",\"Great Britain\",\"Italy\",\"Canada\",\"Republic of Korea\",\"Germany\",\"Greece\",\"China\",\"Norway\",\"Switzerland\",\"Austria\",\"Sweden\",\"Belgium\",\"Finland\",\"Spain\",\"Russian Federation\",\"Federal Republic of Germany\",\"Mexico\",\"Yugoslavia\",\"USSR\",\"Australia, Sweden\",\"Brazil\",\"Australia\",\"Netherlands\"],\"xaxis\":\"x\",\"y\":[8,5,4,3,3,3,2,2,2,2,2,2,2,1,1,1,1,1,1,1,1,1,1,1,1,1],\"yaxis\":\"y\",\"type\":\"bar\"}],                        {\"template\":{\"data\":{\"histogram2dcontour\":[{\"type\":\"histogram2dcontour\",\"colorbar\":{\"outlinewidth\":0,\"ticks\":\"\"},\"colorscale\":[[0.0,\"#0d0887\"],[0.1111111111111111,\"#46039f\"],[0.2222222222222222,\"#7201a8\"],[0.3333333333333333,\"#9c179e\"],[0.4444444444444444,\"#bd3786\"],[0.5555555555555556,\"#d8576b\"],[0.6666666666666666,\"#ed7953\"],[0.7777777777777778,\"#fb9f3a\"],[0.8888888888888888,\"#fdca26\"],[1.0,\"#f0f921\"]]}],\"choropleth\":[{\"type\":\"choropleth\",\"colorbar\":{\"outlinewidth\":0,\"ticks\":\"\"}}],\"histogram2d\":[{\"type\":\"histogram2d\",\"colorbar\":{\"outlinewidth\":0,\"ticks\":\"\"},\"colorscale\":[[0.0,\"#0d0887\"],[0.1111111111111111,\"#46039f\"],[0.2222222222222222,\"#7201a8\"],[0.3333333333333333,\"#9c179e\"],[0.4444444444444444,\"#bd3786\"],[0.5555555555555556,\"#d8576b\"],[0.6666666666666666,\"#ed7953\"],[0.7777777777777778,\"#fb9f3a\"],[0.8888888888888888,\"#fdca26\"],[1.0,\"#f0f921\"]]}],\"heatmap\":[{\"type\":\"heatmap\",\"colorbar\":{\"outlinewidth\":0,\"ticks\":\"\"},\"colorscale\":[[0.0,\"#0d0887\"],[0.1111111111111111,\"#46039f\"],[0.2222222222222222,\"#7201a8\"],[0.3333333333333333,\"#9c179e\"],[0.4444444444444444,\"#bd3786\"],[0.5555555555555556,\"#d8576b\"],[0.6666666666666666,\"#ed7953\"],[0.7777777777777778,\"#fb9f3a\"],[0.8888888888888888,\"#fdca26\"],[1.0,\"#f0f921\"]]}],\"heatmapgl\":[{\"type\":\"heatmapgl\",\"colorbar\":{\"outlinewidth\":0,\"ticks\":\"\"},\"colorscale\":[[0.0,\"#0d0887\"],[0.1111111111111111,\"#46039f\"],[0.2222222222222222,\"#7201a8\"],[0.3333333333333333,\"#9c179e\"],[0.4444444444444444,\"#bd3786\"],[0.5555555555555556,\"#d8576b\"],[0.6666666666666666,\"#ed7953\"],[0.7777777777777778,\"#fb9f3a\"],[0.8888888888888888,\"#fdca26\"],[1.0,\"#f0f921\"]]}],\"contourcarpet\":[{\"type\":\"contourcarpet\",\"colorbar\":{\"outlinewidth\":0,\"ticks\":\"\"}}],\"contour\":[{\"type\":\"contour\",\"colorbar\":{\"outlinewidth\":0,\"ticks\":\"\"},\"colorscale\":[[0.0,\"#0d0887\"],[0.1111111111111111,\"#46039f\"],[0.2222222222222222,\"#7201a8\"],[0.3333333333333333,\"#9c179e\"],[0.4444444444444444,\"#bd3786\"],[0.5555555555555556,\"#d8576b\"],[0.6666666666666666,\"#ed7953\"],[0.7777777777777778,\"#fb9f3a\"],[0.8888888888888888,\"#fdca26\"],[1.0,\"#f0f921\"]]}],\"surface\":[{\"type\":\"surface\",\"colorbar\":{\"outlinewidth\":0,\"ticks\":\"\"},\"colorscale\":[[0.0,\"#0d0887\"],[0.1111111111111111,\"#46039f\"],[0.2222222222222222,\"#7201a8\"],[0.3333333333333333,\"#9c179e\"],[0.4444444444444444,\"#bd3786\"],[0.5555555555555556,\"#d8576b\"],[0.6666666666666666,\"#ed7953\"],[0.7777777777777778,\"#fb9f3a\"],[0.8888888888888888,\"#fdca26\"],[1.0,\"#f0f921\"]]}],\"mesh3d\":[{\"type\":\"mesh3d\",\"colorbar\":{\"outlinewidth\":0,\"ticks\":\"\"}}],\"scatter\":[{\"fillpattern\":{\"fillmode\":\"overlay\",\"size\":10,\"solidity\":0.2},\"type\":\"scatter\"}],\"parcoords\":[{\"type\":\"parcoords\",\"line\":{\"colorbar\":{\"outlinewidth\":0,\"ticks\":\"\"}}}],\"scatterpolargl\":[{\"type\":\"scatterpolargl\",\"marker\":{\"colorbar\":{\"outlinewidth\":0,\"ticks\":\"\"}}}],\"bar\":[{\"error_x\":{\"color\":\"#2a3f5f\"},\"error_y\":{\"color\":\"#2a3f5f\"},\"marker\":{\"line\":{\"color\":\"#E5ECF6\",\"width\":0.5},\"pattern\":{\"fillmode\":\"overlay\",\"size\":10,\"solidity\":0.2}},\"type\":\"bar\"}],\"scattergeo\":[{\"type\":\"scattergeo\",\"marker\":{\"colorbar\":{\"outlinewidth\":0,\"ticks\":\"\"}}}],\"scatterpolar\":[{\"type\":\"scatterpolar\",\"marker\":{\"colorbar\":{\"outlinewidth\":0,\"ticks\":\"\"}}}],\"histogram\":[{\"marker\":{\"pattern\":{\"fillmode\":\"overlay\",\"size\":10,\"solidity\":0.2}},\"type\":\"histogram\"}],\"scattergl\":[{\"type\":\"scattergl\",\"marker\":{\"colorbar\":{\"outlinewidth\":0,\"ticks\":\"\"}}}],\"scatter3d\":[{\"type\":\"scatter3d\",\"line\":{\"colorbar\":{\"outlinewidth\":0,\"ticks\":\"\"}},\"marker\":{\"colorbar\":{\"outlinewidth\":0,\"ticks\":\"\"}}}],\"scattermapbox\":[{\"type\":\"scattermapbox\",\"marker\":{\"colorbar\":{\"outlinewidth\":0,\"ticks\":\"\"}}}],\"scatterternary\":[{\"type\":\"scatterternary\",\"marker\":{\"colorbar\":{\"outlinewidth\":0,\"ticks\":\"\"}}}],\"scattercarpet\":[{\"type\":\"scattercarpet\",\"marker\":{\"colorbar\":{\"outlinewidth\":0,\"ticks\":\"\"}}}],\"carpet\":[{\"aaxis\":{\"endlinecolor\":\"#2a3f5f\",\"gridcolor\":\"white\",\"linecolor\":\"white\",\"minorgridcolor\":\"white\",\"startlinecolor\":\"#2a3f5f\"},\"baxis\":{\"endlinecolor\":\"#2a3f5f\",\"gridcolor\":\"white\",\"linecolor\":\"white\",\"minorgridcolor\":\"white\",\"startlinecolor\":\"#2a3f5f\"},\"type\":\"carpet\"}],\"table\":[{\"cells\":{\"fill\":{\"color\":\"#EBF0F8\"},\"line\":{\"color\":\"white\"}},\"header\":{\"fill\":{\"color\":\"#C8D4E3\"},\"line\":{\"color\":\"white\"}},\"type\":\"table\"}],\"barpolar\":[{\"marker\":{\"line\":{\"color\":\"#E5ECF6\",\"width\":0.5},\"pattern\":{\"fillmode\":\"overlay\",\"size\":10,\"solidity\":0.2}},\"type\":\"barpolar\"}],\"pie\":[{\"automargin\":true,\"type\":\"pie\"}]},\"layout\":{\"autotypenumbers\":\"strict\",\"colorway\":[\"#636efa\",\"#EF553B\",\"#00cc96\",\"#ab63fa\",\"#FFA15A\",\"#19d3f3\",\"#FF6692\",\"#B6E880\",\"#FF97FF\",\"#FECB52\"],\"font\":{\"color\":\"#2a3f5f\"},\"hovermode\":\"closest\",\"hoverlabel\":{\"align\":\"left\"},\"paper_bgcolor\":\"white\",\"plot_bgcolor\":\"#E5ECF6\",\"polar\":{\"bgcolor\":\"#E5ECF6\",\"angularaxis\":{\"gridcolor\":\"white\",\"linecolor\":\"white\",\"ticks\":\"\"},\"radialaxis\":{\"gridcolor\":\"white\",\"linecolor\":\"white\",\"ticks\":\"\"}},\"ternary\":{\"bgcolor\":\"#E5ECF6\",\"aaxis\":{\"gridcolor\":\"white\",\"linecolor\":\"white\",\"ticks\":\"\"},\"baxis\":{\"gridcolor\":\"white\",\"linecolor\":\"white\",\"ticks\":\"\"},\"caxis\":{\"gridcolor\":\"white\",\"linecolor\":\"white\",\"ticks\":\"\"}},\"coloraxis\":{\"colorbar\":{\"outlinewidth\":0,\"ticks\":\"\"}},\"colorscale\":{\"sequential\":[[0.0,\"#0d0887\"],[0.1111111111111111,\"#46039f\"],[0.2222222222222222,\"#7201a8\"],[0.3333333333333333,\"#9c179e\"],[0.4444444444444444,\"#bd3786\"],[0.5555555555555556,\"#d8576b\"],[0.6666666666666666,\"#ed7953\"],[0.7777777777777778,\"#fb9f3a\"],[0.8888888888888888,\"#fdca26\"],[1.0,\"#f0f921\"]],\"sequentialminus\":[[0.0,\"#0d0887\"],[0.1111111111111111,\"#46039f\"],[0.2222222222222222,\"#7201a8\"],[0.3333333333333333,\"#9c179e\"],[0.4444444444444444,\"#bd3786\"],[0.5555555555555556,\"#d8576b\"],[0.6666666666666666,\"#ed7953\"],[0.7777777777777778,\"#fb9f3a\"],[0.8888888888888888,\"#fdca26\"],[1.0,\"#f0f921\"]],\"diverging\":[[0,\"#8e0152\"],[0.1,\"#c51b7d\"],[0.2,\"#de77ae\"],[0.3,\"#f1b6da\"],[0.4,\"#fde0ef\"],[0.5,\"#f7f7f7\"],[0.6,\"#e6f5d0\"],[0.7,\"#b8e186\"],[0.8,\"#7fbc41\"],[0.9,\"#4d9221\"],[1,\"#276419\"]]},\"xaxis\":{\"gridcolor\":\"white\",\"linecolor\":\"white\",\"ticks\":\"\",\"title\":{\"standoff\":15},\"zerolinecolor\":\"white\",\"automargin\":true,\"zerolinewidth\":2},\"yaxis\":{\"gridcolor\":\"white\",\"linecolor\":\"white\",\"ticks\":\"\",\"title\":{\"standoff\":15},\"zerolinecolor\":\"white\",\"automargin\":true,\"zerolinewidth\":2},\"scene\":{\"xaxis\":{\"backgroundcolor\":\"#E5ECF6\",\"gridcolor\":\"white\",\"linecolor\":\"white\",\"showbackground\":true,\"ticks\":\"\",\"zerolinecolor\":\"white\",\"gridwidth\":2},\"yaxis\":{\"backgroundcolor\":\"#E5ECF6\",\"gridcolor\":\"white\",\"linecolor\":\"white\",\"showbackground\":true,\"ticks\":\"\",\"zerolinecolor\":\"white\",\"gridwidth\":2},\"zaxis\":{\"backgroundcolor\":\"#E5ECF6\",\"gridcolor\":\"white\",\"linecolor\":\"white\",\"showbackground\":true,\"ticks\":\"\",\"zerolinecolor\":\"white\",\"gridwidth\":2}},\"shapedefaults\":{\"line\":{\"color\":\"#2a3f5f\"}},\"annotationdefaults\":{\"arrowcolor\":\"#2a3f5f\",\"arrowhead\":0,\"arrowwidth\":1},\"geo\":{\"bgcolor\":\"white\",\"landcolor\":\"#E5ECF6\",\"subunitcolor\":\"white\",\"showland\":true,\"showlakes\":true,\"lakecolor\":\"white\"},\"title\":{\"x\":0.05},\"mapbox\":{\"style\":\"light\"}}},\"xaxis\":{\"anchor\":\"y\",\"domain\":[0.0,1.0],\"title\":{\"text\":\"game_location\"}},\"yaxis\":{\"anchor\":\"x\",\"domain\":[0.0,1.0],\"title\":{\"text\":\"count\"}},\"legend\":{\"tracegroupgap\":0},\"title\":{\"text\":\"Nombre de Jeux Olympiques organis\\u00e9s par pays\"},\"barmode\":\"relative\"},                        {\"responsive\": true}                    ).then(function(){\n",
              "                            \n",
              "var gd = document.getElementById('636e8c02-e2ac-4d14-aab5-5f6d47a2bc24');\n",
              "var x = new MutationObserver(function (mutations, observer) {{\n",
              "        var display = window.getComputedStyle(gd).display;\n",
              "        if (!display || display === 'none') {{\n",
              "            console.log([gd, 'removed!']);\n",
              "            Plotly.purge(gd);\n",
              "            observer.disconnect();\n",
              "        }}\n",
              "}});\n",
              "\n",
              "// Listen for the removal of the full notebook cells\n",
              "var notebookContainer = gd.closest('#notebook-container');\n",
              "if (notebookContainer) {{\n",
              "    x.observe(notebookContainer, {childList: true});\n",
              "}}\n",
              "\n",
              "// Listen for the clearing of the current output cell\n",
              "var outputEl = gd.closest('.output');\n",
              "if (outputEl) {{\n",
              "    x.observe(outputEl, {childList: true});\n",
              "}}\n",
              "\n",
              "                        })                };                            </script>        </div>\n",
              "</body>\n",
              "</html>"
            ]
          },
          "metadata": {}
        }
      ]
    },
    {
      "cell_type": "code",
      "source": [
        "# 3. Les JO d’hiver sont nés à Chamonix en 1924 ?"
      ],
      "metadata": {
        "id": "3guSBkuf3jgu"
      },
      "execution_count": null,
      "outputs": []
    },
    {
      "cell_type": "code",
      "source": [
        "df_chamonix_1924 = df_data_olympic_hosts.filter(\n",
        "    (df_data_olympic_hosts.game_location == \"France\") &\n",
        "    (df_data_olympic_hosts.game_name == \"Chamonix 1924\") &\n",
        "    (df_data_olympic_hosts.game_season == \"Winter\")\n",
        ")\n",
        "\n",
        "df_chamonix_1924.show()"
      ],
      "metadata": {
        "colab": {
          "base_uri": "https://localhost:8080/"
        },
        "id": "6DSp8XV33bGd",
        "outputId": "bc5c3603-22af-4913-9894-682be3e09f23"
      },
      "execution_count": null,
      "outputs": [
        {
          "output_type": "stream",
          "name": "stdout",
          "text": [
            "+-----+-------------+-------------------+-------------------+-------------+-------------+-----------+---------+\n",
            "|index|    game_slug|      game_end_date|    game_start_date|game_location|    game_name|game_season|game_year|\n",
            "+-----+-------------+-------------------+-------------------+-------------+-------------+-----------+---------+\n",
            "|   46|chamonix-1924|1924-02-05 20:00:00|1924-01-25 08:00:00|       France|Chamonix 1924|     Winter|     1924|\n",
            "+-----+-------------+-------------------+-------------------+-------------+-------------+-----------+---------+\n",
            "\n"
          ]
        }
      ]
    },
    {
      "cell_type": "code",
      "source": [
        "# 4. JO de Paris, en 1900 : les femmes peuvent participer aux JO ?\n"
      ],
      "metadata": {
        "id": "rx53qCcm3-Rr"
      },
      "execution_count": null,
      "outputs": []
    },
    {
      "cell_type": "code",
      "source": [
        "# 5. Seuls 4 athlètes ont remporté des médailles à la fois aux JO d’hiver et d’été. Une seule d’entre eux, Christa Ludinger-Rothenburger, a remporté des médailles au cours de la même année ?\n"
      ],
      "metadata": {
        "id": "NFUB945g3_vM"
      },
      "execution_count": null,
      "outputs": []
    },
    {
      "cell_type": "code",
      "source": [
        "# 6. De 1924 à 1992, les JO d’hiver et d’été avaient lieu au cours de la même année. Désormais, ils sont organisés selon des cycles distincts avec une alternance de 2 ans ?\n"
      ],
      "metadata": {
        "id": "xdgwmTle4A2Z"
      },
      "execution_count": null,
      "outputs": []
    },
    {
      "cell_type": "code",
      "source": [
        "# 7. Tarzan lui-même a participé aux JO. En effet, Johnny Weissmuller, ancien athlète devenu acteur et ayant interprété 12 films de Tarzan, a remporté 5 médailles d’or en natation dans les années 1920 ?\n"
      ],
      "metadata": {
        "id": "gnnJCuWG4CB5"
      },
      "execution_count": null,
      "outputs": []
    },
    {
      "cell_type": "code",
      "source": [
        "# 8. Les JO de Londres de 2012 ont été les 1ers JO durant lesquels tous les pays participants ont envoyé des athlètes de sexe féminin ?\n"
      ],
      "metadata": {
        "id": "wXJKx2Gt4DPu"
      },
      "execution_count": null,
      "outputs": []
    },
    {
      "cell_type": "code",
      "source": [
        "# 9. Les sports suivants ne font (malheureusement) plus partie des J.O : la natation synchronisée en solo, le tir à la corde, la corde à grimper, la montgolfière, le duel au pistolet, le vélo tandem, la course d’obstacles à la nage et le plongeon à distance. Par chance, le tir au pigeon n’a été mis en place qu’une seule fois pendant les Jeux Olympiques de Paris de 1900 ?\n"
      ],
      "metadata": {
        "id": "ldKqa3zt4EfR"
      },
      "execution_count": null,
      "outputs": []
    },
    {
      "cell_type": "code",
      "source": [
        "# 10. Les Jeux de 2016, à Rio, marqueront la 1è manifestation des JO en Amérique du Sud ?\n"
      ],
      "metadata": {
        "id": "CCX9xwNp4Fge"
      },
      "execution_count": null,
      "outputs": []
    },
    {
      "cell_type": "code",
      "source": [
        "# 11. Pendant les 17 jours des JO d’été de 2016, 10 500 athlètes, originaires de 205 pays, représenteront 42 sports différents et participeront à 306 épreuves, à Rio ?\n"
      ],
      "metadata": {
        "id": "6o08xMhK4GpI"
      },
      "execution_count": null,
      "outputs": []
    },
    {
      "cell_type": "code",
      "source": [
        "# 1. Combien de médailles la France a remporté : en tout, en Or, en argent et en Bronze (depuis le début des JO) ?\n"
      ],
      "metadata": {
        "id": "qB58lBZo4IA7"
      },
      "execution_count": null,
      "outputs": []
    },
    {
      "cell_type": "code",
      "source": [
        "df_france_medals = df_results.filter((col(\"country_3_letter_code\") == \"FRA\") & (col(\"medal_type\").isNotNull()))\n",
        "medals_count = df_france_medals.groupBy(\"medal_type\").agg(count(\"*\").alias(\"Count\"))\n",
        "medals_count.show()\n",
        "medals_count_pd = medals_count.toPandas()\n",
        "\n",
        "fig = px.bar(medals_count_pd, x='medal_type', y='Count', title='Nombre de médailles remportées par la France')\n",
        "fig.show()"
      ],
      "metadata": {
        "colab": {
          "base_uri": "https://localhost:8080/",
          "height": 685
        },
        "id": "if_3EQvL7VcD",
        "outputId": "2c897ddd-d385-4d4d-c160-66fe68f30b20"
      },
      "execution_count": null,
      "outputs": [
        {
          "output_type": "stream",
          "name": "stdout",
          "text": [
            "+----------+-----+\n",
            "|medal_type|Count|\n",
            "+----------+-----+\n",
            "|    SILVER|  172|\n",
            "|      GOLD|  154|\n",
            "|    BRONZE|  217|\n",
            "+----------+-----+\n",
            "\n"
          ]
        },
        {
          "output_type": "display_data",
          "data": {
            "text/html": [
              "<html>\n",
              "<head><meta charset=\"utf-8\" /></head>\n",
              "<body>\n",
              "    <div>            <script src=\"https://cdnjs.cloudflare.com/ajax/libs/mathjax/2.7.5/MathJax.js?config=TeX-AMS-MML_SVG\"></script><script type=\"text/javascript\">if (window.MathJax && window.MathJax.Hub && window.MathJax.Hub.Config) {window.MathJax.Hub.Config({SVG: {font: \"STIX-Web\"}});}</script>                <script type=\"text/javascript\">window.PlotlyConfig = {MathJaxConfig: 'local'};</script>\n",
              "        <script charset=\"utf-8\" src=\"https://cdn.plot.ly/plotly-2.24.1.min.js\"></script>                <div id=\"5dfea956-9b24-471c-99a9-57ad4302373e\" class=\"plotly-graph-div\" style=\"height:525px; width:100%;\"></div>            <script type=\"text/javascript\">                                    window.PLOTLYENV=window.PLOTLYENV || {};                                    if (document.getElementById(\"5dfea956-9b24-471c-99a9-57ad4302373e\")) {                    Plotly.newPlot(                        \"5dfea956-9b24-471c-99a9-57ad4302373e\",                        [{\"alignmentgroup\":\"True\",\"hovertemplate\":\"medal_type=%{x}\\u003cbr\\u003eCount=%{y}\\u003cextra\\u003e\\u003c\\u002fextra\\u003e\",\"legendgroup\":\"\",\"marker\":{\"color\":\"#636efa\",\"pattern\":{\"shape\":\"\"}},\"name\":\"\",\"offsetgroup\":\"\",\"orientation\":\"v\",\"showlegend\":false,\"textposition\":\"auto\",\"x\":[\"SILVER\",\"GOLD\",\"BRONZE\"],\"xaxis\":\"x\",\"y\":[172,154,217],\"yaxis\":\"y\",\"type\":\"bar\"}],                        {\"template\":{\"data\":{\"histogram2dcontour\":[{\"type\":\"histogram2dcontour\",\"colorbar\":{\"outlinewidth\":0,\"ticks\":\"\"},\"colorscale\":[[0.0,\"#0d0887\"],[0.1111111111111111,\"#46039f\"],[0.2222222222222222,\"#7201a8\"],[0.3333333333333333,\"#9c179e\"],[0.4444444444444444,\"#bd3786\"],[0.5555555555555556,\"#d8576b\"],[0.6666666666666666,\"#ed7953\"],[0.7777777777777778,\"#fb9f3a\"],[0.8888888888888888,\"#fdca26\"],[1.0,\"#f0f921\"]]}],\"choropleth\":[{\"type\":\"choropleth\",\"colorbar\":{\"outlinewidth\":0,\"ticks\":\"\"}}],\"histogram2d\":[{\"type\":\"histogram2d\",\"colorbar\":{\"outlinewidth\":0,\"ticks\":\"\"},\"colorscale\":[[0.0,\"#0d0887\"],[0.1111111111111111,\"#46039f\"],[0.2222222222222222,\"#7201a8\"],[0.3333333333333333,\"#9c179e\"],[0.4444444444444444,\"#bd3786\"],[0.5555555555555556,\"#d8576b\"],[0.6666666666666666,\"#ed7953\"],[0.7777777777777778,\"#fb9f3a\"],[0.8888888888888888,\"#fdca26\"],[1.0,\"#f0f921\"]]}],\"heatmap\":[{\"type\":\"heatmap\",\"colorbar\":{\"outlinewidth\":0,\"ticks\":\"\"},\"colorscale\":[[0.0,\"#0d0887\"],[0.1111111111111111,\"#46039f\"],[0.2222222222222222,\"#7201a8\"],[0.3333333333333333,\"#9c179e\"],[0.4444444444444444,\"#bd3786\"],[0.5555555555555556,\"#d8576b\"],[0.6666666666666666,\"#ed7953\"],[0.7777777777777778,\"#fb9f3a\"],[0.8888888888888888,\"#fdca26\"],[1.0,\"#f0f921\"]]}],\"heatmapgl\":[{\"type\":\"heatmapgl\",\"colorbar\":{\"outlinewidth\":0,\"ticks\":\"\"},\"colorscale\":[[0.0,\"#0d0887\"],[0.1111111111111111,\"#46039f\"],[0.2222222222222222,\"#7201a8\"],[0.3333333333333333,\"#9c179e\"],[0.4444444444444444,\"#bd3786\"],[0.5555555555555556,\"#d8576b\"],[0.6666666666666666,\"#ed7953\"],[0.7777777777777778,\"#fb9f3a\"],[0.8888888888888888,\"#fdca26\"],[1.0,\"#f0f921\"]]}],\"contourcarpet\":[{\"type\":\"contourcarpet\",\"colorbar\":{\"outlinewidth\":0,\"ticks\":\"\"}}],\"contour\":[{\"type\":\"contour\",\"colorbar\":{\"outlinewidth\":0,\"ticks\":\"\"},\"colorscale\":[[0.0,\"#0d0887\"],[0.1111111111111111,\"#46039f\"],[0.2222222222222222,\"#7201a8\"],[0.3333333333333333,\"#9c179e\"],[0.4444444444444444,\"#bd3786\"],[0.5555555555555556,\"#d8576b\"],[0.6666666666666666,\"#ed7953\"],[0.7777777777777778,\"#fb9f3a\"],[0.8888888888888888,\"#fdca26\"],[1.0,\"#f0f921\"]]}],\"surface\":[{\"type\":\"surface\",\"colorbar\":{\"outlinewidth\":0,\"ticks\":\"\"},\"colorscale\":[[0.0,\"#0d0887\"],[0.1111111111111111,\"#46039f\"],[0.2222222222222222,\"#7201a8\"],[0.3333333333333333,\"#9c179e\"],[0.4444444444444444,\"#bd3786\"],[0.5555555555555556,\"#d8576b\"],[0.6666666666666666,\"#ed7953\"],[0.7777777777777778,\"#fb9f3a\"],[0.8888888888888888,\"#fdca26\"],[1.0,\"#f0f921\"]]}],\"mesh3d\":[{\"type\":\"mesh3d\",\"colorbar\":{\"outlinewidth\":0,\"ticks\":\"\"}}],\"scatter\":[{\"fillpattern\":{\"fillmode\":\"overlay\",\"size\":10,\"solidity\":0.2},\"type\":\"scatter\"}],\"parcoords\":[{\"type\":\"parcoords\",\"line\":{\"colorbar\":{\"outlinewidth\":0,\"ticks\":\"\"}}}],\"scatterpolargl\":[{\"type\":\"scatterpolargl\",\"marker\":{\"colorbar\":{\"outlinewidth\":0,\"ticks\":\"\"}}}],\"bar\":[{\"error_x\":{\"color\":\"#2a3f5f\"},\"error_y\":{\"color\":\"#2a3f5f\"},\"marker\":{\"line\":{\"color\":\"#E5ECF6\",\"width\":0.5},\"pattern\":{\"fillmode\":\"overlay\",\"size\":10,\"solidity\":0.2}},\"type\":\"bar\"}],\"scattergeo\":[{\"type\":\"scattergeo\",\"marker\":{\"colorbar\":{\"outlinewidth\":0,\"ticks\":\"\"}}}],\"scatterpolar\":[{\"type\":\"scatterpolar\",\"marker\":{\"colorbar\":{\"outlinewidth\":0,\"ticks\":\"\"}}}],\"histogram\":[{\"marker\":{\"pattern\":{\"fillmode\":\"overlay\",\"size\":10,\"solidity\":0.2}},\"type\":\"histogram\"}],\"scattergl\":[{\"type\":\"scattergl\",\"marker\":{\"colorbar\":{\"outlinewidth\":0,\"ticks\":\"\"}}}],\"scatter3d\":[{\"type\":\"scatter3d\",\"line\":{\"colorbar\":{\"outlinewidth\":0,\"ticks\":\"\"}},\"marker\":{\"colorbar\":{\"outlinewidth\":0,\"ticks\":\"\"}}}],\"scattermapbox\":[{\"type\":\"scattermapbox\",\"marker\":{\"colorbar\":{\"outlinewidth\":0,\"ticks\":\"\"}}}],\"scatterternary\":[{\"type\":\"scatterternary\",\"marker\":{\"colorbar\":{\"outlinewidth\":0,\"ticks\":\"\"}}}],\"scattercarpet\":[{\"type\":\"scattercarpet\",\"marker\":{\"colorbar\":{\"outlinewidth\":0,\"ticks\":\"\"}}}],\"carpet\":[{\"aaxis\":{\"endlinecolor\":\"#2a3f5f\",\"gridcolor\":\"white\",\"linecolor\":\"white\",\"minorgridcolor\":\"white\",\"startlinecolor\":\"#2a3f5f\"},\"baxis\":{\"endlinecolor\":\"#2a3f5f\",\"gridcolor\":\"white\",\"linecolor\":\"white\",\"minorgridcolor\":\"white\",\"startlinecolor\":\"#2a3f5f\"},\"type\":\"carpet\"}],\"table\":[{\"cells\":{\"fill\":{\"color\":\"#EBF0F8\"},\"line\":{\"color\":\"white\"}},\"header\":{\"fill\":{\"color\":\"#C8D4E3\"},\"line\":{\"color\":\"white\"}},\"type\":\"table\"}],\"barpolar\":[{\"marker\":{\"line\":{\"color\":\"#E5ECF6\",\"width\":0.5},\"pattern\":{\"fillmode\":\"overlay\",\"size\":10,\"solidity\":0.2}},\"type\":\"barpolar\"}],\"pie\":[{\"automargin\":true,\"type\":\"pie\"}]},\"layout\":{\"autotypenumbers\":\"strict\",\"colorway\":[\"#636efa\",\"#EF553B\",\"#00cc96\",\"#ab63fa\",\"#FFA15A\",\"#19d3f3\",\"#FF6692\",\"#B6E880\",\"#FF97FF\",\"#FECB52\"],\"font\":{\"color\":\"#2a3f5f\"},\"hovermode\":\"closest\",\"hoverlabel\":{\"align\":\"left\"},\"paper_bgcolor\":\"white\",\"plot_bgcolor\":\"#E5ECF6\",\"polar\":{\"bgcolor\":\"#E5ECF6\",\"angularaxis\":{\"gridcolor\":\"white\",\"linecolor\":\"white\",\"ticks\":\"\"},\"radialaxis\":{\"gridcolor\":\"white\",\"linecolor\":\"white\",\"ticks\":\"\"}},\"ternary\":{\"bgcolor\":\"#E5ECF6\",\"aaxis\":{\"gridcolor\":\"white\",\"linecolor\":\"white\",\"ticks\":\"\"},\"baxis\":{\"gridcolor\":\"white\",\"linecolor\":\"white\",\"ticks\":\"\"},\"caxis\":{\"gridcolor\":\"white\",\"linecolor\":\"white\",\"ticks\":\"\"}},\"coloraxis\":{\"colorbar\":{\"outlinewidth\":0,\"ticks\":\"\"}},\"colorscale\":{\"sequential\":[[0.0,\"#0d0887\"],[0.1111111111111111,\"#46039f\"],[0.2222222222222222,\"#7201a8\"],[0.3333333333333333,\"#9c179e\"],[0.4444444444444444,\"#bd3786\"],[0.5555555555555556,\"#d8576b\"],[0.6666666666666666,\"#ed7953\"],[0.7777777777777778,\"#fb9f3a\"],[0.8888888888888888,\"#fdca26\"],[1.0,\"#f0f921\"]],\"sequentialminus\":[[0.0,\"#0d0887\"],[0.1111111111111111,\"#46039f\"],[0.2222222222222222,\"#7201a8\"],[0.3333333333333333,\"#9c179e\"],[0.4444444444444444,\"#bd3786\"],[0.5555555555555556,\"#d8576b\"],[0.6666666666666666,\"#ed7953\"],[0.7777777777777778,\"#fb9f3a\"],[0.8888888888888888,\"#fdca26\"],[1.0,\"#f0f921\"]],\"diverging\":[[0,\"#8e0152\"],[0.1,\"#c51b7d\"],[0.2,\"#de77ae\"],[0.3,\"#f1b6da\"],[0.4,\"#fde0ef\"],[0.5,\"#f7f7f7\"],[0.6,\"#e6f5d0\"],[0.7,\"#b8e186\"],[0.8,\"#7fbc41\"],[0.9,\"#4d9221\"],[1,\"#276419\"]]},\"xaxis\":{\"gridcolor\":\"white\",\"linecolor\":\"white\",\"ticks\":\"\",\"title\":{\"standoff\":15},\"zerolinecolor\":\"white\",\"automargin\":true,\"zerolinewidth\":2},\"yaxis\":{\"gridcolor\":\"white\",\"linecolor\":\"white\",\"ticks\":\"\",\"title\":{\"standoff\":15},\"zerolinecolor\":\"white\",\"automargin\":true,\"zerolinewidth\":2},\"scene\":{\"xaxis\":{\"backgroundcolor\":\"#E5ECF6\",\"gridcolor\":\"white\",\"linecolor\":\"white\",\"showbackground\":true,\"ticks\":\"\",\"zerolinecolor\":\"white\",\"gridwidth\":2},\"yaxis\":{\"backgroundcolor\":\"#E5ECF6\",\"gridcolor\":\"white\",\"linecolor\":\"white\",\"showbackground\":true,\"ticks\":\"\",\"zerolinecolor\":\"white\",\"gridwidth\":2},\"zaxis\":{\"backgroundcolor\":\"#E5ECF6\",\"gridcolor\":\"white\",\"linecolor\":\"white\",\"showbackground\":true,\"ticks\":\"\",\"zerolinecolor\":\"white\",\"gridwidth\":2}},\"shapedefaults\":{\"line\":{\"color\":\"#2a3f5f\"}},\"annotationdefaults\":{\"arrowcolor\":\"#2a3f5f\",\"arrowhead\":0,\"arrowwidth\":1},\"geo\":{\"bgcolor\":\"white\",\"landcolor\":\"#E5ECF6\",\"subunitcolor\":\"white\",\"showland\":true,\"showlakes\":true,\"lakecolor\":\"white\"},\"title\":{\"x\":0.05},\"mapbox\":{\"style\":\"light\"}}},\"xaxis\":{\"anchor\":\"y\",\"domain\":[0.0,1.0],\"title\":{\"text\":\"medal_type\"}},\"yaxis\":{\"anchor\":\"x\",\"domain\":[0.0,1.0],\"title\":{\"text\":\"Count\"}},\"legend\":{\"tracegroupgap\":0},\"title\":{\"text\":\"Nombre de m\\u00e9dailles remport\\u00e9es par la France\"},\"barmode\":\"relative\"},                        {\"responsive\": true}                    ).then(function(){\n",
              "                            \n",
              "var gd = document.getElementById('5dfea956-9b24-471c-99a9-57ad4302373e');\n",
              "var x = new MutationObserver(function (mutations, observer) {{\n",
              "        var display = window.getComputedStyle(gd).display;\n",
              "        if (!display || display === 'none') {{\n",
              "            console.log([gd, 'removed!']);\n",
              "            Plotly.purge(gd);\n",
              "            observer.disconnect();\n",
              "        }}\n",
              "}});\n",
              "\n",
              "// Listen for the removal of the full notebook cells\n",
              "var notebookContainer = gd.closest('#notebook-container');\n",
              "if (notebookContainer) {{\n",
              "    x.observe(notebookContainer, {childList: true});\n",
              "}}\n",
              "\n",
              "// Listen for the clearing of the current output cell\n",
              "var outputEl = gd.closest('.output');\n",
              "if (outputEl) {{\n",
              "    x.observe(outputEl, {childList: true});\n",
              "}}\n",
              "\n",
              "                        })                };                            </script>        </div>\n",
              "</body>\n",
              "</html>"
            ]
          },
          "metadata": {}
        }
      ]
    },
    {
      "cell_type": "code",
      "source": [
        "# 2. Lors de quelle JO la France a eu le plus (le moins) de succès ?"
      ],
      "metadata": {
        "id": "Drzxpbd04Jda"
      },
      "execution_count": null,
      "outputs": []
    },
    {
      "cell_type": "code",
      "source": [
        "df_france_medals = df_results.filter((col(\"country_3_letter_code\") == \"FRA\") & (col(\"medal_type\").isNotNull()))\n",
        "medals_count_per_edition = df_france_medals.groupBy(\"slug_game\").agg(count(\"*\").alias(\"Total_Medals\"))\n",
        "medals_count_per_edition.show()\n",
        "most_successful = medals_count_per_edition.orderBy(col(\"Total_Medals\").desc()).first()\n",
        "least_successful = medals_count_per_edition.orderBy(col(\"Total_Medals\").asc()).first()\n",
        "\n",
        "print(f\"L'edition avec le plus de succès pour la france : {most_successful['slug_game']} avec {most_successful['Total_Medals']} médailles\")\n",
        "print(f\"L'édition avec le moins de succès pour la france : {least_successful['slug_game']} avec {least_successful['Total_Medals']} médailles\")\n",
        "\n",
        "medals_count_per_edition_pd = medals_count_per_edition.toPandas()\n",
        "\n",
        "\n",
        "fig = px.bar(medals_count_per_edition_pd, x='slug_game', y='Total_Medals', title='Nombre de médailles remportées par la France par édition des JO')\n",
        "fig.show()"
      ],
      "metadata": {
        "colab": {
          "base_uri": "https://localhost:8080/",
          "height": 1000
        },
        "id": "_bUQUz058j4-",
        "outputId": "dc59ed3d-b088-4581-cda1-2f46049ad09c"
      },
      "execution_count": null,
      "outputs": [
        {
          "output_type": "stream",
          "name": "stdout",
          "text": [
            "+-------------------+------------+\n",
            "|          slug_game|Total_Medals|\n",
            "+-------------------+------------+\n",
            "|      sarajevo-1984|           3|\n",
            "|         sochi-2014|          15|\n",
            "|        nagano-1998|           8|\n",
            "|       beijing-2022|          14|\n",
            "|   mexico-city-1968|          15|\n",
            "|      montreal-1976|           9|\n",
            "|        munich-1972|          13|\n",
            "|        athens-2004|          33|\n",
            "|salt-lake-city-2002|          11|\n",
            "|        london-2012|          35|\n",
            "|         turin-2006|           9|\n",
            "|        moscow-1980|          14|\n",
            "|     vancouver-2010|          11|\n",
            "|       beijing-2008|          41|\n",
            "|  squaw-valley-1960|           3|\n",
            "|         tokyo-2020|          33|\n",
            "|     innsbruck-1976|           1|\n",
            "|   los-angeles-1984|          28|\n",
            "|         seoul-1988|          16|\n",
            "|       atlanta-1996|          37|\n",
            "+-------------------+------------+\n",
            "only showing top 20 rows\n",
            "\n",
            "L'edition avec le plus de succès pour la france : rio-2016 avec 42 médailles\n",
            "L'édition avec le moins de succès pour la france : innsbruck-1976 avec 1 médailles\n"
          ]
        },
        {
          "output_type": "display_data",
          "data": {
            "text/html": [
              "<html>\n",
              "<head><meta charset=\"utf-8\" /></head>\n",
              "<body>\n",
              "    <div>            <script src=\"https://cdnjs.cloudflare.com/ajax/libs/mathjax/2.7.5/MathJax.js?config=TeX-AMS-MML_SVG\"></script><script type=\"text/javascript\">if (window.MathJax && window.MathJax.Hub && window.MathJax.Hub.Config) {window.MathJax.Hub.Config({SVG: {font: \"STIX-Web\"}});}</script>                <script type=\"text/javascript\">window.PlotlyConfig = {MathJaxConfig: 'local'};</script>\n",
              "        <script charset=\"utf-8\" src=\"https://cdn.plot.ly/plotly-2.24.1.min.js\"></script>                <div id=\"fade0c83-3847-416b-a3a2-966b90d0450c\" class=\"plotly-graph-div\" style=\"height:525px; width:100%;\"></div>            <script type=\"text/javascript\">                                    window.PLOTLYENV=window.PLOTLYENV || {};                                    if (document.getElementById(\"fade0c83-3847-416b-a3a2-966b90d0450c\")) {                    Plotly.newPlot(                        \"fade0c83-3847-416b-a3a2-966b90d0450c\",                        [{\"alignmentgroup\":\"True\",\"hovertemplate\":\"slug_game=%{x}\\u003cbr\\u003eTotal_Medals=%{y}\\u003cextra\\u003e\\u003c\\u002fextra\\u003e\",\"legendgroup\":\"\",\"marker\":{\"color\":\"#636efa\",\"pattern\":{\"shape\":\"\"}},\"name\":\"\",\"offsetgroup\":\"\",\"orientation\":\"v\",\"showlegend\":false,\"textposition\":\"auto\",\"x\":[\"sarajevo-1984\",\"sochi-2014\",\"nagano-1998\",\"beijing-2022\",\"mexico-city-1968\",\"montreal-1976\",\"munich-1972\",\"athens-2004\",\"salt-lake-city-2002\",\"london-2012\",\"turin-2006\",\"moscow-1980\",\"vancouver-2010\",\"beijing-2008\",\"squaw-valley-1960\",\"tokyo-2020\",\"innsbruck-1976\",\"los-angeles-1984\",\"seoul-1988\",\"atlanta-1996\",\"innsbruck-1964\",\"albertville-1992\",\"grenoble-1968\",\"sapporo-1972\",\"lake-placid-1980\",\"barcelona-1992\",\"lillehammer-1994\",\"tokyo-1964\",\"rome-1960\",\"sydney-2000\",\"rio-2016\",\"melbourne-1956\",\"calgary-1988\",\"pyeongchang-2018\"],\"xaxis\":\"x\",\"y\":[3,15,8,14,15,9,13,33,11,35,9,14,11,41,3,33,1,28,16,37,7,9,9,3,1,29,5,15,5,38,42,14,2,15],\"yaxis\":\"y\",\"type\":\"bar\"}],                        {\"template\":{\"data\":{\"histogram2dcontour\":[{\"type\":\"histogram2dcontour\",\"colorbar\":{\"outlinewidth\":0,\"ticks\":\"\"},\"colorscale\":[[0.0,\"#0d0887\"],[0.1111111111111111,\"#46039f\"],[0.2222222222222222,\"#7201a8\"],[0.3333333333333333,\"#9c179e\"],[0.4444444444444444,\"#bd3786\"],[0.5555555555555556,\"#d8576b\"],[0.6666666666666666,\"#ed7953\"],[0.7777777777777778,\"#fb9f3a\"],[0.8888888888888888,\"#fdca26\"],[1.0,\"#f0f921\"]]}],\"choropleth\":[{\"type\":\"choropleth\",\"colorbar\":{\"outlinewidth\":0,\"ticks\":\"\"}}],\"histogram2d\":[{\"type\":\"histogram2d\",\"colorbar\":{\"outlinewidth\":0,\"ticks\":\"\"},\"colorscale\":[[0.0,\"#0d0887\"],[0.1111111111111111,\"#46039f\"],[0.2222222222222222,\"#7201a8\"],[0.3333333333333333,\"#9c179e\"],[0.4444444444444444,\"#bd3786\"],[0.5555555555555556,\"#d8576b\"],[0.6666666666666666,\"#ed7953\"],[0.7777777777777778,\"#fb9f3a\"],[0.8888888888888888,\"#fdca26\"],[1.0,\"#f0f921\"]]}],\"heatmap\":[{\"type\":\"heatmap\",\"colorbar\":{\"outlinewidth\":0,\"ticks\":\"\"},\"colorscale\":[[0.0,\"#0d0887\"],[0.1111111111111111,\"#46039f\"],[0.2222222222222222,\"#7201a8\"],[0.3333333333333333,\"#9c179e\"],[0.4444444444444444,\"#bd3786\"],[0.5555555555555556,\"#d8576b\"],[0.6666666666666666,\"#ed7953\"],[0.7777777777777778,\"#fb9f3a\"],[0.8888888888888888,\"#fdca26\"],[1.0,\"#f0f921\"]]}],\"heatmapgl\":[{\"type\":\"heatmapgl\",\"colorbar\":{\"outlinewidth\":0,\"ticks\":\"\"},\"colorscale\":[[0.0,\"#0d0887\"],[0.1111111111111111,\"#46039f\"],[0.2222222222222222,\"#7201a8\"],[0.3333333333333333,\"#9c179e\"],[0.4444444444444444,\"#bd3786\"],[0.5555555555555556,\"#d8576b\"],[0.6666666666666666,\"#ed7953\"],[0.7777777777777778,\"#fb9f3a\"],[0.8888888888888888,\"#fdca26\"],[1.0,\"#f0f921\"]]}],\"contourcarpet\":[{\"type\":\"contourcarpet\",\"colorbar\":{\"outlinewidth\":0,\"ticks\":\"\"}}],\"contour\":[{\"type\":\"contour\",\"colorbar\":{\"outlinewidth\":0,\"ticks\":\"\"},\"colorscale\":[[0.0,\"#0d0887\"],[0.1111111111111111,\"#46039f\"],[0.2222222222222222,\"#7201a8\"],[0.3333333333333333,\"#9c179e\"],[0.4444444444444444,\"#bd3786\"],[0.5555555555555556,\"#d8576b\"],[0.6666666666666666,\"#ed7953\"],[0.7777777777777778,\"#fb9f3a\"],[0.8888888888888888,\"#fdca26\"],[1.0,\"#f0f921\"]]}],\"surface\":[{\"type\":\"surface\",\"colorbar\":{\"outlinewidth\":0,\"ticks\":\"\"},\"colorscale\":[[0.0,\"#0d0887\"],[0.1111111111111111,\"#46039f\"],[0.2222222222222222,\"#7201a8\"],[0.3333333333333333,\"#9c179e\"],[0.4444444444444444,\"#bd3786\"],[0.5555555555555556,\"#d8576b\"],[0.6666666666666666,\"#ed7953\"],[0.7777777777777778,\"#fb9f3a\"],[0.8888888888888888,\"#fdca26\"],[1.0,\"#f0f921\"]]}],\"mesh3d\":[{\"type\":\"mesh3d\",\"colorbar\":{\"outlinewidth\":0,\"ticks\":\"\"}}],\"scatter\":[{\"fillpattern\":{\"fillmode\":\"overlay\",\"size\":10,\"solidity\":0.2},\"type\":\"scatter\"}],\"parcoords\":[{\"type\":\"parcoords\",\"line\":{\"colorbar\":{\"outlinewidth\":0,\"ticks\":\"\"}}}],\"scatterpolargl\":[{\"type\":\"scatterpolargl\",\"marker\":{\"colorbar\":{\"outlinewidth\":0,\"ticks\":\"\"}}}],\"bar\":[{\"error_x\":{\"color\":\"#2a3f5f\"},\"error_y\":{\"color\":\"#2a3f5f\"},\"marker\":{\"line\":{\"color\":\"#E5ECF6\",\"width\":0.5},\"pattern\":{\"fillmode\":\"overlay\",\"size\":10,\"solidity\":0.2}},\"type\":\"bar\"}],\"scattergeo\":[{\"type\":\"scattergeo\",\"marker\":{\"colorbar\":{\"outlinewidth\":0,\"ticks\":\"\"}}}],\"scatterpolar\":[{\"type\":\"scatterpolar\",\"marker\":{\"colorbar\":{\"outlinewidth\":0,\"ticks\":\"\"}}}],\"histogram\":[{\"marker\":{\"pattern\":{\"fillmode\":\"overlay\",\"size\":10,\"solidity\":0.2}},\"type\":\"histogram\"}],\"scattergl\":[{\"type\":\"scattergl\",\"marker\":{\"colorbar\":{\"outlinewidth\":0,\"ticks\":\"\"}}}],\"scatter3d\":[{\"type\":\"scatter3d\",\"line\":{\"colorbar\":{\"outlinewidth\":0,\"ticks\":\"\"}},\"marker\":{\"colorbar\":{\"outlinewidth\":0,\"ticks\":\"\"}}}],\"scattermapbox\":[{\"type\":\"scattermapbox\",\"marker\":{\"colorbar\":{\"outlinewidth\":0,\"ticks\":\"\"}}}],\"scatterternary\":[{\"type\":\"scatterternary\",\"marker\":{\"colorbar\":{\"outlinewidth\":0,\"ticks\":\"\"}}}],\"scattercarpet\":[{\"type\":\"scattercarpet\",\"marker\":{\"colorbar\":{\"outlinewidth\":0,\"ticks\":\"\"}}}],\"carpet\":[{\"aaxis\":{\"endlinecolor\":\"#2a3f5f\",\"gridcolor\":\"white\",\"linecolor\":\"white\",\"minorgridcolor\":\"white\",\"startlinecolor\":\"#2a3f5f\"},\"baxis\":{\"endlinecolor\":\"#2a3f5f\",\"gridcolor\":\"white\",\"linecolor\":\"white\",\"minorgridcolor\":\"white\",\"startlinecolor\":\"#2a3f5f\"},\"type\":\"carpet\"}],\"table\":[{\"cells\":{\"fill\":{\"color\":\"#EBF0F8\"},\"line\":{\"color\":\"white\"}},\"header\":{\"fill\":{\"color\":\"#C8D4E3\"},\"line\":{\"color\":\"white\"}},\"type\":\"table\"}],\"barpolar\":[{\"marker\":{\"line\":{\"color\":\"#E5ECF6\",\"width\":0.5},\"pattern\":{\"fillmode\":\"overlay\",\"size\":10,\"solidity\":0.2}},\"type\":\"barpolar\"}],\"pie\":[{\"automargin\":true,\"type\":\"pie\"}]},\"layout\":{\"autotypenumbers\":\"strict\",\"colorway\":[\"#636efa\",\"#EF553B\",\"#00cc96\",\"#ab63fa\",\"#FFA15A\",\"#19d3f3\",\"#FF6692\",\"#B6E880\",\"#FF97FF\",\"#FECB52\"],\"font\":{\"color\":\"#2a3f5f\"},\"hovermode\":\"closest\",\"hoverlabel\":{\"align\":\"left\"},\"paper_bgcolor\":\"white\",\"plot_bgcolor\":\"#E5ECF6\",\"polar\":{\"bgcolor\":\"#E5ECF6\",\"angularaxis\":{\"gridcolor\":\"white\",\"linecolor\":\"white\",\"ticks\":\"\"},\"radialaxis\":{\"gridcolor\":\"white\",\"linecolor\":\"white\",\"ticks\":\"\"}},\"ternary\":{\"bgcolor\":\"#E5ECF6\",\"aaxis\":{\"gridcolor\":\"white\",\"linecolor\":\"white\",\"ticks\":\"\"},\"baxis\":{\"gridcolor\":\"white\",\"linecolor\":\"white\",\"ticks\":\"\"},\"caxis\":{\"gridcolor\":\"white\",\"linecolor\":\"white\",\"ticks\":\"\"}},\"coloraxis\":{\"colorbar\":{\"outlinewidth\":0,\"ticks\":\"\"}},\"colorscale\":{\"sequential\":[[0.0,\"#0d0887\"],[0.1111111111111111,\"#46039f\"],[0.2222222222222222,\"#7201a8\"],[0.3333333333333333,\"#9c179e\"],[0.4444444444444444,\"#bd3786\"],[0.5555555555555556,\"#d8576b\"],[0.6666666666666666,\"#ed7953\"],[0.7777777777777778,\"#fb9f3a\"],[0.8888888888888888,\"#fdca26\"],[1.0,\"#f0f921\"]],\"sequentialminus\":[[0.0,\"#0d0887\"],[0.1111111111111111,\"#46039f\"],[0.2222222222222222,\"#7201a8\"],[0.3333333333333333,\"#9c179e\"],[0.4444444444444444,\"#bd3786\"],[0.5555555555555556,\"#d8576b\"],[0.6666666666666666,\"#ed7953\"],[0.7777777777777778,\"#fb9f3a\"],[0.8888888888888888,\"#fdca26\"],[1.0,\"#f0f921\"]],\"diverging\":[[0,\"#8e0152\"],[0.1,\"#c51b7d\"],[0.2,\"#de77ae\"],[0.3,\"#f1b6da\"],[0.4,\"#fde0ef\"],[0.5,\"#f7f7f7\"],[0.6,\"#e6f5d0\"],[0.7,\"#b8e186\"],[0.8,\"#7fbc41\"],[0.9,\"#4d9221\"],[1,\"#276419\"]]},\"xaxis\":{\"gridcolor\":\"white\",\"linecolor\":\"white\",\"ticks\":\"\",\"title\":{\"standoff\":15},\"zerolinecolor\":\"white\",\"automargin\":true,\"zerolinewidth\":2},\"yaxis\":{\"gridcolor\":\"white\",\"linecolor\":\"white\",\"ticks\":\"\",\"title\":{\"standoff\":15},\"zerolinecolor\":\"white\",\"automargin\":true,\"zerolinewidth\":2},\"scene\":{\"xaxis\":{\"backgroundcolor\":\"#E5ECF6\",\"gridcolor\":\"white\",\"linecolor\":\"white\",\"showbackground\":true,\"ticks\":\"\",\"zerolinecolor\":\"white\",\"gridwidth\":2},\"yaxis\":{\"backgroundcolor\":\"#E5ECF6\",\"gridcolor\":\"white\",\"linecolor\":\"white\",\"showbackground\":true,\"ticks\":\"\",\"zerolinecolor\":\"white\",\"gridwidth\":2},\"zaxis\":{\"backgroundcolor\":\"#E5ECF6\",\"gridcolor\":\"white\",\"linecolor\":\"white\",\"showbackground\":true,\"ticks\":\"\",\"zerolinecolor\":\"white\",\"gridwidth\":2}},\"shapedefaults\":{\"line\":{\"color\":\"#2a3f5f\"}},\"annotationdefaults\":{\"arrowcolor\":\"#2a3f5f\",\"arrowhead\":0,\"arrowwidth\":1},\"geo\":{\"bgcolor\":\"white\",\"landcolor\":\"#E5ECF6\",\"subunitcolor\":\"white\",\"showland\":true,\"showlakes\":true,\"lakecolor\":\"white\"},\"title\":{\"x\":0.05},\"mapbox\":{\"style\":\"light\"}}},\"xaxis\":{\"anchor\":\"y\",\"domain\":[0.0,1.0],\"title\":{\"text\":\"slug_game\"}},\"yaxis\":{\"anchor\":\"x\",\"domain\":[0.0,1.0],\"title\":{\"text\":\"Total_Medals\"}},\"legend\":{\"tracegroupgap\":0},\"title\":{\"text\":\"Nombre de m\\u00e9dailles remport\\u00e9es par la France par \\u00e9dition des JO\"},\"barmode\":\"relative\"},                        {\"responsive\": true}                    ).then(function(){\n",
              "                            \n",
              "var gd = document.getElementById('fade0c83-3847-416b-a3a2-966b90d0450c');\n",
              "var x = new MutationObserver(function (mutations, observer) {{\n",
              "        var display = window.getComputedStyle(gd).display;\n",
              "        if (!display || display === 'none') {{\n",
              "            console.log([gd, 'removed!']);\n",
              "            Plotly.purge(gd);\n",
              "            observer.disconnect();\n",
              "        }}\n",
              "}});\n",
              "\n",
              "// Listen for the removal of the full notebook cells\n",
              "var notebookContainer = gd.closest('#notebook-container');\n",
              "if (notebookContainer) {{\n",
              "    x.observe(notebookContainer, {childList: true});\n",
              "}}\n",
              "\n",
              "// Listen for the clearing of the current output cell\n",
              "var outputEl = gd.closest('.output');\n",
              "if (outputEl) {{\n",
              "    x.observe(outputEl, {childList: true});\n",
              "}}\n",
              "\n",
              "                        })                };                            </script>        </div>\n",
              "</body>\n",
              "</html>"
            ]
          },
          "metadata": {}
        }
      ]
    },
    {
      "cell_type": "code",
      "source": [
        "# 3. Peut-on considérer que la France est la grande spécialiste de certaine(s) discipline(s) sportive(s), comparativement aux autres notions ? Laquelle / Lesquelles ?\n"
      ],
      "metadata": {
        "id": "kc-gegWS4LKc"
      },
      "execution_count": null,
      "outputs": []
    },
    {
      "cell_type": "code",
      "source": [
        "df_france_medals = df_results.filter((col(\"country_3_letter_code\") == \"FRA\") & (col(\"medal_type\").isNotNull()))\n",
        "df_france_discipline_medals = df_france_medals.groupBy(\"discipline_title\").agg(count(\"*\").alias(\"Total_Medals_France\"))\n",
        "df_all_discipline_medals = df_results.filter(col(\"medal_type\").isNotNull()).groupBy(\"discipline_title\").agg(count(\"*\").alias(\"Total_Medals_All\"))\n",
        "df_discipline_comparison = df_france_discipline_medals.join(df_all_discipline_medals, on=\"discipline_title\", how=\"inner\")\n",
        "df_discipline_comparison = df_discipline_comparison.withColumn(\"Percentage_France\", col(\"Total_Medals_France\") / col(\"Total_Medals_All\") * 100)\n",
        "df_discipline_comparison.orderBy(col(\"Percentage_France\").desc()).show()\n",
        "df_discipline_comparison_pd = df_discipline_comparison.toPandas()\n",
        "\n",
        "\n",
        "fig = px.bar(df_discipline_comparison_pd, x='discipline_title', y='Percentage_France', title='Pourcentage de médailles remportées par la France par discipline')\n",
        "fig.show()"
      ],
      "metadata": {
        "colab": {
          "base_uri": "https://localhost:8080/",
          "height": 1000
        },
        "id": "c0BO8K-o9TVc",
        "outputId": "cf240fe9-06e0-4be4-f3e5-54c1103d12c7"
      },
      "execution_count": null,
      "outputs": [
        {
          "output_type": "stream",
          "name": "stdout",
          "text": [
            "+--------------------+-------------------+----------------+------------------+\n",
            "|    discipline_title|Total_Medals_France|Total_Medals_All| Percentage_France|\n",
            "+--------------------+-------------------+----------------+------------------+\n",
            "|        Canoe Slalom|                 18|             108|16.666666666666664|\n",
            "|        Rugby Sevens|                  1|               6|16.666666666666664|\n",
            "|             Fencing|                 69|             453|  15.2317880794702|\n",
            "|            Biathlon|                 32|             286|11.188811188811188|\n",
            "|         Cycling BMX|                  2|              18| 11.11111111111111|\n",
            "|  Equestrian Jumping|                  9|              87|10.344827586206897|\n",
            "|Cycling Mountain ...|                  4|              39|10.256410256410255|\n",
            "|       Alpine Skiing|                 45|             448|10.044642857142858|\n",
            "|       Cycling Track|                 36|             370|  9.72972972972973|\n",
            "|                Judo|                 57|             607| 9.390444810543658|\n",
            "|            Handball|                  7|              75| 9.333333333333334|\n",
            "|    Freestyle Skiing|                 15|             171| 8.771929824561402|\n",
            "|           Snowboard|                 13|             153|  8.49673202614379|\n",
            "|      Canoe Marathon|                  1|              12| 8.333333333333332|\n",
            "|          Equestrian|                  1|              18| 5.555555555555555|\n",
            "| Equestrian Eventing|                  5|              90| 5.555555555555555|\n",
            "|      Figure skating|                 10|             207| 4.830917874396135|\n",
            "|        Cycling Road|                  7|             150| 4.666666666666667|\n",
            "|             Sailing|                 19|             408|4.6568627450980395|\n",
            "|          Basketball|                  4|              87| 4.597701149425287|\n",
            "+--------------------+-------------------+----------------+------------------+\n",
            "only showing top 20 rows\n",
            "\n"
          ]
        },
        {
          "output_type": "display_data",
          "data": {
            "text/html": [
              "<html>\n",
              "<head><meta charset=\"utf-8\" /></head>\n",
              "<body>\n",
              "    <div>            <script src=\"https://cdnjs.cloudflare.com/ajax/libs/mathjax/2.7.5/MathJax.js?config=TeX-AMS-MML_SVG\"></script><script type=\"text/javascript\">if (window.MathJax && window.MathJax.Hub && window.MathJax.Hub.Config) {window.MathJax.Hub.Config({SVG: {font: \"STIX-Web\"}});}</script>                <script type=\"text/javascript\">window.PlotlyConfig = {MathJaxConfig: 'local'};</script>\n",
              "        <script charset=\"utf-8\" src=\"https://cdn.plot.ly/plotly-2.24.1.min.js\"></script>                <div id=\"143dc8f1-8b8d-496c-8424-86bbcb249d74\" class=\"plotly-graph-div\" style=\"height:525px; width:100%;\"></div>            <script type=\"text/javascript\">                                    window.PLOTLYENV=window.PLOTLYENV || {};                                    if (document.getElementById(\"143dc8f1-8b8d-496c-8424-86bbcb249d74\")) {                    Plotly.newPlot(                        \"143dc8f1-8b8d-496c-8424-86bbcb249d74\",                        [{\"alignmentgroup\":\"True\",\"hovertemplate\":\"discipline_title=%{x}\\u003cbr\\u003ePercentage_France=%{y}\\u003cextra\\u003e\\u003c\\u002fextra\\u003e\",\"legendgroup\":\"\",\"marker\":{\"color\":\"#636efa\",\"pattern\":{\"shape\":\"\"}},\"name\":\"\",\"offsetgroup\":\"\",\"orientation\":\"v\",\"showlegend\":false,\"textposition\":\"auto\",\"x\":[\"Tennis\",\"Boxing\",\"Marathon Swimming\",\"Rowing\",\"Judo\",\"Sailing\",\"Swimming\",\"Cycling BMX\",\"Alpine Skiing\",\"Basketball\",\"Canoe Marathon\",\"Handball\",\"Biathlon\",\"Karate\",\"Triathlon\",\"Canoe Sprint\",\"Athletics\",\"Figure skating\",\"Cycling Track\",\"Equestrian\",\"Shooting\",\"Equestrian Jumping\",\"Canoe Slalom\",\"Rugby Sevens\",\"Ski Jumping\",\"Nordic Combined\",\"Cycling Mountain Bike\",\"Cycling Road\",\"Wrestling\",\"Table Tennis\",\"Taekwondo\",\"Weightlifting\",\"Modern Pentathlon\",\"Bobsleigh\",\"Snowboard\",\"Cross Country Skiing\",\"Volleyball\",\"Archery\",\"Synchronized Swimming\",\"Gymnastics Artistic\",\"Equestrian Dressage\",\"Fencing\",\"Equestrian Eventing\",\"Freestyle Skiing\",\"Football\"],\"xaxis\":\"x\",\"y\":[3.2,2.1822849807445444,4.166666666666666,3.1198686371100166,9.390444810543658,4.6568627450980395,2.239328201539538,11.11111111111111,10.044642857142858,4.597701149425287,8.333333333333332,9.333333333333334,11.188811188811188,3.125,2.564102564102564,1.9047619047619049,1.7069701280227598,4.830917874396135,9.72972972972973,5.555555555555555,2.5817555938037864,10.344827586206897,16.666666666666664,16.666666666666664,0.6944444444444444,3.9215686274509802,10.256410256410255,4.666666666666667,0.999000999000999,1.7391304347826086,4.545454545454546,0.5424954792043399,3.0303030303030303,0.8064516129032258,8.49673202614379,1.0080645161290323,1.1111111111111112,2.2222222222222223,1.9607843137254901,1.1412268188302426,1.1494252873563218,15.2317880794702,5.555555555555555,8.771929824561402,1.36986301369863],\"yaxis\":\"y\",\"type\":\"bar\"}],                        {\"template\":{\"data\":{\"histogram2dcontour\":[{\"type\":\"histogram2dcontour\",\"colorbar\":{\"outlinewidth\":0,\"ticks\":\"\"},\"colorscale\":[[0.0,\"#0d0887\"],[0.1111111111111111,\"#46039f\"],[0.2222222222222222,\"#7201a8\"],[0.3333333333333333,\"#9c179e\"],[0.4444444444444444,\"#bd3786\"],[0.5555555555555556,\"#d8576b\"],[0.6666666666666666,\"#ed7953\"],[0.7777777777777778,\"#fb9f3a\"],[0.8888888888888888,\"#fdca26\"],[1.0,\"#f0f921\"]]}],\"choropleth\":[{\"type\":\"choropleth\",\"colorbar\":{\"outlinewidth\":0,\"ticks\":\"\"}}],\"histogram2d\":[{\"type\":\"histogram2d\",\"colorbar\":{\"outlinewidth\":0,\"ticks\":\"\"},\"colorscale\":[[0.0,\"#0d0887\"],[0.1111111111111111,\"#46039f\"],[0.2222222222222222,\"#7201a8\"],[0.3333333333333333,\"#9c179e\"],[0.4444444444444444,\"#bd3786\"],[0.5555555555555556,\"#d8576b\"],[0.6666666666666666,\"#ed7953\"],[0.7777777777777778,\"#fb9f3a\"],[0.8888888888888888,\"#fdca26\"],[1.0,\"#f0f921\"]]}],\"heatmap\":[{\"type\":\"heatmap\",\"colorbar\":{\"outlinewidth\":0,\"ticks\":\"\"},\"colorscale\":[[0.0,\"#0d0887\"],[0.1111111111111111,\"#46039f\"],[0.2222222222222222,\"#7201a8\"],[0.3333333333333333,\"#9c179e\"],[0.4444444444444444,\"#bd3786\"],[0.5555555555555556,\"#d8576b\"],[0.6666666666666666,\"#ed7953\"],[0.7777777777777778,\"#fb9f3a\"],[0.8888888888888888,\"#fdca26\"],[1.0,\"#f0f921\"]]}],\"heatmapgl\":[{\"type\":\"heatmapgl\",\"colorbar\":{\"outlinewidth\":0,\"ticks\":\"\"},\"colorscale\":[[0.0,\"#0d0887\"],[0.1111111111111111,\"#46039f\"],[0.2222222222222222,\"#7201a8\"],[0.3333333333333333,\"#9c179e\"],[0.4444444444444444,\"#bd3786\"],[0.5555555555555556,\"#d8576b\"],[0.6666666666666666,\"#ed7953\"],[0.7777777777777778,\"#fb9f3a\"],[0.8888888888888888,\"#fdca26\"],[1.0,\"#f0f921\"]]}],\"contourcarpet\":[{\"type\":\"contourcarpet\",\"colorbar\":{\"outlinewidth\":0,\"ticks\":\"\"}}],\"contour\":[{\"type\":\"contour\",\"colorbar\":{\"outlinewidth\":0,\"ticks\":\"\"},\"colorscale\":[[0.0,\"#0d0887\"],[0.1111111111111111,\"#46039f\"],[0.2222222222222222,\"#7201a8\"],[0.3333333333333333,\"#9c179e\"],[0.4444444444444444,\"#bd3786\"],[0.5555555555555556,\"#d8576b\"],[0.6666666666666666,\"#ed7953\"],[0.7777777777777778,\"#fb9f3a\"],[0.8888888888888888,\"#fdca26\"],[1.0,\"#f0f921\"]]}],\"surface\":[{\"type\":\"surface\",\"colorbar\":{\"outlinewidth\":0,\"ticks\":\"\"},\"colorscale\":[[0.0,\"#0d0887\"],[0.1111111111111111,\"#46039f\"],[0.2222222222222222,\"#7201a8\"],[0.3333333333333333,\"#9c179e\"],[0.4444444444444444,\"#bd3786\"],[0.5555555555555556,\"#d8576b\"],[0.6666666666666666,\"#ed7953\"],[0.7777777777777778,\"#fb9f3a\"],[0.8888888888888888,\"#fdca26\"],[1.0,\"#f0f921\"]]}],\"mesh3d\":[{\"type\":\"mesh3d\",\"colorbar\":{\"outlinewidth\":0,\"ticks\":\"\"}}],\"scatter\":[{\"fillpattern\":{\"fillmode\":\"overlay\",\"size\":10,\"solidity\":0.2},\"type\":\"scatter\"}],\"parcoords\":[{\"type\":\"parcoords\",\"line\":{\"colorbar\":{\"outlinewidth\":0,\"ticks\":\"\"}}}],\"scatterpolargl\":[{\"type\":\"scatterpolargl\",\"marker\":{\"colorbar\":{\"outlinewidth\":0,\"ticks\":\"\"}}}],\"bar\":[{\"error_x\":{\"color\":\"#2a3f5f\"},\"error_y\":{\"color\":\"#2a3f5f\"},\"marker\":{\"line\":{\"color\":\"#E5ECF6\",\"width\":0.5},\"pattern\":{\"fillmode\":\"overlay\",\"size\":10,\"solidity\":0.2}},\"type\":\"bar\"}],\"scattergeo\":[{\"type\":\"scattergeo\",\"marker\":{\"colorbar\":{\"outlinewidth\":0,\"ticks\":\"\"}}}],\"scatterpolar\":[{\"type\":\"scatterpolar\",\"marker\":{\"colorbar\":{\"outlinewidth\":0,\"ticks\":\"\"}}}],\"histogram\":[{\"marker\":{\"pattern\":{\"fillmode\":\"overlay\",\"size\":10,\"solidity\":0.2}},\"type\":\"histogram\"}],\"scattergl\":[{\"type\":\"scattergl\",\"marker\":{\"colorbar\":{\"outlinewidth\":0,\"ticks\":\"\"}}}],\"scatter3d\":[{\"type\":\"scatter3d\",\"line\":{\"colorbar\":{\"outlinewidth\":0,\"ticks\":\"\"}},\"marker\":{\"colorbar\":{\"outlinewidth\":0,\"ticks\":\"\"}}}],\"scattermapbox\":[{\"type\":\"scattermapbox\",\"marker\":{\"colorbar\":{\"outlinewidth\":0,\"ticks\":\"\"}}}],\"scatterternary\":[{\"type\":\"scatterternary\",\"marker\":{\"colorbar\":{\"outlinewidth\":0,\"ticks\":\"\"}}}],\"scattercarpet\":[{\"type\":\"scattercarpet\",\"marker\":{\"colorbar\":{\"outlinewidth\":0,\"ticks\":\"\"}}}],\"carpet\":[{\"aaxis\":{\"endlinecolor\":\"#2a3f5f\",\"gridcolor\":\"white\",\"linecolor\":\"white\",\"minorgridcolor\":\"white\",\"startlinecolor\":\"#2a3f5f\"},\"baxis\":{\"endlinecolor\":\"#2a3f5f\",\"gridcolor\":\"white\",\"linecolor\":\"white\",\"minorgridcolor\":\"white\",\"startlinecolor\":\"#2a3f5f\"},\"type\":\"carpet\"}],\"table\":[{\"cells\":{\"fill\":{\"color\":\"#EBF0F8\"},\"line\":{\"color\":\"white\"}},\"header\":{\"fill\":{\"color\":\"#C8D4E3\"},\"line\":{\"color\":\"white\"}},\"type\":\"table\"}],\"barpolar\":[{\"marker\":{\"line\":{\"color\":\"#E5ECF6\",\"width\":0.5},\"pattern\":{\"fillmode\":\"overlay\",\"size\":10,\"solidity\":0.2}},\"type\":\"barpolar\"}],\"pie\":[{\"automargin\":true,\"type\":\"pie\"}]},\"layout\":{\"autotypenumbers\":\"strict\",\"colorway\":[\"#636efa\",\"#EF553B\",\"#00cc96\",\"#ab63fa\",\"#FFA15A\",\"#19d3f3\",\"#FF6692\",\"#B6E880\",\"#FF97FF\",\"#FECB52\"],\"font\":{\"color\":\"#2a3f5f\"},\"hovermode\":\"closest\",\"hoverlabel\":{\"align\":\"left\"},\"paper_bgcolor\":\"white\",\"plot_bgcolor\":\"#E5ECF6\",\"polar\":{\"bgcolor\":\"#E5ECF6\",\"angularaxis\":{\"gridcolor\":\"white\",\"linecolor\":\"white\",\"ticks\":\"\"},\"radialaxis\":{\"gridcolor\":\"white\",\"linecolor\":\"white\",\"ticks\":\"\"}},\"ternary\":{\"bgcolor\":\"#E5ECF6\",\"aaxis\":{\"gridcolor\":\"white\",\"linecolor\":\"white\",\"ticks\":\"\"},\"baxis\":{\"gridcolor\":\"white\",\"linecolor\":\"white\",\"ticks\":\"\"},\"caxis\":{\"gridcolor\":\"white\",\"linecolor\":\"white\",\"ticks\":\"\"}},\"coloraxis\":{\"colorbar\":{\"outlinewidth\":0,\"ticks\":\"\"}},\"colorscale\":{\"sequential\":[[0.0,\"#0d0887\"],[0.1111111111111111,\"#46039f\"],[0.2222222222222222,\"#7201a8\"],[0.3333333333333333,\"#9c179e\"],[0.4444444444444444,\"#bd3786\"],[0.5555555555555556,\"#d8576b\"],[0.6666666666666666,\"#ed7953\"],[0.7777777777777778,\"#fb9f3a\"],[0.8888888888888888,\"#fdca26\"],[1.0,\"#f0f921\"]],\"sequentialminus\":[[0.0,\"#0d0887\"],[0.1111111111111111,\"#46039f\"],[0.2222222222222222,\"#7201a8\"],[0.3333333333333333,\"#9c179e\"],[0.4444444444444444,\"#bd3786\"],[0.5555555555555556,\"#d8576b\"],[0.6666666666666666,\"#ed7953\"],[0.7777777777777778,\"#fb9f3a\"],[0.8888888888888888,\"#fdca26\"],[1.0,\"#f0f921\"]],\"diverging\":[[0,\"#8e0152\"],[0.1,\"#c51b7d\"],[0.2,\"#de77ae\"],[0.3,\"#f1b6da\"],[0.4,\"#fde0ef\"],[0.5,\"#f7f7f7\"],[0.6,\"#e6f5d0\"],[0.7,\"#b8e186\"],[0.8,\"#7fbc41\"],[0.9,\"#4d9221\"],[1,\"#276419\"]]},\"xaxis\":{\"gridcolor\":\"white\",\"linecolor\":\"white\",\"ticks\":\"\",\"title\":{\"standoff\":15},\"zerolinecolor\":\"white\",\"automargin\":true,\"zerolinewidth\":2},\"yaxis\":{\"gridcolor\":\"white\",\"linecolor\":\"white\",\"ticks\":\"\",\"title\":{\"standoff\":15},\"zerolinecolor\":\"white\",\"automargin\":true,\"zerolinewidth\":2},\"scene\":{\"xaxis\":{\"backgroundcolor\":\"#E5ECF6\",\"gridcolor\":\"white\",\"linecolor\":\"white\",\"showbackground\":true,\"ticks\":\"\",\"zerolinecolor\":\"white\",\"gridwidth\":2},\"yaxis\":{\"backgroundcolor\":\"#E5ECF6\",\"gridcolor\":\"white\",\"linecolor\":\"white\",\"showbackground\":true,\"ticks\":\"\",\"zerolinecolor\":\"white\",\"gridwidth\":2},\"zaxis\":{\"backgroundcolor\":\"#E5ECF6\",\"gridcolor\":\"white\",\"linecolor\":\"white\",\"showbackground\":true,\"ticks\":\"\",\"zerolinecolor\":\"white\",\"gridwidth\":2}},\"shapedefaults\":{\"line\":{\"color\":\"#2a3f5f\"}},\"annotationdefaults\":{\"arrowcolor\":\"#2a3f5f\",\"arrowhead\":0,\"arrowwidth\":1},\"geo\":{\"bgcolor\":\"white\",\"landcolor\":\"#E5ECF6\",\"subunitcolor\":\"white\",\"showland\":true,\"showlakes\":true,\"lakecolor\":\"white\"},\"title\":{\"x\":0.05},\"mapbox\":{\"style\":\"light\"}}},\"xaxis\":{\"anchor\":\"y\",\"domain\":[0.0,1.0],\"title\":{\"text\":\"discipline_title\"}},\"yaxis\":{\"anchor\":\"x\",\"domain\":[0.0,1.0],\"title\":{\"text\":\"Percentage_France\"}},\"legend\":{\"tracegroupgap\":0},\"title\":{\"text\":\"Pourcentage de m\\u00e9dailles remport\\u00e9es par la France par discipline\"},\"barmode\":\"relative\"},                        {\"responsive\": true}                    ).then(function(){\n",
              "                            \n",
              "var gd = document.getElementById('143dc8f1-8b8d-496c-8424-86bbcb249d74');\n",
              "var x = new MutationObserver(function (mutations, observer) {{\n",
              "        var display = window.getComputedStyle(gd).display;\n",
              "        if (!display || display === 'none') {{\n",
              "            console.log([gd, 'removed!']);\n",
              "            Plotly.purge(gd);\n",
              "            observer.disconnect();\n",
              "        }}\n",
              "}});\n",
              "\n",
              "// Listen for the removal of the full notebook cells\n",
              "var notebookContainer = gd.closest('#notebook-container');\n",
              "if (notebookContainer) {{\n",
              "    x.observe(notebookContainer, {childList: true});\n",
              "}}\n",
              "\n",
              "// Listen for the clearing of the current output cell\n",
              "var outputEl = gd.closest('.output');\n",
              "if (outputEl) {{\n",
              "    x.observe(outputEl, {childList: true});\n",
              "}}\n",
              "\n",
              "                        })                };                            </script>        </div>\n",
              "</body>\n",
              "</html>"
            ]
          },
          "metadata": {}
        }
      ]
    },
    {
      "cell_type": "code",
      "source": [
        "# 4. Quelles sont les sports les plus dominants dans les JO au fil des ans ?"
      ],
      "metadata": {
        "id": "qxlUF8wV4MJn"
      },
      "execution_count": null,
      "outputs": []
    },
    {
      "cell_type": "code",
      "source": [
        "df_medals_cleaned = df_results.filter(col(\"medal_type\").isNotNull())\n",
        "df_medals_cleaned = df_medals_cleaned.withColumn(\"year\", col(\"slug_game\").substr(-4, 4).cast(\"int\"))\n",
        "df_medals_per_discipline_year = df_medals_cleaned.groupBy(\"discipline_title\", \"year\").agg(count(\"*\").alias(\"Total_Medals\"))\n",
        "df_medals_per_discipline_year.show()\n",
        "df_medals_per_discipline_year_pd = df_medals_per_discipline_year.toPandas()\n",
        "\n",
        "\n",
        "fig = px.bar(df_medals_per_discipline_year_pd, x='year', y='Total_Medals', color='discipline_title',\n",
        "             title='Nombre de médailles attribuées par discipline au fil des ans',\n",
        "             labels={'Total_Medals': 'Nombre de Médailles', 'year': 'Année', 'discipline_title': 'Discipline'},\n",
        "             barmode='stack')\n",
        "\n",
        "fig.show()"
      ],
      "metadata": {
        "colab": {
          "base_uri": "https://localhost:8080/",
          "height": 1000
        },
        "id": "4l2HVKjQ-qAG",
        "outputId": "cdb8cd1d-9a70-43ab-c0d7-d5416f481cae"
      },
      "execution_count": null,
      "outputs": [
        {
          "output_type": "stream",
          "name": "stdout",
          "text": [
            "+--------------------+----+------------+\n",
            "|    discipline_title|year|Total_Medals|\n",
            "+--------------------+----+------------+\n",
            "|              Rowing|2012|          42|\n",
            "|           Bobsleigh|1998|           7|\n",
            "|   Modern Pentathlon|1968|           6|\n",
            "|          Water Polo|2016|           6|\n",
            "|             Archery|2008|          12|\n",
            "|          Basketball|1992|           6|\n",
            "|              Boxing|1992|          48|\n",
            "|       Speed skating|1980|          28|\n",
            "|                Luge|1976|           9|\n",
            "|              Diving|2008|          24|\n",
            "|        Canoe Sprint|2004|          36|\n",
            "|                Luge|1972|           9|\n",
            "|           Badminton|2000|          15|\n",
            "|        Table Tennis|1992|          16|\n",
            "|Cross Country Skiing|1992|          30|\n",
            "|            Handball|1980|           6|\n",
            "|            Football|1976|           3|\n",
            "|          Ice Hockey|1956|           3|\n",
            "|             Curling|2018|           9|\n",
            "|            Softball|2008|           3|\n",
            "+--------------------+----+------------+\n",
            "only showing top 20 rows\n",
            "\n"
          ]
        },
        {
          "output_type": "display_data",
          "data": {
            "text/html": [
              "<html>\n",
              "<head><meta charset=\"utf-8\" /></head>\n",
              "<body>\n",
              "    <div>            <script src=\"https://cdnjs.cloudflare.com/ajax/libs/mathjax/2.7.5/MathJax.js?config=TeX-AMS-MML_SVG\"></script><script type=\"text/javascript\">if (window.MathJax && window.MathJax.Hub && window.MathJax.Hub.Config) {window.MathJax.Hub.Config({SVG: {font: \"STIX-Web\"}});}</script>                <script type=\"text/javascript\">window.PlotlyConfig = {MathJaxConfig: 'local'};</script>\n",
              "        <script charset=\"utf-8\" src=\"https://cdn.plot.ly/plotly-2.24.1.min.js\"></script>                <div id=\"1da3271f-598b-42f8-bf29-8819672de065\" class=\"plotly-graph-div\" style=\"height:525px; width:100%;\"></div>            <script type=\"text/javascript\">                                    window.PLOTLYENV=window.PLOTLYENV || {};                                    if (document.getElementById(\"1da3271f-598b-42f8-bf29-8819672de065\")) {                    Plotly.newPlot(                        \"1da3271f-598b-42f8-bf29-8819672de065\",                        [{\"alignmentgroup\":\"True\",\"hovertemplate\":\"Discipline=Rowing\\u003cbr\\u003eAnn\\u00e9e=%{x}\\u003cbr\\u003eNombre de M\\u00e9dailles=%{y}\\u003cextra\\u003e\\u003c\\u002fextra\\u003e\",\"legendgroup\":\"Rowing\",\"marker\":{\"color\":\"#636efa\",\"pattern\":{\"shape\":\"\"}},\"name\":\"Rowing\",\"offsetgroup\":\"Rowing\",\"orientation\":\"v\",\"showlegend\":true,\"textposition\":\"auto\",\"x\":[2012,1992,2004,1988,1980,1960,1984,1972,2000,1996,1956,2016,1968,2008,2020,1976,1964],\"xaxis\":\"x\",\"y\":[42,42,42,42,42,21,42,21,42,42,21,42,21,42,42,42,21],\"yaxis\":\"y\",\"type\":\"bar\"},{\"alignmentgroup\":\"True\",\"hovertemplate\":\"Discipline=Bobsleigh\\u003cbr\\u003eAnn\\u00e9e=%{x}\\u003cbr\\u003eNombre de M\\u00e9dailles=%{y}\\u003cextra\\u003e\\u003c\\u002fextra\\u003e\",\"legendgroup\":\"Bobsleigh\",\"marker\":{\"color\":\"#EF553B\",\"pattern\":{\"shape\":\"\"}},\"name\":\"Bobsleigh\",\"offsetgroup\":\"Bobsleigh\",\"orientation\":\"v\",\"showlegend\":true,\"textposition\":\"auto\",\"x\":[1998,1964,1980,1992,1994,1984,1972,2010,1988,1968,2006,1976,1956,2002,2022,2014,2018],\"xaxis\":\"x\",\"y\":[7,6,6,6,6,6,6,9,6,6,9,6,6,9,12,9,9],\"yaxis\":\"y\",\"type\":\"bar\"},{\"alignmentgroup\":\"True\",\"hovertemplate\":\"Discipline=Modern Pentathlon\\u003cbr\\u003eAnn\\u00e9e=%{x}\\u003cbr\\u003eNombre de M\\u00e9dailles=%{y}\\u003cextra\\u003e\\u003c\\u002fextra\\u003e\",\"legendgroup\":\"Modern Pentathlon\",\"marker\":{\"color\":\"#00cc96\",\"pattern\":{\"shape\":\"\"}},\"name\":\"Modern Pentathlon\",\"offsetgroup\":\"Modern Pentathlon\",\"orientation\":\"v\",\"showlegend\":true,\"textposition\":\"auto\",\"x\":[1968,1972,1980,1976,2008,1984,1988,1964,1992,1996,2012,2020,2000,1960,1956,2016,2004],\"xaxis\":\"x\",\"y\":[6,6,6,6,6,6,6,6,6,3,6,6,6,6,6,6,6],\"yaxis\":\"y\",\"type\":\"bar\"},{\"alignmentgroup\":\"True\",\"hovertemplate\":\"Discipline=Water Polo\\u003cbr\\u003eAnn\\u00e9e=%{x}\\u003cbr\\u003eNombre de M\\u00e9dailles=%{y}\\u003cextra\\u003e\\u003c\\u002fextra\\u003e\",\"legendgroup\":\"Water Polo\",\"marker\":{\"color\":\"#ab63fa\",\"pattern\":{\"shape\":\"\"}},\"name\":\"Water Polo\",\"offsetgroup\":\"Water Polo\",\"orientation\":\"v\",\"showlegend\":true,\"textposition\":\"auto\",\"x\":[2016,1988,1972,1992,1984,1980,2020,2000,1956,2008,2004,1960,1996,1964,1976,1968,2012],\"xaxis\":\"x\",\"y\":[6,3,3,3,3,3,6,6,3,6,6,3,3,3,3,3,6],\"yaxis\":\"y\",\"type\":\"bar\"},{\"alignmentgroup\":\"True\",\"hovertemplate\":\"Discipline=Archery\\u003cbr\\u003eAnn\\u00e9e=%{x}\\u003cbr\\u003eNombre de M\\u00e9dailles=%{y}\\u003cextra\\u003e\\u003c\\u002fextra\\u003e\",\"legendgroup\":\"Archery\",\"marker\":{\"color\":\"#FFA15A\",\"pattern\":{\"shape\":\"\"}},\"name\":\"Archery\",\"offsetgroup\":\"Archery\",\"orientation\":\"v\",\"showlegend\":true,\"textposition\":\"auto\",\"x\":[2008,1992,2020,1984,2004,1996,1972,2012,1980,2016,1976,2000,1988],\"xaxis\":\"x\",\"y\":[12,12,15,6,12,12,6,12,6,12,6,12,12],\"yaxis\":\"y\",\"type\":\"bar\"},{\"alignmentgroup\":\"True\",\"hovertemplate\":\"Discipline=Basketball\\u003cbr\\u003eAnn\\u00e9e=%{x}\\u003cbr\\u003eNombre de M\\u00e9dailles=%{y}\\u003cextra\\u003e\\u003c\\u002fextra\\u003e\",\"legendgroup\":\"Basketball\",\"marker\":{\"color\":\"#19d3f3\",\"pattern\":{\"shape\":\"\"}},\"name\":\"Basketball\",\"offsetgroup\":\"Basketball\",\"orientation\":\"v\",\"showlegend\":true,\"textposition\":\"auto\",\"x\":[1992,1964,1968,1996,2020,1980,2012,2016,1972,2000,1960,1988,2004,2008,1976,1984,1956],\"xaxis\":\"x\",\"y\":[6,3,3,6,6,6,6,6,3,6,3,6,6,6,6,6,3],\"yaxis\":\"y\",\"type\":\"bar\"},{\"alignmentgroup\":\"True\",\"hovertemplate\":\"Discipline=Boxing\\u003cbr\\u003eAnn\\u00e9e=%{x}\\u003cbr\\u003eNombre de M\\u00e9dailles=%{y}\\u003cextra\\u003e\\u003c\\u002fextra\\u003e\",\"legendgroup\":\"Boxing\",\"marker\":{\"color\":\"#FF6692\",\"pattern\":{\"shape\":\"\"}},\"name\":\"Boxing\",\"offsetgroup\":\"Boxing\",\"orientation\":\"v\",\"showlegend\":true,\"textposition\":\"auto\",\"x\":[1992,2020,1988,1980,2012,1956,1996,1976,2000,2004,2008,1984,1972,1960,1964,1968,2016],\"xaxis\":\"x\",\"y\":[48,52,48,44,52,40,48,44,48,44,44,48,44,40,40,44,51],\"yaxis\":\"y\",\"type\":\"bar\"},{\"alignmentgroup\":\"True\",\"hovertemplate\":\"Discipline=Speed skating\\u003cbr\\u003eAnn\\u00e9e=%{x}\\u003cbr\\u003eNombre de M\\u00e9dailles=%{y}\\u003cextra\\u003e\\u003c\\u002fextra\\u003e\",\"legendgroup\":\"Speed skating\",\"marker\":{\"color\":\"#B6E880\",\"pattern\":{\"shape\":\"\"}},\"name\":\"Speed skating\",\"offsetgroup\":\"Speed skating\",\"orientation\":\"v\",\"showlegend\":true,\"textposition\":\"auto\",\"x\":[1980,1976,1994,1992,1988,2010,2022,1968,2002,1998,2006,1964,2014,2018,1984,1972,1960],\"xaxis\":\"x\",\"y\":[28,27,30,30,30,36,42,25,30,30,36,25,36,42,27,24,24],\"yaxis\":\"y\",\"type\":\"bar\"},{\"alignmentgroup\":\"True\",\"hovertemplate\":\"Discipline=Luge\\u003cbr\\u003eAnn\\u00e9e=%{x}\\u003cbr\\u003eNombre de M\\u00e9dailles=%{y}\\u003cextra\\u003e\\u003c\\u002fextra\\u003e\",\"legendgroup\":\"Luge\",\"marker\":{\"color\":\"#FF97FF\",\"pattern\":{\"shape\":\"\"}},\"name\":\"Luge\",\"offsetgroup\":\"Luge\",\"orientation\":\"v\",\"showlegend\":true,\"textposition\":\"auto\",\"x\":[1976,1972,2018,1988,1994,1984,2002,1980,2010,1964,1992,2006,2014,1968,1998,2022],\"xaxis\":\"x\",\"y\":[9,9,12,6,9,9,9,9,9,9,9,9,12,9,9,12],\"yaxis\":\"y\",\"type\":\"bar\"},{\"alignmentgroup\":\"True\",\"hovertemplate\":\"Discipline=Diving\\u003cbr\\u003eAnn\\u00e9e=%{x}\\u003cbr\\u003eNombre de M\\u00e9dailles=%{y}\\u003cextra\\u003e\\u003c\\u002fextra\\u003e\",\"legendgroup\":\"Diving\",\"marker\":{\"color\":\"#FECB52\",\"pattern\":{\"shape\":\"\"}},\"name\":\"Diving\",\"offsetgroup\":\"Diving\",\"orientation\":\"v\",\"showlegend\":true,\"textposition\":\"auto\",\"x\":[2008,1980,1960,2012,1976,2016,1956,2000,2004,1972,1992,1984,1968,1988,1996,1964,2020],\"xaxis\":\"x\",\"y\":[24,12,12,24,12,24,12,24,24,12,12,12,12,12,12,12,24],\"yaxis\":\"y\",\"type\":\"bar\"},{\"alignmentgroup\":\"True\",\"hovertemplate\":\"Discipline=Canoe Sprint\\u003cbr\\u003eAnn\\u00e9e=%{x}\\u003cbr\\u003eNombre de M\\u00e9dailles=%{y}\\u003cextra\\u003e\\u003c\\u002fextra\\u003e\",\"legendgroup\":\"Canoe Sprint\",\"marker\":{\"color\":\"#636efa\",\"pattern\":{\"shape\":\"\"}},\"name\":\"Canoe Sprint\",\"offsetgroup\":\"Canoe Sprint\",\"orientation\":\"v\",\"showlegend\":true,\"textposition\":\"auto\",\"x\":[2004,2020,1972,1964,2008,2012,1996,1960,2000,1968,1992,1956,1980,1976,2016,1988,1984],\"xaxis\":\"x\",\"y\":[36,36,21,21,36,35,36,21,36,21,36,15,33,33,37,36,36],\"yaxis\":\"y\",\"type\":\"bar\"},{\"alignmentgroup\":\"True\",\"hovertemplate\":\"Discipline=Badminton\\u003cbr\\u003eAnn\\u00e9e=%{x}\\u003cbr\\u003eNombre de M\\u00e9dailles=%{y}\\u003cextra\\u003e\\u003c\\u002fextra\\u003e\",\"legendgroup\":\"Badminton\",\"marker\":{\"color\":\"#EF553B\",\"pattern\":{\"shape\":\"\"}},\"name\":\"Badminton\",\"offsetgroup\":\"Badminton\",\"orientation\":\"v\",\"showlegend\":true,\"textposition\":\"auto\",\"x\":[2000,2008,1996,2020,2016,2012,1992,2004],\"xaxis\":\"x\",\"y\":[15,15,15,15,15,15,16,15],\"yaxis\":\"y\",\"type\":\"bar\"},{\"alignmentgroup\":\"True\",\"hovertemplate\":\"Discipline=Table Tennis\\u003cbr\\u003eAnn\\u00e9e=%{x}\\u003cbr\\u003eNombre de M\\u00e9dailles=%{y}\\u003cextra\\u003e\\u003c\\u002fextra\\u003e\",\"legendgroup\":\"Table Tennis\",\"marker\":{\"color\":\"#00cc96\",\"pattern\":{\"shape\":\"\"}},\"name\":\"Table Tennis\",\"offsetgroup\":\"Table Tennis\",\"orientation\":\"v\",\"showlegend\":true,\"textposition\":\"auto\",\"x\":[1992,2008,2004,2016,2012,2020,2000,1996,1988],\"xaxis\":\"x\",\"y\":[16,12,12,12,12,15,12,12,12],\"yaxis\":\"y\",\"type\":\"bar\"},{\"alignmentgroup\":\"True\",\"hovertemplate\":\"Discipline=Cross Country Skiing\\u003cbr\\u003eAnn\\u00e9e=%{x}\\u003cbr\\u003eNombre de M\\u00e9dailles=%{y}\\u003cextra\\u003e\\u003c\\u002fextra\\u003e\",\"legendgroup\":\"Cross Country Skiing\",\"marker\":{\"color\":\"#ab63fa\",\"pattern\":{\"shape\":\"\"}},\"name\":\"Cross Country Skiing\",\"offsetgroup\":\"Cross Country Skiing\",\"orientation\":\"v\",\"showlegend\":true,\"textposition\":\"auto\",\"x\":[1992,1980,2002,1956,1984,1998,1988,1964,1960,1972,1976,2006,2018,2014,2022,1968,1994,2010],\"xaxis\":\"x\",\"y\":[30,21,36,18,24,30,24,21,18,21,21,36,37,36,36,21,30,36],\"yaxis\":\"y\",\"type\":\"bar\"},{\"alignmentgroup\":\"True\",\"hovertemplate\":\"Discipline=Handball\\u003cbr\\u003eAnn\\u00e9e=%{x}\\u003cbr\\u003eNombre de M\\u00e9dailles=%{y}\\u003cextra\\u003e\\u003c\\u002fextra\\u003e\",\"legendgroup\":\"Handball\",\"marker\":{\"color\":\"#FFA15A\",\"pattern\":{\"shape\":\"\"}},\"name\":\"Handball\",\"offsetgroup\":\"Handball\",\"orientation\":\"v\",\"showlegend\":true,\"textposition\":\"auto\",\"x\":[1980,2012,1972,1996,2000,2016,1988,1992,1984,2008,2004,2020,1976],\"xaxis\":\"x\",\"y\":[6,6,3,6,6,6,6,6,6,6,6,6,6],\"yaxis\":\"y\",\"type\":\"bar\"},{\"alignmentgroup\":\"True\",\"hovertemplate\":\"Discipline=Football\\u003cbr\\u003eAnn\\u00e9e=%{x}\\u003cbr\\u003eNombre de M\\u00e9dailles=%{y}\\u003cextra\\u003e\\u003c\\u002fextra\\u003e\",\"legendgroup\":\"Football\",\"marker\":{\"color\":\"#19d3f3\",\"pattern\":{\"shape\":\"\"}},\"name\":\"Football\",\"offsetgroup\":\"Football\",\"orientation\":\"v\",\"showlegend\":true,\"textposition\":\"auto\",\"x\":[1976,2004,1972,2008,1992,2000,1964,1980,1988,2020,1996,1960,1968,1984,1956,2012,2016],\"xaxis\":\"x\",\"y\":[3,6,4,6,3,6,3,3,3,6,6,3,3,3,3,6,6],\"yaxis\":\"y\",\"type\":\"bar\"},{\"alignmentgroup\":\"True\",\"hovertemplate\":\"Discipline=Ice Hockey\\u003cbr\\u003eAnn\\u00e9e=%{x}\\u003cbr\\u003eNombre de M\\u00e9dailles=%{y}\\u003cextra\\u003e\\u003c\\u002fextra\\u003e\",\"legendgroup\":\"Ice Hockey\",\"marker\":{\"color\":\"#FF6692\",\"pattern\":{\"shape\":\"\"}},\"name\":\"Ice Hockey\",\"offsetgroup\":\"Ice Hockey\",\"orientation\":\"v\",\"showlegend\":true,\"textposition\":\"auto\",\"x\":[1956,1992,2022,1968,2010,1960,2006,1998,1972,2014,2018,1980,1984,1964,1976,1988,1994,2002],\"xaxis\":\"x\",\"y\":[3,3,6,3,6,3,6,6,3,6,6,3,3,3,3,3,3,6],\"yaxis\":\"y\",\"type\":\"bar\"},{\"alignmentgroup\":\"True\",\"hovertemplate\":\"Discipline=Curling\\u003cbr\\u003eAnn\\u00e9e=%{x}\\u003cbr\\u003eNombre de M\\u00e9dailles=%{y}\\u003cextra\\u003e\\u003c\\u002fextra\\u003e\",\"legendgroup\":\"Curling\",\"marker\":{\"color\":\"#B6E880\",\"pattern\":{\"shape\":\"\"}},\"name\":\"Curling\",\"offsetgroup\":\"Curling\",\"orientation\":\"v\",\"showlegend\":true,\"textposition\":\"auto\",\"x\":[2018,2010,2014,2006,1998,2002,2022],\"xaxis\":\"x\",\"y\":[9,6,6,6,6,6,9],\"yaxis\":\"y\",\"type\":\"bar\"},{\"alignmentgroup\":\"True\",\"hovertemplate\":\"Discipline=Softball\\u003cbr\\u003eAnn\\u00e9e=%{x}\\u003cbr\\u003eNombre de M\\u00e9dailles=%{y}\\u003cextra\\u003e\\u003c\\u002fextra\\u003e\",\"legendgroup\":\"Softball\",\"marker\":{\"color\":\"#FF97FF\",\"pattern\":{\"shape\":\"\"}},\"name\":\"Softball\",\"offsetgroup\":\"Softball\",\"orientation\":\"v\",\"showlegend\":true,\"textposition\":\"auto\",\"x\":[2008,1996,2004,2000],\"xaxis\":\"x\",\"y\":[3,3,3,3],\"yaxis\":\"y\",\"type\":\"bar\"},{\"alignmentgroup\":\"True\",\"hovertemplate\":\"Discipline=Hockey\\u003cbr\\u003eAnn\\u00e9e=%{x}\\u003cbr\\u003eNombre de M\\u00e9dailles=%{y}\\u003cextra\\u003e\\u003c\\u002fextra\\u003e\",\"legendgroup\":\"Hockey\",\"marker\":{\"color\":\"#FECB52\",\"pattern\":{\"shape\":\"\"}},\"name\":\"Hockey\",\"offsetgroup\":\"Hockey\",\"orientation\":\"v\",\"showlegend\":true,\"textposition\":\"auto\",\"x\":[1996,1968,1992,1972,2004,2016,2000,1984,1964,2020,1956,2008,1976,2012,1960,1988,1980],\"xaxis\":\"x\",\"y\":[6,3,6,3,6,6,6,6,3,6,3,6,3,6,3,6,6],\"yaxis\":\"y\",\"type\":\"bar\"},{\"alignmentgroup\":\"True\",\"hovertemplate\":\"Discipline=Cycling Road\\u003cbr\\u003eAnn\\u00e9e=%{x}\\u003cbr\\u003eNombre de M\\u00e9dailles=%{y}\\u003cextra\\u003e\\u003c\\u002fextra\\u003e\",\"legendgroup\":\"Cycling Road\",\"marker\":{\"color\":\"#636efa\",\"pattern\":{\"shape\":\"\"}},\"name\":\"Cycling Road\",\"offsetgroup\":\"Cycling Road\",\"orientation\":\"v\",\"showlegend\":true,\"textposition\":\"auto\",\"x\":[2012,1992,2000,1980,1960,2016,1956,2020,1996,1964,1968,1988,1972,2008,2004,1984,1976],\"xaxis\":\"x\",\"y\":[12,9,11,6,6,12,6,12,12,6,6,9,4,12,12,9,6],\"yaxis\":\"y\",\"type\":\"bar\"},{\"alignmentgroup\":\"True\",\"hovertemplate\":\"Discipline=Shooting\\u003cbr\\u003eAnn\\u00e9e=%{x}\\u003cbr\\u003eNombre de M\\u00e9dailles=%{y}\\u003cextra\\u003e\\u003c\\u002fextra\\u003e\",\"legendgroup\":\"Shooting\",\"marker\":{\"color\":\"#EF553B\",\"pattern\":{\"shape\":\"\"}},\"name\":\"Shooting\",\"offsetgroup\":\"Shooting\",\"orientation\":\"v\",\"showlegend\":true,\"textposition\":\"auto\",\"x\":[1992,1968,1984,1988,1996,1972,1964,1976,2000,2008,2004,2020,2016,1980,1960,1956,2012],\"xaxis\":\"x\",\"y\":[39,21,33,39,45,24,18,21,51,45,51,44,45,21,18,21,45],\"yaxis\":\"y\",\"type\":\"bar\"},{\"alignmentgroup\":\"True\",\"hovertemplate\":\"Discipline=Gymnastics Artistic\\u003cbr\\u003eAnn\\u00e9e=%{x}\\u003cbr\\u003eNombre de M\\u00e9dailles=%{y}\\u003cextra\\u003e\\u003c\\u002fextra\\u003e\",\"legendgroup\":\"Gymnastics Artistic\",\"marker\":{\"color\":\"#00cc96\",\"pattern\":{\"shape\":\"\"}},\"name\":\"Gymnastics Artistic\",\"offsetgroup\":\"Gymnastics Artistic\",\"orientation\":\"v\",\"showlegend\":true,\"textposition\":\"auto\",\"x\":[1968,1956,1964,1984,1988,1996,1992,2004,2012,1976,2016,1972,2000,1960,1980,2008],\"xaxis\":\"x\",\"y\":[42,50,43,45,45,45,47,42,42,44,42,42,42,43,45,42],\"yaxis\":\"y\",\"type\":\"bar\"},{\"alignmentgroup\":\"True\",\"hovertemplate\":\"Discipline=Taekwondo\\u003cbr\\u003eAnn\\u00e9e=%{x}\\u003cbr\\u003eNombre de M\\u00e9dailles=%{y}\\u003cextra\\u003e\\u003c\\u002fextra\\u003e\",\"legendgroup\":\"Taekwondo\",\"marker\":{\"color\":\"#ab63fa\",\"pattern\":{\"shape\":\"\"}},\"name\":\"Taekwondo\",\"offsetgroup\":\"Taekwondo\",\"orientation\":\"v\",\"showlegend\":true,\"textposition\":\"auto\",\"x\":[2020,2008,2000,2016,2004,2012],\"xaxis\":\"x\",\"y\":[32,32,24,32,24,32],\"yaxis\":\"y\",\"type\":\"bar\"},{\"alignmentgroup\":\"True\",\"hovertemplate\":\"Discipline=Wrestling\\u003cbr\\u003eAnn\\u00e9e=%{x}\\u003cbr\\u003eNombre de M\\u00e9dailles=%{y}\\u003cextra\\u003e\\u003c\\u002fextra\\u003e\",\"legendgroup\":\"Wrestling\",\"marker\":{\"color\":\"#FFA15A\",\"pattern\":{\"shape\":\"\"}},\"name\":\"Wrestling\",\"offsetgroup\":\"Wrestling\",\"orientation\":\"v\",\"showlegend\":true,\"textposition\":\"auto\",\"x\":[2008,1996,2000,1988,1984,1968,2020,1976,2004,1964,1992,1956,2016,1980,1960,2012,1972],\"xaxis\":\"x\",\"y\":[71,60,48,60,60,48,72,60,54,48,60,48,72,60,48,72,60],\"yaxis\":\"y\",\"type\":\"bar\"},{\"alignmentgroup\":\"True\",\"hovertemplate\":\"Discipline=Gymnastics Rhythmic\\u003cbr\\u003eAnn\\u00e9e=%{x}\\u003cbr\\u003eNombre de M\\u00e9dailles=%{y}\\u003cextra\\u003e\\u003c\\u002fextra\\u003e\",\"legendgroup\":\"Gymnastics Rhythmic\",\"marker\":{\"color\":\"#19d3f3\",\"pattern\":{\"shape\":\"\"}},\"name\":\"Gymnastics Rhythmic\",\"offsetgroup\":\"Gymnastics Rhythmic\",\"orientation\":\"v\",\"showlegend\":true,\"textposition\":\"auto\",\"x\":[1992,2008,2004,2012,2016,2000,1988,1996,1984],\"xaxis\":\"x\",\"y\":[3,6,6,6,6,6,3,6,3],\"yaxis\":\"y\",\"type\":\"bar\"},{\"alignmentgroup\":\"True\",\"hovertemplate\":\"Discipline=Fencing\\u003cbr\\u003eAnn\\u00e9e=%{x}\\u003cbr\\u003eNombre de M\\u00e9dailles=%{y}\\u003cextra\\u003e\\u003c\\u002fextra\\u003e\",\"legendgroup\":\"Fencing\",\"marker\":{\"color\":\"#FF6692\",\"pattern\":{\"shape\":\"\"}},\"name\":\"Fencing\",\"offsetgroup\":\"Fencing\",\"orientation\":\"v\",\"showlegend\":true,\"textposition\":\"auto\",\"x\":[1960,1972,2012,2004,2008,1964,1984,1968,1988,1992,1976,2020,1996,2016,2000,1956,1980],\"xaxis\":\"x\",\"y\":[24,24,30,30,30,24,24,24,24,24,24,36,30,30,30,21,24],\"yaxis\":\"y\",\"type\":\"bar\"},{\"alignmentgroup\":\"True\",\"hovertemplate\":\"Discipline=Alpine Skiing\\u003cbr\\u003eAnn\\u00e9e=%{x}\\u003cbr\\u003eNombre de M\\u00e9dailles=%{y}\\u003cextra\\u003e\\u003c\\u002fextra\\u003e\",\"legendgroup\":\"Alpine Skiing\",\"marker\":{\"color\":\"#B6E880\",\"pattern\":{\"shape\":\"\"}},\"name\":\"Alpine Skiing\",\"offsetgroup\":\"Alpine Skiing\",\"orientation\":\"v\",\"showlegend\":true,\"textposition\":\"auto\",\"x\":[2022,1960,1956,2006,1964,1976,1994,1998,1988,1984,2010,1980,2002,1972,2018,2014,1968,1992],\"xaxis\":\"x\",\"y\":[33,18,18,30,18,18,30,30,30,18,30,15,30,18,33,31,18,30],\"yaxis\":\"y\",\"type\":\"bar\"},{\"alignmentgroup\":\"True\",\"hovertemplate\":\"Discipline=Short Track Speed Skating\\u003cbr\\u003eAnn\\u00e9e=%{x}\\u003cbr\\u003eNombre de M\\u00e9dailles=%{y}\\u003cextra\\u003e\\u003c\\u002fextra\\u003e\",\"legendgroup\":\"Short Track Speed Skating\",\"marker\":{\"color\":\"#FF97FF\",\"pattern\":{\"shape\":\"\"}},\"name\":\"Short Track Speed Skating\",\"offsetgroup\":\"Short Track Speed Skating\",\"orientation\":\"v\",\"showlegend\":true,\"textposition\":\"auto\",\"x\":[1998,1994,1992,2002,2022,2006,2010,2014],\"xaxis\":\"x\",\"y\":[18,18,12,24,27,24,24,24],\"yaxis\":\"y\",\"type\":\"bar\"},{\"alignmentgroup\":\"True\",\"hovertemplate\":\"Discipline=Weightlifting\\u003cbr\\u003eAnn\\u00e9e=%{x}\\u003cbr\\u003eNombre de M\\u00e9dailles=%{y}\\u003cextra\\u003e\\u003c\\u002fextra\\u003e\",\"legendgroup\":\"Weightlifting\",\"marker\":{\"color\":\"#FECB52\",\"pattern\":{\"shape\":\"\"}},\"name\":\"Weightlifting\",\"offsetgroup\":\"Weightlifting\",\"orientation\":\"v\",\"showlegend\":true,\"textposition\":\"auto\",\"x\":[1992,1976,2020,1996,2004,2008,1984,1956,1964,1968,2016,1980,1972,2000,1988,1960,2012],\"xaxis\":\"x\",\"y\":[29,27,42,30,45,45,30,21,21,21,45,30,27,45,30,21,44],\"yaxis\":\"y\",\"type\":\"bar\"},{\"alignmentgroup\":\"True\",\"hovertemplate\":\"Discipline=Athletics\\u003cbr\\u003eAnn\\u00e9e=%{x}\\u003cbr\\u003eNombre de M\\u00e9dailles=%{y}\\u003cextra\\u003e\\u003c\\u002fextra\\u003e\",\"legendgroup\":\"Athletics\",\"marker\":{\"color\":\"#636efa\",\"pattern\":{\"shape\":\"\"}},\"name\":\"Athletics\",\"offsetgroup\":\"Athletics\",\"orientation\":\"v\",\"showlegend\":true,\"textposition\":\"auto\",\"x\":[1976,2000,1956,2016,1972,1992,1980,2020,2008,1968,1960,1996,2004,1984,2012,1988,1964],\"xaxis\":\"x\",\"y\":[111,139,100,141,114,131,114,144,140,108,102,132,135,125,138,127,108],\"yaxis\":\"y\",\"type\":\"bar\"},{\"alignmentgroup\":\"True\",\"hovertemplate\":\"Discipline=Cycling Track\\u003cbr\\u003eAnn\\u00e9e=%{x}\\u003cbr\\u003eNombre de M\\u00e9dailles=%{y}\\u003cextra\\u003e\\u003c\\u002fextra\\u003e\",\"legendgroup\":\"Cycling Track\",\"marker\":{\"color\":\"#EF553B\",\"pattern\":{\"shape\":\"\"}},\"name\":\"Cycling Track\",\"offsetgroup\":\"Cycling Track\",\"orientation\":\"v\",\"showlegend\":true,\"textposition\":\"auto\",\"x\":[1964,2012,2000,1972,2008,1976,1980,1956,1960,2004,1992,1984,1968,1996,2020,2016,1988],\"xaxis\":\"x\",\"y\":[15,31,36,15,30,12,12,12,12,36,21,15,15,24,36,30,18],\"yaxis\":\"y\",\"type\":\"bar\"},{\"alignmentgroup\":\"True\",\"hovertemplate\":\"Discipline=Snowboard\\u003cbr\\u003eAnn\\u00e9e=%{x}\\u003cbr\\u003eNombre de M\\u00e9dailles=%{y}\\u003cextra\\u003e\\u003c\\u002fextra\\u003e\",\"legendgroup\":\"Snowboard\",\"marker\":{\"color\":\"#00cc96\",\"pattern\":{\"shape\":\"\"}},\"name\":\"Snowboard\",\"offsetgroup\":\"Snowboard\",\"orientation\":\"v\",\"showlegend\":true,\"textposition\":\"auto\",\"x\":[2022,2018,2010,1998,2014,2002,2006],\"xaxis\":\"x\",\"y\":[33,30,18,12,30,12,18],\"yaxis\":\"y\",\"type\":\"bar\"},{\"alignmentgroup\":\"True\",\"hovertemplate\":\"Discipline=Equestrian Eventing\\u003cbr\\u003eAnn\\u00e9e=%{x}\\u003cbr\\u003eNombre de M\\u00e9dailles=%{y}\\u003cextra\\u003e\\u003c\\u002fextra\\u003e\",\"legendgroup\":\"Equestrian Eventing\",\"marker\":{\"color\":\"#ab63fa\",\"pattern\":{\"shape\":\"\"}},\"name\":\"Equestrian Eventing\",\"offsetgroup\":\"Equestrian Eventing\",\"orientation\":\"v\",\"showlegend\":true,\"textposition\":\"auto\",\"x\":[1984,1976,1992,1960,2016,2004,2008,1980,1988,2012,1968,1996,2000,1964,1972],\"xaxis\":\"x\",\"y\":[6,6,6,6,6,6,6,6,6,6,6,6,6,6,6],\"yaxis\":\"y\",\"type\":\"bar\"},{\"alignmentgroup\":\"True\",\"hovertemplate\":\"Discipline=Swimming\\u003cbr\\u003eAnn\\u00e9e=%{x}\\u003cbr\\u003eNombre de M\\u00e9dailles=%{y}\\u003cextra\\u003e\\u003c\\u002fextra\\u003e\",\"legendgroup\":\"Swimming\",\"marker\":{\"color\":\"#FFA15A\",\"pattern\":{\"shape\":\"\"}},\"name\":\"Swimming\",\"offsetgroup\":\"Swimming\",\"orientation\":\"v\",\"showlegend\":true,\"textposition\":\"auto\",\"x\":[1980,1988,1956,1976,1996,1964,2000,2004,2020,2012,1972,2016,1984,2008,1992,1960,1968],\"xaxis\":\"x\",\"y\":[78,94,39,78,96,54,97,97,105,96,87,98,87,98,93,45,87],\"yaxis\":\"y\",\"type\":\"bar\"},{\"alignmentgroup\":\"True\",\"hovertemplate\":\"Discipline=Equestrian Dressage\\u003cbr\\u003eAnn\\u00e9e=%{x}\\u003cbr\\u003eNombre de M\\u00e9dailles=%{y}\\u003cextra\\u003e\\u003c\\u002fextra\\u003e\",\"legendgroup\":\"Equestrian Dressage\",\"marker\":{\"color\":\"#19d3f3\",\"pattern\":{\"shape\":\"\"}},\"name\":\"Equestrian Dressage\",\"offsetgroup\":\"Equestrian Dressage\",\"orientation\":\"v\",\"showlegend\":true,\"textposition\":\"auto\",\"x\":[1980,2008,1988,1992,2016,1960,1972,1964,1976,1984,2012,1968,2000,2004,1996],\"xaxis\":\"x\",\"y\":[6,6,6,6,6,3,6,6,6,6,6,6,6,6,6],\"yaxis\":\"y\",\"type\":\"bar\"},{\"alignmentgroup\":\"True\",\"hovertemplate\":\"Discipline=Freestyle Skiing\\u003cbr\\u003eAnn\\u00e9e=%{x}\\u003cbr\\u003eNombre de M\\u00e9dailles=%{y}\\u003cextra\\u003e\\u003c\\u002fextra\\u003e\",\"legendgroup\":\"Freestyle Skiing\",\"marker\":{\"color\":\"#FF6692\",\"pattern\":{\"shape\":\"\"}},\"name\":\"Freestyle Skiing\",\"offsetgroup\":\"Freestyle Skiing\",\"orientation\":\"v\",\"showlegend\":true,\"textposition\":\"auto\",\"x\":[2014,2006,1994,1998,2018,2002,1992,2022,2010],\"xaxis\":\"x\",\"y\":[30,12,12,12,30,12,6,39,18],\"yaxis\":\"y\",\"type\":\"bar\"},{\"alignmentgroup\":\"True\",\"hovertemplate\":\"Discipline=Trampoline\\u003cbr\\u003eAnn\\u00e9e=%{x}\\u003cbr\\u003eNombre de M\\u00e9dailles=%{y}\\u003cextra\\u003e\\u003c\\u002fextra\\u003e\",\"legendgroup\":\"Trampoline\",\"marker\":{\"color\":\"#B6E880\",\"pattern\":{\"shape\":\"\"}},\"name\":\"Trampoline\",\"offsetgroup\":\"Trampoline\",\"orientation\":\"v\",\"showlegend\":true,\"textposition\":\"auto\",\"x\":[2004,2008,2000,2016,2012],\"xaxis\":\"x\",\"y\":[6,6,6,6,6],\"yaxis\":\"y\",\"type\":\"bar\"},{\"alignmentgroup\":\"True\",\"hovertemplate\":\"Discipline=Ski Jumping\\u003cbr\\u003eAnn\\u00e9e=%{x}\\u003cbr\\u003eNombre de M\\u00e9dailles=%{y}\\u003cextra\\u003e\\u003c\\u002fextra\\u003e\",\"legendgroup\":\"Ski Jumping\",\"marker\":{\"color\":\"#FF97FF\",\"pattern\":{\"shape\":\"\"}},\"name\":\"Ski Jumping\",\"offsetgroup\":\"Ski Jumping\",\"orientation\":\"v\",\"showlegend\":true,\"textposition\":\"auto\",\"x\":[2022,2006,1956,1968,1992,2018,1980,1960,1998,1994,1972,1988,2014,1976,2010,2002,1984,1964],\"xaxis\":\"x\",\"y\":[15,9,3,6,9,12,6,3,9,9,6,9,12,6,9,9,6,6],\"yaxis\":\"y\",\"type\":\"bar\"},{\"alignmentgroup\":\"True\",\"hovertemplate\":\"Discipline=Sailing\\u003cbr\\u003eAnn\\u00e9e=%{x}\\u003cbr\\u003eNombre de M\\u00e9dailles=%{y}\\u003cextra\\u003e\\u003c\\u002fextra\\u003e\",\"legendgroup\":\"Sailing\",\"marker\":{\"color\":\"#FECB52\",\"pattern\":{\"shape\":\"\"}},\"name\":\"Sailing\",\"offsetgroup\":\"Sailing\",\"orientation\":\"v\",\"showlegend\":true,\"textposition\":\"auto\",\"x\":[1956,2004,1960,2020,2012,2008,1996,1964,2000,1984,1992,1972,2016,1976,1988,1968,1980],\"xaxis\":\"x\",\"y\":[15,33,15,30,30,33,30,15,33,21,30,18,30,18,24,15,18],\"yaxis\":\"y\",\"type\":\"bar\"},{\"alignmentgroup\":\"True\",\"hovertemplate\":\"Discipline=Volleyball\\u003cbr\\u003eAnn\\u00e9e=%{x}\\u003cbr\\u003eNombre de M\\u00e9dailles=%{y}\\u003cextra\\u003e\\u003c\\u002fextra\\u003e\",\"legendgroup\":\"Volleyball\",\"marker\":{\"color\":\"#636efa\",\"pattern\":{\"shape\":\"\"}},\"name\":\"Volleyball\",\"offsetgroup\":\"Volleyball\",\"orientation\":\"v\",\"showlegend\":true,\"textposition\":\"auto\",\"x\":[2012,1972,1992,2008,2004,2020,2016,1996,1988,1980,1964,2000,1968,1976,1984],\"xaxis\":\"x\",\"y\":[6,6,6,6,6,6,6,6,6,6,6,6,6,6,6],\"yaxis\":\"y\",\"type\":\"bar\"},{\"alignmentgroup\":\"True\",\"hovertemplate\":\"Discipline=Judo\\u003cbr\\u003eAnn\\u00e9e=%{x}\\u003cbr\\u003eNombre de M\\u00e9dailles=%{y}\\u003cextra\\u003e\\u003c\\u002fextra\\u003e\",\"legendgroup\":\"Judo\",\"marker\":{\"color\":\"#EF553B\",\"pattern\":{\"shape\":\"\"}},\"name\":\"Judo\",\"offsetgroup\":\"Judo\",\"orientation\":\"v\",\"showlegend\":true,\"textposition\":\"auto\",\"x\":[2008,1988,1984,1972,2000,1964,1992,2016,1980,2012,1996,1976,2020,2004],\"xaxis\":\"x\",\"y\":[56,28,32,23,56,16,56,56,32,56,56,24,60,56],\"yaxis\":\"y\",\"type\":\"bar\"},{\"alignmentgroup\":\"True\",\"hovertemplate\":\"Discipline=Canoe Slalom\\u003cbr\\u003eAnn\\u00e9e=%{x}\\u003cbr\\u003eNombre de M\\u00e9dailles=%{y}\\u003cextra\\u003e\\u003c\\u002fextra\\u003e\",\"legendgroup\":\"Canoe Slalom\",\"marker\":{\"color\":\"#00cc96\",\"pattern\":{\"shape\":\"\"}},\"name\":\"Canoe Slalom\",\"offsetgroup\":\"Canoe Slalom\",\"orientation\":\"v\",\"showlegend\":true,\"textposition\":\"auto\",\"x\":[1972,2008,1996,1992,2012,2004,2016,2000,2020],\"xaxis\":\"x\",\"y\":[12,12,12,12,12,12,12,12,12],\"yaxis\":\"y\",\"type\":\"bar\"},{\"alignmentgroup\":\"True\",\"hovertemplate\":\"Discipline=Nordic Combined\\u003cbr\\u003eAnn\\u00e9e=%{x}\\u003cbr\\u003eNombre de M\\u00e9dailles=%{y}\\u003cextra\\u003e\\u003c\\u002fextra\\u003e\",\"legendgroup\":\"Nordic Combined\",\"marker\":{\"color\":\"#ab63fa\",\"pattern\":{\"shape\":\"\"}},\"name\":\"Nordic Combined\",\"offsetgroup\":\"Nordic Combined\",\"orientation\":\"v\",\"showlegend\":true,\"textposition\":\"auto\",\"x\":[1964,1980,2014,1968,2006,1998,2010,1960,2022,1988,1972,1984,1994,2018,1956,2002,1992,1976],\"xaxis\":\"x\",\"y\":[3,3,9,3,9,6,9,3,9,6,3,3,6,9,3,9,6,3],\"yaxis\":\"y\",\"type\":\"bar\"},{\"alignmentgroup\":\"True\",\"hovertemplate\":\"Discipline=Baseball\\u003cbr\\u003eAnn\\u00e9e=%{x}\\u003cbr\\u003eNombre de M\\u00e9dailles=%{y}\\u003cextra\\u003e\\u003c\\u002fextra\\u003e\",\"legendgroup\":\"Baseball\",\"marker\":{\"color\":\"#FFA15A\",\"pattern\":{\"shape\":\"\"}},\"name\":\"Baseball\",\"offsetgroup\":\"Baseball\",\"orientation\":\"v\",\"showlegend\":true,\"textposition\":\"auto\",\"x\":[1996,2008,2000,1992,2004],\"xaxis\":\"x\",\"y\":[3,3,3,3,3],\"yaxis\":\"y\",\"type\":\"bar\"},{\"alignmentgroup\":\"True\",\"hovertemplate\":\"Discipline=Cycling Mountain Bike\\u003cbr\\u003eAnn\\u00e9e=%{x}\\u003cbr\\u003eNombre de M\\u00e9dailles=%{y}\\u003cextra\\u003e\\u003c\\u002fextra\\u003e\",\"legendgroup\":\"Cycling Mountain Bike\",\"marker\":{\"color\":\"#19d3f3\",\"pattern\":{\"shape\":\"\"}},\"name\":\"Cycling Mountain Bike\",\"offsetgroup\":\"Cycling Mountain Bike\",\"orientation\":\"v\",\"showlegend\":true,\"textposition\":\"auto\",\"x\":[2008,2004,2000,2012,2016,2020,1996],\"xaxis\":\"x\",\"y\":[3,6,6,6,6,6,6],\"yaxis\":\"y\",\"type\":\"bar\"},{\"alignmentgroup\":\"True\",\"hovertemplate\":\"Discipline=Figure skating\\u003cbr\\u003eAnn\\u00e9e=%{x}\\u003cbr\\u003eNombre de M\\u00e9dailles=%{y}\\u003cextra\\u003e\\u003c\\u002fextra\\u003e\",\"legendgroup\":\"Figure skating\",\"marker\":{\"color\":\"#FF6692\",\"pattern\":{\"shape\":\"\"}},\"name\":\"Figure skating\",\"offsetgroup\":\"Figure skating\",\"orientation\":\"v\",\"showlegend\":true,\"textposition\":\"auto\",\"x\":[2002,1998,1984,1992,2018,1956,1980,1968,1976,1988,2014,1994,2022,2010,1960,1964,2006,1972],\"xaxis\":\"x\",\"y\":[12,12,12,12,15,9,11,9,9,12,15,12,15,12,9,10,12,9],\"yaxis\":\"y\",\"type\":\"bar\"},{\"alignmentgroup\":\"True\",\"hovertemplate\":\"Discipline=Marathon Swimming\\u003cbr\\u003eAnn\\u00e9e=%{x}\\u003cbr\\u003eNombre de M\\u00e9dailles=%{y}\\u003cextra\\u003e\\u003c\\u002fextra\\u003e\",\"legendgroup\":\"Marathon Swimming\",\"marker\":{\"color\":\"#B6E880\",\"pattern\":{\"shape\":\"\"}},\"name\":\"Marathon Swimming\",\"offsetgroup\":\"Marathon Swimming\",\"orientation\":\"v\",\"showlegend\":true,\"textposition\":\"auto\",\"x\":[2020,2008,2016,2012],\"xaxis\":\"x\",\"y\":[6,6,6,6],\"yaxis\":\"y\",\"type\":\"bar\"},{\"alignmentgroup\":\"True\",\"hovertemplate\":\"Discipline=Cycling BMX\\u003cbr\\u003eAnn\\u00e9e=%{x}\\u003cbr\\u003eNombre de M\\u00e9dailles=%{y}\\u003cextra\\u003e\\u003c\\u002fextra\\u003e\",\"legendgroup\":\"Cycling BMX\",\"marker\":{\"color\":\"#FF97FF\",\"pattern\":{\"shape\":\"\"}},\"name\":\"Cycling BMX\",\"offsetgroup\":\"Cycling BMX\",\"orientation\":\"v\",\"showlegend\":true,\"textposition\":\"auto\",\"x\":[2016,2012,2008],\"xaxis\":\"x\",\"y\":[6,6,6],\"yaxis\":\"y\",\"type\":\"bar\"},{\"alignmentgroup\":\"True\",\"hovertemplate\":\"Discipline=Skeleton\\u003cbr\\u003eAnn\\u00e9e=%{x}\\u003cbr\\u003eNombre de M\\u00e9dailles=%{y}\\u003cextra\\u003e\\u003c\\u002fextra\\u003e\",\"legendgroup\":\"Skeleton\",\"marker\":{\"color\":\"#FECB52\",\"pattern\":{\"shape\":\"\"}},\"name\":\"Skeleton\",\"offsetgroup\":\"Skeleton\",\"orientation\":\"v\",\"showlegend\":true,\"textposition\":\"auto\",\"x\":[2018,2010,2006,2022,2014,2002],\"xaxis\":\"x\",\"y\":[6,6,6,6,6,6],\"yaxis\":\"y\",\"type\":\"bar\"},{\"alignmentgroup\":\"True\",\"hovertemplate\":\"Discipline=Biathlon\\u003cbr\\u003eAnn\\u00e9e=%{x}\\u003cbr\\u003eNombre de M\\u00e9dailles=%{y}\\u003cextra\\u003e\\u003c\\u002fextra\\u003e\",\"legendgroup\":\"Biathlon\",\"marker\":{\"color\":\"#636efa\",\"pattern\":{\"shape\":\"\"}},\"name\":\"Biathlon\",\"offsetgroup\":\"Biathlon\",\"orientation\":\"v\",\"showlegend\":true,\"textposition\":\"auto\",\"x\":[1988,2010,1968,1980,1992,1984,1976,2014,2018,1960,2022,1964,1994,1972,2006,2002,1998],\"xaxis\":\"x\",\"y\":[9,30,6,9,18,9,6,31,33,3,33,3,18,6,30,24,18],\"yaxis\":\"y\",\"type\":\"bar\"},{\"alignmentgroup\":\"True\",\"hovertemplate\":\"Discipline=Beach Volleyball\\u003cbr\\u003eAnn\\u00e9e=%{x}\\u003cbr\\u003eNombre de M\\u00e9dailles=%{y}\\u003cextra\\u003e\\u003c\\u002fextra\\u003e\",\"legendgroup\":\"Beach Volleyball\",\"marker\":{\"color\":\"#EF553B\",\"pattern\":{\"shape\":\"\"}},\"name\":\"Beach Volleyball\",\"offsetgroup\":\"Beach Volleyball\",\"orientation\":\"v\",\"showlegend\":true,\"textposition\":\"auto\",\"x\":[2000,2020,2016,2012,1996,2004,2008],\"xaxis\":\"x\",\"y\":[6,6,6,6,6,6,6],\"yaxis\":\"y\",\"type\":\"bar\"},{\"alignmentgroup\":\"True\",\"hovertemplate\":\"Discipline=Equestrian Jumping\\u003cbr\\u003eAnn\\u00e9e=%{x}\\u003cbr\\u003eNombre de M\\u00e9dailles=%{y}\\u003cextra\\u003e\\u003c\\u002fextra\\u003e\",\"legendgroup\":\"Equestrian Jumping\",\"marker\":{\"color\":\"#00cc96\",\"pattern\":{\"shape\":\"\"}},\"name\":\"Equestrian Jumping\",\"offsetgroup\":\"Equestrian Jumping\",\"orientation\":\"v\",\"showlegend\":true,\"textposition\":\"auto\",\"x\":[2016,1984,1988,2000,2008,1992,1976,1980,2012,1996,2004,1960,1972,1964,1968],\"xaxis\":\"x\",\"y\":[6,6,6,6,6,6,3,6,6,6,6,6,6,6,6],\"yaxis\":\"y\",\"type\":\"bar\"},{\"alignmentgroup\":\"True\",\"hovertemplate\":\"Discipline=Synchronized Swimming\\u003cbr\\u003eAnn\\u00e9e=%{x}\\u003cbr\\u003eNombre de M\\u00e9dailles=%{y}\\u003cextra\\u003e\\u003c\\u002fextra\\u003e\",\"legendgroup\":\"Synchronized Swimming\",\"marker\":{\"color\":\"#ab63fa\",\"pattern\":{\"shape\":\"\"}},\"name\":\"Synchronized Swimming\",\"offsetgroup\":\"Synchronized Swimming\",\"orientation\":\"v\",\"showlegend\":true,\"textposition\":\"auto\",\"x\":[2008,1996,2000,2012,1992,1988,2016,1984,2004],\"xaxis\":\"x\",\"y\":[6,3,6,6,6,6,6,6,6],\"yaxis\":\"y\",\"type\":\"bar\"},{\"alignmentgroup\":\"True\",\"hovertemplate\":\"Discipline=Cycling BMX Racing\\u003cbr\\u003eAnn\\u00e9e=%{x}\\u003cbr\\u003eNombre de M\\u00e9dailles=%{y}\\u003cextra\\u003e\\u003c\\u002fextra\\u003e\",\"legendgroup\":\"Cycling BMX Racing\",\"marker\":{\"color\":\"#FFA15A\",\"pattern\":{\"shape\":\"\"}},\"name\":\"Cycling BMX Racing\",\"offsetgroup\":\"Cycling BMX Racing\",\"orientation\":\"v\",\"showlegend\":true,\"textposition\":\"auto\",\"x\":[2020],\"xaxis\":\"x\",\"y\":[6],\"yaxis\":\"y\",\"type\":\"bar\"},{\"alignmentgroup\":\"True\",\"hovertemplate\":\"Discipline=Tennis\\u003cbr\\u003eAnn\\u00e9e=%{x}\\u003cbr\\u003eNombre de M\\u00e9dailles=%{y}\\u003cextra\\u003e\\u003c\\u002fextra\\u003e\",\"legendgroup\":\"Tennis\",\"marker\":{\"color\":\"#19d3f3\",\"pattern\":{\"shape\":\"\"}},\"name\":\"Tennis\",\"offsetgroup\":\"Tennis\",\"orientation\":\"v\",\"showlegend\":true,\"textposition\":\"auto\",\"x\":[2000,2016,2020,1988,2008,2004,1992,1996,2012],\"xaxis\":\"x\",\"y\":[12,15,15,16,12,12,16,12,15],\"yaxis\":\"y\",\"type\":\"bar\"},{\"alignmentgroup\":\"True\",\"hovertemplate\":\"Discipline=Artistic Gymnastics\\u003cbr\\u003eAnn\\u00e9e=%{x}\\u003cbr\\u003eNombre de M\\u00e9dailles=%{y}\\u003cextra\\u003e\\u003c\\u002fextra\\u003e\",\"legendgroup\":\"Artistic Gymnastics\",\"marker\":{\"color\":\"#FF6692\",\"pattern\":{\"shape\":\"\"}},\"name\":\"Artistic Gymnastics\",\"offsetgroup\":\"Artistic Gymnastics\",\"orientation\":\"v\",\"showlegend\":true,\"textposition\":\"auto\",\"x\":[2020],\"xaxis\":\"x\",\"y\":[43],\"yaxis\":\"y\",\"type\":\"bar\"},{\"alignmentgroup\":\"True\",\"hovertemplate\":\"Discipline=Cycling BMX Freestyle\\u003cbr\\u003eAnn\\u00e9e=%{x}\\u003cbr\\u003eNombre de M\\u00e9dailles=%{y}\\u003cextra\\u003e\\u003c\\u002fextra\\u003e\",\"legendgroup\":\"Cycling BMX Freestyle\",\"marker\":{\"color\":\"#B6E880\",\"pattern\":{\"shape\":\"\"}},\"name\":\"Cycling BMX Freestyle\",\"offsetgroup\":\"Cycling BMX Freestyle\",\"orientation\":\"v\",\"showlegend\":true,\"textposition\":\"auto\",\"x\":[2020],\"xaxis\":\"x\",\"y\":[6],\"yaxis\":\"y\",\"type\":\"bar\"},{\"alignmentgroup\":\"True\",\"hovertemplate\":\"Discipline=Sport Climbing\\u003cbr\\u003eAnn\\u00e9e=%{x}\\u003cbr\\u003eNombre de M\\u00e9dailles=%{y}\\u003cextra\\u003e\\u003c\\u002fextra\\u003e\",\"legendgroup\":\"Sport Climbing\",\"marker\":{\"color\":\"#FF97FF\",\"pattern\":{\"shape\":\"\"}},\"name\":\"Sport Climbing\",\"offsetgroup\":\"Sport Climbing\",\"orientation\":\"v\",\"showlegend\":true,\"textposition\":\"auto\",\"x\":[2020],\"xaxis\":\"x\",\"y\":[6],\"yaxis\":\"y\",\"type\":\"bar\"},{\"alignmentgroup\":\"True\",\"hovertemplate\":\"Discipline=Triathlon\\u003cbr\\u003eAnn\\u00e9e=%{x}\\u003cbr\\u003eNombre de M\\u00e9dailles=%{y}\\u003cextra\\u003e\\u003c\\u002fextra\\u003e\",\"legendgroup\":\"Triathlon\",\"marker\":{\"color\":\"#FECB52\",\"pattern\":{\"shape\":\"\"}},\"name\":\"Triathlon\",\"offsetgroup\":\"Triathlon\",\"orientation\":\"v\",\"showlegend\":true,\"textposition\":\"auto\",\"x\":[2004,2020,2012,2016,2000,2008],\"xaxis\":\"x\",\"y\":[6,9,6,6,6,6],\"yaxis\":\"y\",\"type\":\"bar\"},{\"alignmentgroup\":\"True\",\"hovertemplate\":\"Discipline=Skateboarding\\u003cbr\\u003eAnn\\u00e9e=%{x}\\u003cbr\\u003eNombre de M\\u00e9dailles=%{y}\\u003cextra\\u003e\\u003c\\u002fextra\\u003e\",\"legendgroup\":\"Skateboarding\",\"marker\":{\"color\":\"#636efa\",\"pattern\":{\"shape\":\"\"}},\"name\":\"Skateboarding\",\"offsetgroup\":\"Skateboarding\",\"orientation\":\"v\",\"showlegend\":true,\"textposition\":\"auto\",\"x\":[2020],\"xaxis\":\"x\",\"y\":[12],\"yaxis\":\"y\",\"type\":\"bar\"},{\"alignmentgroup\":\"True\",\"hovertemplate\":\"Discipline=Artistic Swimming\\u003cbr\\u003eAnn\\u00e9e=%{x}\\u003cbr\\u003eNombre de M\\u00e9dailles=%{y}\\u003cextra\\u003e\\u003c\\u002fextra\\u003e\",\"legendgroup\":\"Artistic Swimming\",\"marker\":{\"color\":\"#EF553B\",\"pattern\":{\"shape\":\"\"}},\"name\":\"Artistic Swimming\",\"offsetgroup\":\"Artistic Swimming\",\"orientation\":\"v\",\"showlegend\":true,\"textposition\":\"auto\",\"x\":[2020],\"xaxis\":\"x\",\"y\":[6],\"yaxis\":\"y\",\"type\":\"bar\"},{\"alignmentgroup\":\"True\",\"hovertemplate\":\"Discipline=Golf\\u003cbr\\u003eAnn\\u00e9e=%{x}\\u003cbr\\u003eNombre de M\\u00e9dailles=%{y}\\u003cextra\\u003e\\u003c\\u002fextra\\u003e\",\"legendgroup\":\"Golf\",\"marker\":{\"color\":\"#00cc96\",\"pattern\":{\"shape\":\"\"}},\"name\":\"Golf\",\"offsetgroup\":\"Golf\",\"orientation\":\"v\",\"showlegend\":true,\"textposition\":\"auto\",\"x\":[2020,2016],\"xaxis\":\"x\",\"y\":[6,6],\"yaxis\":\"y\",\"type\":\"bar\"},{\"alignmentgroup\":\"True\",\"hovertemplate\":\"Discipline=Short Track\\u003cbr\\u003eAnn\\u00e9e=%{x}\\u003cbr\\u003eNombre de M\\u00e9dailles=%{y}\\u003cextra\\u003e\\u003c\\u002fextra\\u003e\",\"legendgroup\":\"Short Track\",\"marker\":{\"color\":\"#ab63fa\",\"pattern\":{\"shape\":\"\"}},\"name\":\"Short Track\",\"offsetgroup\":\"Short Track\",\"orientation\":\"v\",\"showlegend\":true,\"textposition\":\"auto\",\"x\":[2018],\"xaxis\":\"x\",\"y\":[24],\"yaxis\":\"y\",\"type\":\"bar\"},{\"alignmentgroup\":\"True\",\"hovertemplate\":\"Discipline=Canoe Marathon\\u003cbr\\u003eAnn\\u00e9e=%{x}\\u003cbr\\u003eNombre de M\\u00e9dailles=%{y}\\u003cextra\\u003e\\u003c\\u002fextra\\u003e\",\"legendgroup\":\"Canoe Marathon\",\"marker\":{\"color\":\"#FFA15A\",\"pattern\":{\"shape\":\"\"}},\"name\":\"Canoe Marathon\",\"offsetgroup\":\"Canoe Marathon\",\"orientation\":\"v\",\"showlegend\":true,\"textposition\":\"auto\",\"x\":[1956],\"xaxis\":\"x\",\"y\":[12],\"yaxis\":\"y\",\"type\":\"bar\"},{\"alignmentgroup\":\"True\",\"hovertemplate\":\"Discipline=Rugby Sevens\\u003cbr\\u003eAnn\\u00e9e=%{x}\\u003cbr\\u003eNombre de M\\u00e9dailles=%{y}\\u003cextra\\u003e\\u003c\\u002fextra\\u003e\",\"legendgroup\":\"Rugby Sevens\",\"marker\":{\"color\":\"#19d3f3\",\"pattern\":{\"shape\":\"\"}},\"name\":\"Rugby Sevens\",\"offsetgroup\":\"Rugby Sevens\",\"orientation\":\"v\",\"showlegend\":true,\"textposition\":\"auto\",\"x\":[2020],\"xaxis\":\"x\",\"y\":[6],\"yaxis\":\"y\",\"type\":\"bar\"},{\"alignmentgroup\":\"True\",\"hovertemplate\":\"Discipline=3x3 Basketball\\u003cbr\\u003eAnn\\u00e9e=%{x}\\u003cbr\\u003eNombre de M\\u00e9dailles=%{y}\\u003cextra\\u003e\\u003c\\u002fextra\\u003e\",\"legendgroup\":\"3x3 Basketball\",\"marker\":{\"color\":\"#FF6692\",\"pattern\":{\"shape\":\"\"}},\"name\":\"3x3 Basketball\",\"offsetgroup\":\"3x3 Basketball\",\"orientation\":\"v\",\"showlegend\":true,\"textposition\":\"auto\",\"x\":[2020],\"xaxis\":\"x\",\"y\":[6],\"yaxis\":\"y\",\"type\":\"bar\"},{\"alignmentgroup\":\"True\",\"hovertemplate\":\"Discipline=Trampoline Gymnastics\\u003cbr\\u003eAnn\\u00e9e=%{x}\\u003cbr\\u003eNombre de M\\u00e9dailles=%{y}\\u003cextra\\u003e\\u003c\\u002fextra\\u003e\",\"legendgroup\":\"Trampoline Gymnastics\",\"marker\":{\"color\":\"#B6E880\",\"pattern\":{\"shape\":\"\"}},\"name\":\"Trampoline Gymnastics\",\"offsetgroup\":\"Trampoline Gymnastics\",\"orientation\":\"v\",\"showlegend\":true,\"textposition\":\"auto\",\"x\":[2020],\"xaxis\":\"x\",\"y\":[6],\"yaxis\":\"y\",\"type\":\"bar\"},{\"alignmentgroup\":\"True\",\"hovertemplate\":\"Discipline=Rhythmic Gymnastics\\u003cbr\\u003eAnn\\u00e9e=%{x}\\u003cbr\\u003eNombre de M\\u00e9dailles=%{y}\\u003cextra\\u003e\\u003c\\u002fextra\\u003e\",\"legendgroup\":\"Rhythmic Gymnastics\",\"marker\":{\"color\":\"#FF97FF\",\"pattern\":{\"shape\":\"\"}},\"name\":\"Rhythmic Gymnastics\",\"offsetgroup\":\"Rhythmic Gymnastics\",\"orientation\":\"v\",\"showlegend\":true,\"textposition\":\"auto\",\"x\":[2020],\"xaxis\":\"x\",\"y\":[6],\"yaxis\":\"y\",\"type\":\"bar\"},{\"alignmentgroup\":\"True\",\"hovertemplate\":\"Discipline=Karate\\u003cbr\\u003eAnn\\u00e9e=%{x}\\u003cbr\\u003eNombre de M\\u00e9dailles=%{y}\\u003cextra\\u003e\\u003c\\u002fextra\\u003e\",\"legendgroup\":\"Karate\",\"marker\":{\"color\":\"#FECB52\",\"pattern\":{\"shape\":\"\"}},\"name\":\"Karate\",\"offsetgroup\":\"Karate\",\"orientation\":\"v\",\"showlegend\":true,\"textposition\":\"auto\",\"x\":[2020],\"xaxis\":\"x\",\"y\":[32],\"yaxis\":\"y\",\"type\":\"bar\"},{\"alignmentgroup\":\"True\",\"hovertemplate\":\"Discipline=Baseball\\u002fSoftball\\u003cbr\\u003eAnn\\u00e9e=%{x}\\u003cbr\\u003eNombre de M\\u00e9dailles=%{y}\\u003cextra\\u003e\\u003c\\u002fextra\\u003e\",\"legendgroup\":\"Baseball\\u002fSoftball\",\"marker\":{\"color\":\"#636efa\",\"pattern\":{\"shape\":\"\"}},\"name\":\"Baseball\\u002fSoftball\",\"offsetgroup\":\"Baseball\\u002fSoftball\",\"orientation\":\"v\",\"showlegend\":true,\"textposition\":\"auto\",\"x\":[2020],\"xaxis\":\"x\",\"y\":[6],\"yaxis\":\"y\",\"type\":\"bar\"},{\"alignmentgroup\":\"True\",\"hovertemplate\":\"Discipline=Rugby\\u003cbr\\u003eAnn\\u00e9e=%{x}\\u003cbr\\u003eNombre de M\\u00e9dailles=%{y}\\u003cextra\\u003e\\u003c\\u002fextra\\u003e\",\"legendgroup\":\"Rugby\",\"marker\":{\"color\":\"#EF553B\",\"pattern\":{\"shape\":\"\"}},\"name\":\"Rugby\",\"offsetgroup\":\"Rugby\",\"orientation\":\"v\",\"showlegend\":true,\"textposition\":\"auto\",\"x\":[2016],\"xaxis\":\"x\",\"y\":[6],\"yaxis\":\"y\",\"type\":\"bar\"},{\"alignmentgroup\":\"True\",\"hovertemplate\":\"Discipline=Equestrian\\u003cbr\\u003eAnn\\u00e9e=%{x}\\u003cbr\\u003eNombre de M\\u00e9dailles=%{y}\\u003cextra\\u003e\\u003c\\u002fextra\\u003e\",\"legendgroup\":\"Equestrian\",\"marker\":{\"color\":\"#00cc96\",\"pattern\":{\"shape\":\"\"}},\"name\":\"Equestrian\",\"offsetgroup\":\"Equestrian\",\"orientation\":\"v\",\"showlegend\":true,\"textposition\":\"auto\",\"x\":[2020],\"xaxis\":\"x\",\"y\":[18],\"yaxis\":\"y\",\"type\":\"bar\"},{\"alignmentgroup\":\"True\",\"hovertemplate\":\"Discipline=Surfing\\u003cbr\\u003eAnn\\u00e9e=%{x}\\u003cbr\\u003eNombre de M\\u00e9dailles=%{y}\\u003cextra\\u003e\\u003c\\u002fextra\\u003e\",\"legendgroup\":\"Surfing\",\"marker\":{\"color\":\"#ab63fa\",\"pattern\":{\"shape\":\"\"}},\"name\":\"Surfing\",\"offsetgroup\":\"Surfing\",\"orientation\":\"v\",\"showlegend\":true,\"textposition\":\"auto\",\"x\":[2020],\"xaxis\":\"x\",\"y\":[3],\"yaxis\":\"y\",\"type\":\"bar\"}],                        {\"template\":{\"data\":{\"histogram2dcontour\":[{\"type\":\"histogram2dcontour\",\"colorbar\":{\"outlinewidth\":0,\"ticks\":\"\"},\"colorscale\":[[0.0,\"#0d0887\"],[0.1111111111111111,\"#46039f\"],[0.2222222222222222,\"#7201a8\"],[0.3333333333333333,\"#9c179e\"],[0.4444444444444444,\"#bd3786\"],[0.5555555555555556,\"#d8576b\"],[0.6666666666666666,\"#ed7953\"],[0.7777777777777778,\"#fb9f3a\"],[0.8888888888888888,\"#fdca26\"],[1.0,\"#f0f921\"]]}],\"choropleth\":[{\"type\":\"choropleth\",\"colorbar\":{\"outlinewidth\":0,\"ticks\":\"\"}}],\"histogram2d\":[{\"type\":\"histogram2d\",\"colorbar\":{\"outlinewidth\":0,\"ticks\":\"\"},\"colorscale\":[[0.0,\"#0d0887\"],[0.1111111111111111,\"#46039f\"],[0.2222222222222222,\"#7201a8\"],[0.3333333333333333,\"#9c179e\"],[0.4444444444444444,\"#bd3786\"],[0.5555555555555556,\"#d8576b\"],[0.6666666666666666,\"#ed7953\"],[0.7777777777777778,\"#fb9f3a\"],[0.8888888888888888,\"#fdca26\"],[1.0,\"#f0f921\"]]}],\"heatmap\":[{\"type\":\"heatmap\",\"colorbar\":{\"outlinewidth\":0,\"ticks\":\"\"},\"colorscale\":[[0.0,\"#0d0887\"],[0.1111111111111111,\"#46039f\"],[0.2222222222222222,\"#7201a8\"],[0.3333333333333333,\"#9c179e\"],[0.4444444444444444,\"#bd3786\"],[0.5555555555555556,\"#d8576b\"],[0.6666666666666666,\"#ed7953\"],[0.7777777777777778,\"#fb9f3a\"],[0.8888888888888888,\"#fdca26\"],[1.0,\"#f0f921\"]]}],\"heatmapgl\":[{\"type\":\"heatmapgl\",\"colorbar\":{\"outlinewidth\":0,\"ticks\":\"\"},\"colorscale\":[[0.0,\"#0d0887\"],[0.1111111111111111,\"#46039f\"],[0.2222222222222222,\"#7201a8\"],[0.3333333333333333,\"#9c179e\"],[0.4444444444444444,\"#bd3786\"],[0.5555555555555556,\"#d8576b\"],[0.6666666666666666,\"#ed7953\"],[0.7777777777777778,\"#fb9f3a\"],[0.8888888888888888,\"#fdca26\"],[1.0,\"#f0f921\"]]}],\"contourcarpet\":[{\"type\":\"contourcarpet\",\"colorbar\":{\"outlinewidth\":0,\"ticks\":\"\"}}],\"contour\":[{\"type\":\"contour\",\"colorbar\":{\"outlinewidth\":0,\"ticks\":\"\"},\"colorscale\":[[0.0,\"#0d0887\"],[0.1111111111111111,\"#46039f\"],[0.2222222222222222,\"#7201a8\"],[0.3333333333333333,\"#9c179e\"],[0.4444444444444444,\"#bd3786\"],[0.5555555555555556,\"#d8576b\"],[0.6666666666666666,\"#ed7953\"],[0.7777777777777778,\"#fb9f3a\"],[0.8888888888888888,\"#fdca26\"],[1.0,\"#f0f921\"]]}],\"surface\":[{\"type\":\"surface\",\"colorbar\":{\"outlinewidth\":0,\"ticks\":\"\"},\"colorscale\":[[0.0,\"#0d0887\"],[0.1111111111111111,\"#46039f\"],[0.2222222222222222,\"#7201a8\"],[0.3333333333333333,\"#9c179e\"],[0.4444444444444444,\"#bd3786\"],[0.5555555555555556,\"#d8576b\"],[0.6666666666666666,\"#ed7953\"],[0.7777777777777778,\"#fb9f3a\"],[0.8888888888888888,\"#fdca26\"],[1.0,\"#f0f921\"]]}],\"mesh3d\":[{\"type\":\"mesh3d\",\"colorbar\":{\"outlinewidth\":0,\"ticks\":\"\"}}],\"scatter\":[{\"fillpattern\":{\"fillmode\":\"overlay\",\"size\":10,\"solidity\":0.2},\"type\":\"scatter\"}],\"parcoords\":[{\"type\":\"parcoords\",\"line\":{\"colorbar\":{\"outlinewidth\":0,\"ticks\":\"\"}}}],\"scatterpolargl\":[{\"type\":\"scatterpolargl\",\"marker\":{\"colorbar\":{\"outlinewidth\":0,\"ticks\":\"\"}}}],\"bar\":[{\"error_x\":{\"color\":\"#2a3f5f\"},\"error_y\":{\"color\":\"#2a3f5f\"},\"marker\":{\"line\":{\"color\":\"#E5ECF6\",\"width\":0.5},\"pattern\":{\"fillmode\":\"overlay\",\"size\":10,\"solidity\":0.2}},\"type\":\"bar\"}],\"scattergeo\":[{\"type\":\"scattergeo\",\"marker\":{\"colorbar\":{\"outlinewidth\":0,\"ticks\":\"\"}}}],\"scatterpolar\":[{\"type\":\"scatterpolar\",\"marker\":{\"colorbar\":{\"outlinewidth\":0,\"ticks\":\"\"}}}],\"histogram\":[{\"marker\":{\"pattern\":{\"fillmode\":\"overlay\",\"size\":10,\"solidity\":0.2}},\"type\":\"histogram\"}],\"scattergl\":[{\"type\":\"scattergl\",\"marker\":{\"colorbar\":{\"outlinewidth\":0,\"ticks\":\"\"}}}],\"scatter3d\":[{\"type\":\"scatter3d\",\"line\":{\"colorbar\":{\"outlinewidth\":0,\"ticks\":\"\"}},\"marker\":{\"colorbar\":{\"outlinewidth\":0,\"ticks\":\"\"}}}],\"scattermapbox\":[{\"type\":\"scattermapbox\",\"marker\":{\"colorbar\":{\"outlinewidth\":0,\"ticks\":\"\"}}}],\"scatterternary\":[{\"type\":\"scatterternary\",\"marker\":{\"colorbar\":{\"outlinewidth\":0,\"ticks\":\"\"}}}],\"scattercarpet\":[{\"type\":\"scattercarpet\",\"marker\":{\"colorbar\":{\"outlinewidth\":0,\"ticks\":\"\"}}}],\"carpet\":[{\"aaxis\":{\"endlinecolor\":\"#2a3f5f\",\"gridcolor\":\"white\",\"linecolor\":\"white\",\"minorgridcolor\":\"white\",\"startlinecolor\":\"#2a3f5f\"},\"baxis\":{\"endlinecolor\":\"#2a3f5f\",\"gridcolor\":\"white\",\"linecolor\":\"white\",\"minorgridcolor\":\"white\",\"startlinecolor\":\"#2a3f5f\"},\"type\":\"carpet\"}],\"table\":[{\"cells\":{\"fill\":{\"color\":\"#EBF0F8\"},\"line\":{\"color\":\"white\"}},\"header\":{\"fill\":{\"color\":\"#C8D4E3\"},\"line\":{\"color\":\"white\"}},\"type\":\"table\"}],\"barpolar\":[{\"marker\":{\"line\":{\"color\":\"#E5ECF6\",\"width\":0.5},\"pattern\":{\"fillmode\":\"overlay\",\"size\":10,\"solidity\":0.2}},\"type\":\"barpolar\"}],\"pie\":[{\"automargin\":true,\"type\":\"pie\"}]},\"layout\":{\"autotypenumbers\":\"strict\",\"colorway\":[\"#636efa\",\"#EF553B\",\"#00cc96\",\"#ab63fa\",\"#FFA15A\",\"#19d3f3\",\"#FF6692\",\"#B6E880\",\"#FF97FF\",\"#FECB52\"],\"font\":{\"color\":\"#2a3f5f\"},\"hovermode\":\"closest\",\"hoverlabel\":{\"align\":\"left\"},\"paper_bgcolor\":\"white\",\"plot_bgcolor\":\"#E5ECF6\",\"polar\":{\"bgcolor\":\"#E5ECF6\",\"angularaxis\":{\"gridcolor\":\"white\",\"linecolor\":\"white\",\"ticks\":\"\"},\"radialaxis\":{\"gridcolor\":\"white\",\"linecolor\":\"white\",\"ticks\":\"\"}},\"ternary\":{\"bgcolor\":\"#E5ECF6\",\"aaxis\":{\"gridcolor\":\"white\",\"linecolor\":\"white\",\"ticks\":\"\"},\"baxis\":{\"gridcolor\":\"white\",\"linecolor\":\"white\",\"ticks\":\"\"},\"caxis\":{\"gridcolor\":\"white\",\"linecolor\":\"white\",\"ticks\":\"\"}},\"coloraxis\":{\"colorbar\":{\"outlinewidth\":0,\"ticks\":\"\"}},\"colorscale\":{\"sequential\":[[0.0,\"#0d0887\"],[0.1111111111111111,\"#46039f\"],[0.2222222222222222,\"#7201a8\"],[0.3333333333333333,\"#9c179e\"],[0.4444444444444444,\"#bd3786\"],[0.5555555555555556,\"#d8576b\"],[0.6666666666666666,\"#ed7953\"],[0.7777777777777778,\"#fb9f3a\"],[0.8888888888888888,\"#fdca26\"],[1.0,\"#f0f921\"]],\"sequentialminus\":[[0.0,\"#0d0887\"],[0.1111111111111111,\"#46039f\"],[0.2222222222222222,\"#7201a8\"],[0.3333333333333333,\"#9c179e\"],[0.4444444444444444,\"#bd3786\"],[0.5555555555555556,\"#d8576b\"],[0.6666666666666666,\"#ed7953\"],[0.7777777777777778,\"#fb9f3a\"],[0.8888888888888888,\"#fdca26\"],[1.0,\"#f0f921\"]],\"diverging\":[[0,\"#8e0152\"],[0.1,\"#c51b7d\"],[0.2,\"#de77ae\"],[0.3,\"#f1b6da\"],[0.4,\"#fde0ef\"],[0.5,\"#f7f7f7\"],[0.6,\"#e6f5d0\"],[0.7,\"#b8e186\"],[0.8,\"#7fbc41\"],[0.9,\"#4d9221\"],[1,\"#276419\"]]},\"xaxis\":{\"gridcolor\":\"white\",\"linecolor\":\"white\",\"ticks\":\"\",\"title\":{\"standoff\":15},\"zerolinecolor\":\"white\",\"automargin\":true,\"zerolinewidth\":2},\"yaxis\":{\"gridcolor\":\"white\",\"linecolor\":\"white\",\"ticks\":\"\",\"title\":{\"standoff\":15},\"zerolinecolor\":\"white\",\"automargin\":true,\"zerolinewidth\":2},\"scene\":{\"xaxis\":{\"backgroundcolor\":\"#E5ECF6\",\"gridcolor\":\"white\",\"linecolor\":\"white\",\"showbackground\":true,\"ticks\":\"\",\"zerolinecolor\":\"white\",\"gridwidth\":2},\"yaxis\":{\"backgroundcolor\":\"#E5ECF6\",\"gridcolor\":\"white\",\"linecolor\":\"white\",\"showbackground\":true,\"ticks\":\"\",\"zerolinecolor\":\"white\",\"gridwidth\":2},\"zaxis\":{\"backgroundcolor\":\"#E5ECF6\",\"gridcolor\":\"white\",\"linecolor\":\"white\",\"showbackground\":true,\"ticks\":\"\",\"zerolinecolor\":\"white\",\"gridwidth\":2}},\"shapedefaults\":{\"line\":{\"color\":\"#2a3f5f\"}},\"annotationdefaults\":{\"arrowcolor\":\"#2a3f5f\",\"arrowhead\":0,\"arrowwidth\":1},\"geo\":{\"bgcolor\":\"white\",\"landcolor\":\"#E5ECF6\",\"subunitcolor\":\"white\",\"showland\":true,\"showlakes\":true,\"lakecolor\":\"white\"},\"title\":{\"x\":0.05},\"mapbox\":{\"style\":\"light\"}}},\"xaxis\":{\"anchor\":\"y\",\"domain\":[0.0,1.0],\"title\":{\"text\":\"Ann\\u00e9e\"}},\"yaxis\":{\"anchor\":\"x\",\"domain\":[0.0,1.0],\"title\":{\"text\":\"Nombre de M\\u00e9dailles\"}},\"legend\":{\"title\":{\"text\":\"Discipline\"},\"tracegroupgap\":0},\"title\":{\"text\":\"Nombre de m\\u00e9dailles attribu\\u00e9es par discipline au fil des ans\"},\"barmode\":\"stack\"},                        {\"responsive\": true}                    ).then(function(){\n",
              "                            \n",
              "var gd = document.getElementById('1da3271f-598b-42f8-bf29-8819672de065');\n",
              "var x = new MutationObserver(function (mutations, observer) {{\n",
              "        var display = window.getComputedStyle(gd).display;\n",
              "        if (!display || display === 'none') {{\n",
              "            console.log([gd, 'removed!']);\n",
              "            Plotly.purge(gd);\n",
              "            observer.disconnect();\n",
              "        }}\n",
              "}});\n",
              "\n",
              "// Listen for the removal of the full notebook cells\n",
              "var notebookContainer = gd.closest('#notebook-container');\n",
              "if (notebookContainer) {{\n",
              "    x.observe(notebookContainer, {childList: true});\n",
              "}}\n",
              "\n",
              "// Listen for the clearing of the current output cell\n",
              "var outputEl = gd.closest('.output');\n",
              "if (outputEl) {{\n",
              "    x.observe(outputEl, {childList: true});\n",
              "}}\n",
              "\n",
              "                        })                };                            </script>        </div>\n",
              "</body>\n",
              "</html>"
            ]
          },
          "metadata": {}
        }
      ]
    },
    {
      "cell_type": "code",
      "source": [
        "# Traitement"
      ],
      "metadata": {
        "id": "UhwweSS7dfLE"
      },
      "execution_count": null,
      "outputs": []
    },
    {
      "cell_type": "code",
      "source": [
        "df_athletes = spark.read.csv('olympic_athletes.csv', header=True, inferSchema=True)\n",
        "df_hosts = spark.read.csv('olympic_hosts.csv', header=True, inferSchema=True)\n",
        "df_medals = spark.read.csv('olympic_medals.csv', header=True, inferSchema=True)\n",
        "df_results = spark.read.csv('olympic_results.csv', header=True, inferSchema=True)"
      ],
      "metadata": {
        "id": "TBzeyTqVdhly"
      },
      "execution_count": 7,
      "outputs": []
    },
    {
      "cell_type": "code",
      "source": [
        "# df_medals"
      ],
      "metadata": {
        "id": "y5a3VD2Ju_dV"
      },
      "execution_count": null,
      "outputs": []
    },
    {
      "cell_type": "code",
      "source": [
        "df_medals.printSchema()"
      ],
      "metadata": {
        "colab": {
          "base_uri": "https://localhost:8080/"
        },
        "id": "cwW_ZgHfm6so",
        "outputId": "76f4a018-8449-4315-d109-4d6715f00c41"
      },
      "execution_count": 8,
      "outputs": [
        {
          "output_type": "stream",
          "name": "stdout",
          "text": [
            "root\n",
            " |-- Unnamed: 0: integer (nullable = true)\n",
            " |-- discipline_title: string (nullable = true)\n",
            " |-- slug_game: string (nullable = true)\n",
            " |-- event_title: string (nullable = true)\n",
            " |-- event_gender: string (nullable = true)\n",
            " |-- medal_type: string (nullable = true)\n",
            " |-- participant_type: string (nullable = true)\n",
            " |-- participant_title: string (nullable = true)\n",
            " |-- athlete_url: string (nullable = true)\n",
            " |-- athlete_full_name: string (nullable = true)\n",
            " |-- country_name: string (nullable = true)\n",
            " |-- country_code: string (nullable = true)\n",
            " |-- country_3_letter_code: string (nullable = true)\n",
            "\n"
          ]
        }
      ]
    },
    {
      "cell_type": "code",
      "source": [
        "df_medals = df_medals.drop(\"participant_title\", \"country_code\", \"athlete_url\")\n",
        "df_medals.printSchema()"
      ],
      "metadata": {
        "colab": {
          "base_uri": "https://localhost:8080/"
        },
        "id": "3laEjzYHdiMk",
        "outputId": "5c2e1420-dcd5-439a-8067-4a9249549879"
      },
      "execution_count": 9,
      "outputs": [
        {
          "output_type": "stream",
          "name": "stdout",
          "text": [
            "root\n",
            " |-- Unnamed: 0: integer (nullable = true)\n",
            " |-- discipline_title: string (nullable = true)\n",
            " |-- slug_game: string (nullable = true)\n",
            " |-- event_title: string (nullable = true)\n",
            " |-- event_gender: string (nullable = true)\n",
            " |-- medal_type: string (nullable = true)\n",
            " |-- participant_type: string (nullable = true)\n",
            " |-- athlete_full_name: string (nullable = true)\n",
            " |-- country_name: string (nullable = true)\n",
            " |-- country_3_letter_code: string (nullable = true)\n",
            "\n"
          ]
        }
      ]
    },
    {
      "cell_type": "code",
      "source": [
        "df_medals.show()"
      ],
      "metadata": {
        "colab": {
          "base_uri": "https://localhost:8080/"
        },
        "id": "gFcJY3k8npyp",
        "outputId": "53d610ec-5e7b-4f7a-8aa9-2a00c4b43e18"
      },
      "execution_count": 13,
      "outputs": [
        {
          "output_type": "stream",
          "name": "stdout",
          "text": [
            "+----------+----------------+------------+--------------------+------------+----------+----------------+--------------------+--------------------+---------------------+\n",
            "|Unnamed: 0|discipline_title|   slug_game|         event_title|event_gender|medal_type|participant_type|   athlete_full_name|        country_name|country_3_letter_code|\n",
            "+----------+----------------+------------+--------------------+------------+----------+----------------+--------------------+--------------------+---------------------+\n",
            "|         0|         Curling|beijing-2022|       Mixed Doubles|       Mixed|      GOLD|        GameTeam|Stefania CONSTANTINI|               Italy|                  ITA|\n",
            "|         1|         Curling|beijing-2022|       Mixed Doubles|       Mixed|      GOLD|        GameTeam|        Amos MOSANER|               Italy|                  ITA|\n",
            "|         2|         Curling|beijing-2022|       Mixed Doubles|       Mixed|    SILVER|        GameTeam|    Kristin SKASLIEN|              Norway|                  NOR|\n",
            "|         3|         Curling|beijing-2022|       Mixed Doubles|       Mixed|    SILVER|        GameTeam|  Magnus NEDREGOTTEN|              Norway|                  NOR|\n",
            "|         4|         Curling|beijing-2022|       Mixed Doubles|       Mixed|    BRONZE|        GameTeam|       Almida DE VAL|              Sweden|                  SWE|\n",
            "|         5|         Curling|beijing-2022|       Mixed Doubles|       Mixed|    BRONZE|        GameTeam|      Oskar ERIKSSON|              Sweden|                  SWE|\n",
            "|         6|         Curling|beijing-2022|               Women|       Women|      GOLD|        GameTeam|                NULL|       Great Britain|                  GBR|\n",
            "|         7|         Curling|beijing-2022|               Women|       Women|    SILVER|        GameTeam|                NULL|               Japan|                  JPN|\n",
            "|         8|         Curling|beijing-2022|               Women|       Women|    BRONZE|        GameTeam|                NULL|              Sweden|                  SWE|\n",
            "|         9|         Curling|beijing-2022|                 Men|         Men|      GOLD|        GameTeam|                NULL|              Sweden|                  SWE|\n",
            "|        10|         Curling|beijing-2022|                 Men|         Men|    SILVER|        GameTeam|                NULL|       Great Britain|                  GBR|\n",
            "|        11|         Curling|beijing-2022|                 Men|         Men|    BRONZE|        GameTeam|                NULL|              Canada|                  CAN|\n",
            "|        12|Freestyle Skiing|beijing-2022|        Men's Moguls|         Men|    SILVER|         Athlete|    Mikael KINGSBURY|              Canada|                  CAN|\n",
            "|        13|Freestyle Skiing|beijing-2022|        Men's Moguls|         Men|      GOLD|         Athlete|     Walter WALLBERG|              Sweden|                  SWE|\n",
            "|        14|Freestyle Skiing|beijing-2022|        Men's Moguls|         Men|    BRONZE|         Athlete|     Ikuma HORISHIMA|               Japan|                  JPN|\n",
            "|        15|Freestyle Skiing|beijing-2022|Men's Freeski Hal...|         Men|      GOLD|         Athlete|       Nico PORTEOUS|         New Zealand|                  NZL|\n",
            "|        16|Freestyle Skiing|beijing-2022|Men's Freeski Hal...|         Men|    SILVER|         Athlete|          David WISE|United States of ...|                  USA|\n",
            "|        17|Freestyle Skiing|beijing-2022|Men's Freeski Hal...|         Men|    BRONZE|         Athlete|       Alex FERREIRA|United States of ...|                  USA|\n",
            "|        18|Freestyle Skiing|beijing-2022|Men's Freeski Big...|         Men|    BRONZE|         Athlete|      Henrik HARLAUT|              Sweden|                  SWE|\n",
            "|        19|Freestyle Skiing|beijing-2022|Men's Freeski Big...|         Men|      GOLD|         Athlete|           Birk RUUD|              Norway|                  NOR|\n",
            "+----------+----------------+------------+--------------------+------------+----------+----------------+--------------------+--------------------+---------------------+\n",
            "only showing top 20 rows\n",
            "\n"
          ]
        }
      ]
    },
    {
      "cell_type": "code",
      "source": [
        "missing_counts = df_medals.select([spark_sum(when(col(c).isNull() | isnan(col(c)), 1).otherwise(0)).alias(c) for c in df_medals.columns])\n",
        "missing_counts.show()"
      ],
      "metadata": {
        "colab": {
          "base_uri": "https://localhost:8080/"
        },
        "id": "kmCPgGxbdim4",
        "outputId": "5a5af6ad-312e-4818-eda7-06b3d38be8fe"
      },
      "execution_count": 12,
      "outputs": [
        {
          "output_type": "stream",
          "name": "stdout",
          "text": [
            "+----------+----------------+---------+-----------+------------+----------+----------------+-----------------+------------+---------------------+\n",
            "|Unnamed: 0|discipline_title|slug_game|event_title|event_gender|medal_type|participant_type|athlete_full_name|country_name|country_3_letter_code|\n",
            "+----------+----------------+---------+-----------+------------+----------+----------------+-----------------+------------+---------------------+\n",
            "|         0|               0|        0|          0|           0|         0|               0|             3624|           0|                    0|\n",
            "+----------+----------------+---------+-----------+------------+----------+----------------+-----------------+------------+---------------------+\n",
            "\n"
          ]
        }
      ]
    },
    {
      "cell_type": "code",
      "source": [
        "df_null_athlete_full_name = df_medals.filter(col(\"athlete_full_name\").isNull())\n",
        "unique_participant_types = df_null_athlete_full_name.select(\"participant_type\").distinct()\n",
        "unique_participant_types.show()"
      ],
      "metadata": {
        "colab": {
          "base_uri": "https://localhost:8080/"
        },
        "id": "FBPwtJKtnlh5",
        "outputId": "64b13034-1795-41cd-f6b6-566a5207a9fb"
      },
      "execution_count": 14,
      "outputs": [
        {
          "output_type": "stream",
          "name": "stdout",
          "text": [
            "+----------------+\n",
            "|participant_type|\n",
            "+----------------+\n",
            "|        GameTeam|\n",
            "+----------------+\n",
            "\n"
          ]
        }
      ]
    },
    {
      "cell_type": "code",
      "source": [
        "df_medals = df_medals.withColumn(\n",
        "    \"athlete_full_name\",\n",
        "    when(col(\"athlete_full_name\").isNull(), concat(lit(\"Team \"), col(\"country_name\"))).otherwise(col(\"athlete_full_name\"))\n",
        ")\n",
        "df_medals.printSchema()\n",
        "df_medals.show()"
      ],
      "metadata": {
        "colab": {
          "base_uri": "https://localhost:8080/"
        },
        "id": "k4qP_MVWpKDp",
        "outputId": "638fd3fd-0f35-4108-cded-123099a0b26c"
      },
      "execution_count": 22,
      "outputs": [
        {
          "output_type": "stream",
          "name": "stdout",
          "text": [
            "root\n",
            " |-- discipline_title: string (nullable = true)\n",
            " |-- slug_game: string (nullable = true)\n",
            " |-- event_title: string (nullable = true)\n",
            " |-- event_gender: string (nullable = true)\n",
            " |-- medal_type: string (nullable = true)\n",
            " |-- participant_type: string (nullable = true)\n",
            " |-- athlete_full_name: string (nullable = true)\n",
            " |-- country_name: string (nullable = true)\n",
            " |-- country_3_letter_code: string (nullable = true)\n",
            "\n",
            "+----------------+------------+--------------------+------------+----------+----------------+--------------------+--------------------+---------------------+\n",
            "|discipline_title|   slug_game|         event_title|event_gender|medal_type|participant_type|   athlete_full_name|        country_name|country_3_letter_code|\n",
            "+----------------+------------+--------------------+------------+----------+----------------+--------------------+--------------------+---------------------+\n",
            "|         Curling|beijing-2022|       Mixed Doubles|       Mixed|      GOLD|        GameTeam|Stefania CONSTANTINI|               Italy|                  ITA|\n",
            "|         Curling|beijing-2022|       Mixed Doubles|       Mixed|      GOLD|        GameTeam|        Amos MOSANER|               Italy|                  ITA|\n",
            "|         Curling|beijing-2022|       Mixed Doubles|       Mixed|    SILVER|        GameTeam|    Kristin SKASLIEN|              Norway|                  NOR|\n",
            "|         Curling|beijing-2022|       Mixed Doubles|       Mixed|    SILVER|        GameTeam|  Magnus NEDREGOTTEN|              Norway|                  NOR|\n",
            "|         Curling|beijing-2022|       Mixed Doubles|       Mixed|    BRONZE|        GameTeam|       Almida DE VAL|              Sweden|                  SWE|\n",
            "|         Curling|beijing-2022|       Mixed Doubles|       Mixed|    BRONZE|        GameTeam|      Oskar ERIKSSON|              Sweden|                  SWE|\n",
            "|         Curling|beijing-2022|               Women|       Women|      GOLD|        GameTeam|  Team Great Britain|       Great Britain|                  GBR|\n",
            "|         Curling|beijing-2022|               Women|       Women|    SILVER|        GameTeam|          Team Japan|               Japan|                  JPN|\n",
            "|         Curling|beijing-2022|               Women|       Women|    BRONZE|        GameTeam|         Team Sweden|              Sweden|                  SWE|\n",
            "|         Curling|beijing-2022|                 Men|         Men|      GOLD|        GameTeam|         Team Sweden|              Sweden|                  SWE|\n",
            "|         Curling|beijing-2022|                 Men|         Men|    SILVER|        GameTeam|  Team Great Britain|       Great Britain|                  GBR|\n",
            "|         Curling|beijing-2022|                 Men|         Men|    BRONZE|        GameTeam|         Team Canada|              Canada|                  CAN|\n",
            "|Freestyle Skiing|beijing-2022|        Men's Moguls|         Men|    SILVER|         Athlete|    Mikael KINGSBURY|              Canada|                  CAN|\n",
            "|Freestyle Skiing|beijing-2022|        Men's Moguls|         Men|      GOLD|         Athlete|     Walter WALLBERG|              Sweden|                  SWE|\n",
            "|Freestyle Skiing|beijing-2022|        Men's Moguls|         Men|    BRONZE|         Athlete|     Ikuma HORISHIMA|               Japan|                  JPN|\n",
            "|Freestyle Skiing|beijing-2022|Men's Freeski Hal...|         Men|      GOLD|         Athlete|       Nico PORTEOUS|         New Zealand|                  NZL|\n",
            "|Freestyle Skiing|beijing-2022|Men's Freeski Hal...|         Men|    SILVER|         Athlete|          David WISE|United States of ...|                  USA|\n",
            "|Freestyle Skiing|beijing-2022|Men's Freeski Hal...|         Men|    BRONZE|         Athlete|       Alex FERREIRA|United States of ...|                  USA|\n",
            "|Freestyle Skiing|beijing-2022|Men's Freeski Big...|         Men|    BRONZE|         Athlete|      Henrik HARLAUT|              Sweden|                  SWE|\n",
            "|Freestyle Skiing|beijing-2022|Men's Freeski Big...|         Men|      GOLD|         Athlete|           Birk RUUD|              Norway|                  NOR|\n",
            "+----------------+------------+--------------------+------------+----------+----------------+--------------------+--------------------+---------------------+\n",
            "only showing top 20 rows\n",
            "\n"
          ]
        }
      ]
    },
    {
      "cell_type": "code",
      "source": [
        "missing_counts = df_medals.select([spark_sum(when(col(c).isNull() | isnan(col(c)), 1).otherwise(0)).alias(c) for c in df_medals.columns])\n",
        "missing_counts.show()"
      ],
      "metadata": {
        "colab": {
          "base_uri": "https://localhost:8080/"
        },
        "id": "G0AngWVkpcjc",
        "outputId": "ec80da45-8d5f-4ae9-c504-a79b3a8259eb"
      },
      "execution_count": 23,
      "outputs": [
        {
          "output_type": "stream",
          "name": "stdout",
          "text": [
            "+----------------+---------+-----------+------------+----------+----------------+-----------------+------------+---------------------+\n",
            "|discipline_title|slug_game|event_title|event_gender|medal_type|participant_type|athlete_full_name|country_name|country_3_letter_code|\n",
            "+----------------+---------+-----------+------------+----------+----------------+-----------------+------------+---------------------+\n",
            "|               0|        0|          0|           0|         0|               0|                0|           0|                    0|\n",
            "+----------------+---------+-----------+------------+----------+----------------+-----------------+------------+---------------------+\n",
            "\n"
          ]
        }
      ]
    },
    {
      "cell_type": "code",
      "source": [
        "# df_athletes\n",
        "df_athletes = spark.read.csv('olympic_athletes.csv', header=True, inferSchema=True)\n",
        "df_athletes.show()"
      ],
      "metadata": {
        "colab": {
          "base_uri": "https://localhost:8080/"
        },
        "id": "d5TDcNY9u7On",
        "outputId": "b5f9abbf-8fb1-48dc-c953-6931fbaed7f2"
      },
      "execution_count": 48,
      "outputs": [
        {
          "output_type": "stream",
          "name": "stdout",
          "text": [
            "+--------------------+--------------------+--------------------+----------------+------------------+--------------+----+\n",
            "|         athlete_url|   athlete_full_name|games_participations|      first_game|athlete_year_birth|athlete_medals| bio|\n",
            "+--------------------+--------------------+--------------------+----------------+------------------+--------------+----+\n",
            "|https://olympics....|Cooper WOODS-TOPA...|                   1|    Beijing 2022|            2000.0|          NULL|NULL|\n",
            "|https://olympics....|      Felix ELOFSSON|                   2|PyeongChang 2018|            1995.0|          NULL|NULL|\n",
            "|https://olympics....|       Dylan WALCZYK|                   1|    Beijing 2022|            1993.0|          NULL|NULL|\n",
            "|https://olympics....|       Olli PENTTALA|                   1|    Beijing 2022|            1995.0|          NULL|NULL|\n",
            "|https://olympics....|    Dmitriy REIKHERD|                   1|    Beijing 2022|            1989.0|          NULL|NULL|\n",
            "|https://olympics....|         Matt GRAHAM|                   3|      Sochi 2014|            1994.0|             \"|NULL|\n",
            "|                   1|                NULL|                NULL|            NULL|              NULL|          NULL|NULL|\n",
            "|                   S|                NULL|                NULL|            NULL|              NULL|          NULL|NULL|\n",
            "|                   ,|                NULL|                NULL|            NULL|              NULL|          NULL|NULL|\n",
            "|https://olympics....|     Ikuma HORISHIMA|                   2|PyeongChang 2018|            1997.0|             \"|NULL|\n",
            "|                   1|                NULL|                NULL|            NULL|              NULL|          NULL|NULL|\n",
            "|                   B|                NULL|                NULL|            NULL|              NULL|          NULL|NULL|\n",
            "|                   ,|                NULL|                NULL|            NULL|              NULL|          NULL|NULL|\n",
            "|https://olympics....|         Daichi HARA|                   2|PyeongChang 2018|            1997.0|             \"|NULL|\n",
            "|                   1|                NULL|                NULL|            NULL|              NULL|          NULL|NULL|\n",
            "|                   B|                NULL|                NULL|            NULL|              NULL|          NULL|NULL|\n",
            "|                   ,|                NULL|                NULL|            NULL|              NULL|          NULL|NULL|\n",
            "|https://olympics....|      Laurent DUMAIS|                   1|    Beijing 2022|            1996.0|          NULL|NULL|\n",
            "|https://olympics....|      James MATHESON|                   2|PyeongChang 2018|            1995.0|          NULL|NULL|\n",
            "|https://olympics....|      Pavel KOLMAKOV|                   3|      Sochi 2014|            1996.0|          NULL|NULL|\n",
            "+--------------------+--------------------+--------------------+----------------+------------------+--------------+----+\n",
            "only showing top 20 rows\n",
            "\n"
          ]
        }
      ]
    },
    {
      "cell_type": "code",
      "source": [],
      "metadata": {
        "id": "1sA_si7UO3xq"
      },
      "execution_count": null,
      "outputs": []
    },
    {
      "cell_type": "code",
      "source": [
        "df_athletes.select(\"athlete_medals\").distinct().show()"
      ],
      "metadata": {
        "colab": {
          "base_uri": "https://localhost:8080/"
        },
        "id": "xDAEY6VkO0UZ",
        "outputId": "c476206c-5c51-4b7c-b3f8-b3c165489532"
      },
      "execution_count": 58,
      "outputs": [
        {
          "output_type": "stream",
          "name": "stdout",
          "text": [
            "+--------------------+\n",
            "|      athlete_medals|\n",
            "+--------------------+\n",
            "|    four years later|\n",
            "| with Jung taking...|\n",
            "| he fell on his s...|\n",
            "|000m and finished...|\n",
            "| he was found to ...|\n",
            "| when he tested p...|\n",
            "| allowing Ruby to...|\n",
            "| easily winning t...|\n",
            "| the 200 breastst...|\n",
            "|    and very erratic|\n",
            "| who she coached....|\n",
            "|           and 1997)|\n",
            "| a distance at wh...|\n",
            "| winning an Olymp...|\n",
            "| placing eighth i...|\n",
            "| and 1987. Carlis...|\n",
            "| Kerry and two of...|\n",
            "| reported to flig...|\n",
            "|       Margot Wilkie|\n",
            "|          Kim Jacobs|\n",
            "+--------------------+\n",
            "only showing top 20 rows\n",
            "\n"
          ]
        }
      ]
    },
    {
      "cell_type": "code",
      "source": [
        "df_athletes_non_null = df_athletes.filter(col(\"athlete_medals\") != \"\").show()"
      ],
      "metadata": {
        "colab": {
          "base_uri": "https://localhost:8080/"
        },
        "id": "ePt8Pg-I2Pbf",
        "outputId": "15e576ff-a764-4650-bc2f-b72f70113dea"
      },
      "execution_count": 51,
      "outputs": [
        {
          "output_type": "stream",
          "name": "stdout",
          "text": [
            "+--------------------+--------------------+--------------------+--------------------+--------------------+--------------------+--------------------+\n",
            "|         athlete_url|   athlete_full_name|games_participations|          first_game|  athlete_year_birth|      athlete_medals|                 bio|\n",
            "+--------------------+--------------------+--------------------+--------------------+--------------------+--------------------+--------------------+\n",
            "|https://olympics....|         Matt GRAHAM|                   3|          Sochi 2014|              1994.0|                   \"|                NULL|\n",
            "|https://olympics....|     Ikuma HORISHIMA|                   2|    PyeongChang 2018|              1997.0|                   \"|                NULL|\n",
            "|https://olympics....|         Daichi HARA|                   2|    PyeongChang 2018|              1997.0|                   \"|                NULL|\n",
            "|https://olympics....|    Mikael KINGSBURY|                   3|          Sochi 2014|              1992.0|                   \"|                NULL|\n",
            "|A LOCAL SPECIALIT...| among them Jean-...| Olympic mogul ch...| two-time Olympic...|   Justine and Chloe| who scored a one...| Kingsbury has pr...|\n",
            "|https://olympics....|     Walter WALLBERG|                   2|    PyeongChang 2018|              2000.0|                   \"|                NULL|\n",
            "|https://olympics....|       Kevin ROLLAND|                   3|          Sochi 2014|              1989.0|                   \"|                NULL|\n",
            "|https://olympics....|       Nico PORTEOUS|                   2|    PyeongChang 2018|              2001.0|                   \"|                NULL|\n",
            "|https://olympics....|          David WISE|                   3|          Sochi 2014|              1990.0|                   \"|                NULL|\n",
            "|The favourite hea...| David Wise did n...| producing a subl...|    at the age of 27| the US skier rep...| remaining the ev...|                NULL|\n",
            "|David Wise grew u...| not far from Cal...| he developed a l...| be it on the tra...| the youngster di...| in which he bega...|                NULL|\n",
            "|             In 2011| the Internationa...| thereby bringing...| he could not hid...|                 ‘Oh| we’re in Russia. Oh| here’s our first...|\n",
            "| On 18 February 2014|        in difficult| snowy conditions...| Wise dug deep to...| producing a resi...| including one of...| and earning a sc...|\n",
            "|Wise did not enjo...| as he contended ...|             however| as he prepared f...| winning a fourth...| his first victor...|                NULL|\n",
            "|https://olympics....|       Alex FERREIRA|                   2|    PyeongChang 2018|              1994.0|                   \"|                NULL|\n",
            "|https://olympics....|       Gus KENWORTHY|                   3|          Sochi 2014|              1991.0|                   \"|                NULL|\n",
            "|In 2019 he switch...|       Great Britain| and won the free...| he completed a 7...| 545-mile cycle t...|        raising $249|745 for AIDS/Life...|\n",
            "|https://olympics....|           Birk RUUD|                   1|        Beijing 2022|              2000.0|                   \"|                NULL|\n",
            "|https://olympics....|      Henrik HARLAUT|                   3|          Sochi 2014|              1991.0|                   \"|                NULL|\n",
            "|https://olympics....|       Jesper TJADER|                   3|          Sochi 2014|              1994.0|                   \"|                NULL|\n",
            "+--------------------+--------------------+--------------------+--------------------+--------------------+--------------------+--------------------+\n",
            "only showing top 20 rows\n",
            "\n"
          ]
        }
      ]
    },
    {
      "cell_type": "code",
      "source": [
        "df_athletes = df_athletes.withColumn(\"athlete_medals\", regexp_replace(col(\"athlete_medals\"), \"\\n\", \"\"))"
      ],
      "metadata": {
        "id": "HI0bxy-Fu6CE"
      },
      "execution_count": 45,
      "outputs": []
    },
    {
      "cell_type": "code",
      "source": [
        "df_athletes = df_athletes.withColumn(\"gold_medals\", regexp_extract(col(\"athlete_medals\"), r'(\\d+)\\s*G', 1).cast('int'))\n",
        "df_athletes = df_athletes.withColumn(\"silver_medals\", regexp_extract(col(\"athlete_medals\"), r'(\\d+)\\s*S', 1).cast('int'))\n",
        "df_athletes = df_athletes.withColumn(\"bronze_medals\", regexp_extract(col(\"athlete_medals\"), r'(\\d+)\\s*B', 1).cast('int'))\n",
        "\n",
        "df_athletes = df_athletes.fillna({'gold_medals': 0, 'silver_medals': 0, 'bronze_medals': 0})\n",
        "\n",
        "df_athletes.printSchema()\n",
        "df_athletes.show(5, truncate=False)"
      ],
      "metadata": {
        "colab": {
          "base_uri": "https://localhost:8080/"
        },
        "id": "5Ro3vr34v6jm",
        "outputId": "e9c6ff33-8376-4e46-cdf1-436d32068c78"
      },
      "execution_count": 46,
      "outputs": [
        {
          "output_type": "stream",
          "name": "stdout",
          "text": [
            "root\n",
            " |-- athlete_url: string (nullable = true)\n",
            " |-- athlete_full_name: string (nullable = true)\n",
            " |-- games_participations: string (nullable = true)\n",
            " |-- first_game: string (nullable = true)\n",
            " |-- athlete_year_birth: string (nullable = true)\n",
            " |-- athlete_medals: string (nullable = true)\n",
            " |-- bio: string (nullable = true)\n",
            " |-- gold_medals: integer (nullable = false)\n",
            " |-- silver_medals: integer (nullable = false)\n",
            " |-- bronze_medals: integer (nullable = false)\n",
            "\n",
            "+-------------------------------------------------------+----------------------+--------------------+----------------+------------------+--------------+----+-----------+-------------+-------------+\n",
            "|athlete_url                                            |athlete_full_name     |games_participations|first_game      |athlete_year_birth|athlete_medals|bio |gold_medals|silver_medals|bronze_medals|\n",
            "+-------------------------------------------------------+----------------------+--------------------+----------------+------------------+--------------+----+-----------+-------------+-------------+\n",
            "|https://olympics.com/en/athletes/cooper-woods-topalovic|Cooper WOODS-TOPALOVIC|1                   |Beijing 2022    |2000.0            |NULL          |NULL|0          |0            |0            |\n",
            "|https://olympics.com/en/athletes/elofsson              |Felix ELOFSSON        |2                   |PyeongChang 2018|1995.0            |NULL          |NULL|0          |0            |0            |\n",
            "|https://olympics.com/en/athletes/dylan-walczyk         |Dylan WALCZYK         |1                   |Beijing 2022    |1993.0            |NULL          |NULL|0          |0            |0            |\n",
            "|https://olympics.com/en/athletes/olli-penttala         |Olli PENTTALA         |1                   |Beijing 2022    |1995.0            |NULL          |NULL|0          |0            |0            |\n",
            "|https://olympics.com/en/athletes/reikherd              |Dmitriy REIKHERD      |1                   |Beijing 2022    |1989.0            |NULL          |NULL|0          |0            |0            |\n",
            "+-------------------------------------------------------+----------------------+--------------------+----------------+------------------+--------------+----+-----------+-------------+-------------+\n",
            "only showing top 5 rows\n",
            "\n"
          ]
        }
      ]
    },
    {
      "cell_type": "code",
      "source": [
        "df_athletes_gold_23 = df_athletes.filter(col(\"gold_medals\") > 1)\n",
        "\n",
        "df_athletes_gold_23.show(truncate=False)"
      ],
      "metadata": {
        "colab": {
          "base_uri": "https://localhost:8080/"
        },
        "id": "yIya0sa4wqs0",
        "outputId": "953322e2-a162-4c44-bcdd-888d8e9d03ce"
      },
      "execution_count": 47,
      "outputs": [
        {
          "output_type": "stream",
          "name": "stdout",
          "text": [
            "+----------------------------------------------------------------------------------------------------------------------------------------------------------------------------------------------------------------------------------------+--------------------------------------------------------------------------------------------------------------------------------------------------------------------------------------------------------+-----------------------------------------------------------------------------------------------------------------------------------------------------------------+-------------------------------------------------------------------------------------------------------------------------------------------------------------------------------------------------------------------------+---------------------------------------------------------------------------------------------------------------------------------+--------------------------------------------------------------------------------------------------------------------------------------------------------------------------------------------------------------------------------------------------------------------------------------------------------------------------------------------------------------------------------------------------------------------------------------------------------------------------+------------------------------------------------------------------------------------------------------------------------------------------------------------------------------------------------------------------------------------------------------------+-----------+-------------+-------------+\n",
            "|athlete_url                                                                                                                                                                                                                             |athlete_full_name                                                                                                                                                                                       |games_participations                                                                                                                                             |first_game                                                                                                                                                                                                               |athlete_year_birth                                                                                                               |athlete_medals                                                                                                                                                                                                                                                                                                                                                                                                                                                            |bio                                                                                                                                                                                                                                                         |gold_medals|silver_medals|bronze_medals|\n",
            "+----------------------------------------------------------------------------------------------------------------------------------------------------------------------------------------------------------------------------------------+--------------------------------------------------------------------------------------------------------------------------------------------------------------------------------------------------------+-----------------------------------------------------------------------------------------------------------------------------------------------------------------+-------------------------------------------------------------------------------------------------------------------------------------------------------------------------------------------------------------------------+---------------------------------------------------------------------------------------------------------------------------------+--------------------------------------------------------------------------------------------------------------------------------------------------------------------------------------------------------------------------------------------------------------------------------------------------------------------------------------------------------------------------------------------------------------------------------------------------------------------------+------------------------------------------------------------------------------------------------------------------------------------------------------------------------------------------------------------------------------------------------------------+-----------+-------------+-------------+\n",
            "|Domestically Riedel won the last East German title in 1990 before reunification                                                                                                                                                         | then was German Champion in 1992-98                                                                                                                                                                    | 2000                                                                                                                                                            | 2001                                                                                                                                                                                                                    | 2003                                                                                                                            | and 2006. He made headlines in July 1996 when presenting himself as a naked discus thrower in the yellow press magazine Bunte. Riedel was runner-up for 1998 German “Sportsman of the Year”; was “2002 Athlete of the Year”; received the Rudolf Harbig Memorial Award in 2003; and came in 41st at the ZDF-choice \"\"Sportsman of the Century\"\" in November 2004. During the 2009 World Championships in Berlin he was a color commentator for the German TV channel ARD.|NULL                                                                                                                                                                                                                                                        |1998       |0            |0            |\n",
            "|Todd Graves learned to shoot as a child with his father and later joined the US Army Marksmanship Unit in Fort Benning                                                                                                                  | Georgia. He competed at four Olympic Games (1992-2004) in skeet                                                                                                                                        | also shooting trap in 1992                                                                                                                                      | and winning a bronze medal in skeet in 2000. Graves won a silver medal in skeet at the 2007 Pan American Games. He competed at multiple World Championships                                                             | winning a skeet bronze in 1998 and team skeet silver in 2002                                                                    | and won several World Cup medals. In 2002 Graves was the overall World Cup Skeet Champion. He also won gold at the 1997 Championship of the Americas. In 2012 Graves was appointed the US national team shotgun coach.                                                                                                                                                                                                                                                   |NULL                                                                                                                                                                                                                                                        |2002       |0            |0            |\n",
            "|After 4 years on the Canadian national short track team                                                                                                                                                                                 | Auch moved on to long track                                                                                                                                                                            | where she would spend almost a decade and a half on the national team. After a non-medaling appearance at the 1992 Winter Olympics                              | she claimed silver medals in the 500 m event                                                                                                                                                                            | her specialty                                                                                                                   | at the 1994 and 1998 Games. In the same year as her first Olympic medal                                                                                                                                                                                                                                                                                                                                                                                                  | she finished third overall in the event at the World Cup and took silver at the World Championships                                                                                                                                                        |1998       |0            |0            |\n",
            "|Shot putter and part-time discus thrower Stephanie Storp was a two-time Olympian                                                                                                                                                        | finishing seventh at the 1992 Barcelona Olympics and sixth four years later in Atlanta. She also participated in five World Championships from 1987-97                                                 | winning the bronze medal in 1997 as her best result. She competed in the European Championships in 1986                                                         | 1990                                                                                                                                                                                                                    | 1994 and at the World Indoors in 1993                                                                                           | winning silver. She won gold at the 1989 European Indoors. Domestically Storp won the 1994 German title in shot put                                                                                                                                                                                                                                                                                                                                                      | making the podium consecutively in 1986-98.                                                                                                                                                                                                                |1994       |0            |0            |\n",
            "|The world’s top backstroker at the start of 1990s                                                                                                                                                                                       | López-Zubero competed at three Olympic Games                                                                                                                                                           | two World Championships and five European Championships. He won 1992 Olympic 200 backstroke gold                                                                | and was World 200 backstroke champion in 1991 and 100 backstroke champion in 1994. His European titles were in the 100 back in 1989                                                                                     | 1991                                                                                                                            | 1993 and 1997; and the 200 back in 1991. He also won both backstroke golds at the 1990 and 1994 Goodwill Games. López-Zubero set three World records during his career                                                                                                                                                                                                                                                                                                   | all in 1991 and all in the 200 backstroke. In April 1991                                                                                                                                                                                                   |1994       |0            |0            |\n",
            "|At the East German national championships                                                                                                                                                                                               | Hochwald won titles in 1975                                                                                                                                                                            | was runner-up in 1983                                                                                                                                           | 1985 and 1990                                                                                                                                                                                                           | and third in 1986. He was runner-up in 1997-98 at the German nationals                                                          | and placed third in 2001. His collection is capped by the 1983 East German and 2000 German team titles                                                                                                                                                                                                                                                                                                                                                                   | all with SC Diana (formerly the East German Dynamo) Hoppegarten.                                                                                                                                                                                           |2000       |0            |0            |\n",
            "|Duncan Kennedy competed in luge three times at the Olympic Games and slid on the World Cup circuit from over 15 years. He was the first American to win a luge World Cup event                                                          | which occurred at Sigulda                                                                                                                                                                              | Latvia (then Soviet Union)                                                                                                                                      | in early 1991. Twice he finished second in the season World Cup                                                                                                                                                         | 1991-92 and 1993-94. Kennedy was also the first American to win two international medals                                        | winning a silver at the 1982 Grosser Preis Trophy in Austria                                                                                                                                                                                                                                                                                                                                                                                                             | and taking a bronze in the same event in 1983. Kennedy retired in 1979 after some falls were found to have caused bleeding around his brain stem. He serves occasionally as a television commentator for luge in the United States.                        |1982       |0            |0            |\n",
            "|Klecker’s husband                                                                                                                                                                                                                       | Joseph Richard “Barney” Klecker                                                                                                                                                                        | was also renowned as an ultramarathoner                                                                                                                         | who set a 1980 world record for 50 miles on the roads                                                                                                                                                                   | and held the American record for 50 km on the track. He also won several city marathons                                         | including the 1978 Grandma’s Marathon in Duluth                                                                                                                                                                                                                                                                                                                                                                                                                          | Minnesota; the 1979 US Olympic Sports Festival marathon; and the City of Lakes Marathon (later the Twin Cities Marathon) in 1978-79.                                                                                                                       |1978       |0            |0            |\n",
            "|PattiSue Plumer was a middle- and long-distance runner who competed at the 1988 and 1992 Olympics                                                                                                                                       | running the 3                                                                                                                                                                                          |000 both years and placing 10th in the 1                                                                                                                         |500 metres in 1992. Internationally Plumer won gold in the 1990 Goodwill Games in the 3K                                                                                                                                 | adding a bronze medal in the 1                                                                                                  |500. She won the 1990 Grand Prix Final in the 5                                                                                                                                                                                                                                                                                                                                                                                                                           |000 metres                                                                                                                                                                                                                                                  |1990       |0            |0            |\n",
            "|Marden competed in three Olympics for the United States                                                                                                                                                                                 | winning silver medals in quad sculls in 1984 and in single sculls in 1988. She had also made the 1980 Olympic team that did not compete. Marden competed nine times at the World Championships (1978-79| 1981-82                                                                                                                                                         | 1985-87                                                                                                                                                                                                                 | 1990-91)                                                                                                                        | wining a bronze medal in singles in 1985 and a bronze in doubles in 1987. Her other international medals include a gold in double sculls at the 1983 Pan American Games and a silver in singles at the 1986 Goodwill Games. Marden also won Boston's Head of the Charles Regatta seven times (1986-89                                                                                                                                                                    | 1991-93).                                                                                                                                                                                                                                                  |1986       |0            |0            |\n",
            "|Keswick competed internationally for the US at the 1991 World Championships                                                                                                                                                             | the 1992 Olympics                                                                                                                                                                                      | the 1993 Universiade                                                                                                                                            | World Championships                                                                                                                                                                                                     | and Chunichi Cup                                                                                                                | and the 1994 Goodwill Games. He was a rings specialist who won four US titles on rings (1989-91                                                                                                                                                                                                                                                                                                                                                                          | 1994). In 1992 he also won national titles on vault and parallel bars. Keswick was seriously injured in February 1995 in a fall off the high bar                                                                                                           |1994       |0            |0            |\n",
            "|Kate Donahoo was at the top level of US and international judoka from 1986-92. Her career was hampered because women’s judo was not an Olympic medal sport until 1992. Women’s judo was a demonstration sport at the 1988 Seoul Olympics| but the USA only entered three women in that competition. Donahoo was US Champion at 56 kg in 1989 and 1990                                                                                            | and was runner-up in 1991                                                                                                                                       | finishing third in 1988. She was US Open Champion in 1987 and 1989 and finished second in that event in 1988 and 1991                                                                                                   | also placing third in 1990. Donahoo won gold at the 1991 Pan American Games                                                     | and won a bronze medal at the 1990 Goodwill Games. In addition to her 1992 Olympic appearance                                                                                                                                                                                                                                                                                                                                                                            | Donahoo placed fifth at the 1989 World Championships.                                                                                                                                                                                                      |1990       |0            |0            |\n",
            "|Larry Myricks made four US Olympic teams – 1976                                                                                                                                                                                         | 1984                                                                                                                                                                                                   | and 1988                                                                                                                                                        | and the 1980 team that did not compete. He won a bronze medal at the 1988 Seoul Olympics. Myricks also won bronze medals at the World Championships in 1987 and 1991. He won gold medals at the 1979 and 1989 World Cups| the 1987 and 1989 World Indoors                                                                                                 | and the 1980 Freedom Games in Philadelphia. He also won a silver medal at the 1986 Goodwill Games and the 1987 Pan American Games.                                                                                                                                                                                                                                                                                                                                       |NULL                                                                                                                                                                                                                                                        |1986       |0            |0            |\n",
            "|Lendon Gray rode for the US at the 1980 Alternate Olympics in Rotterdam                                                                                                                                                                 | the Seoul Olympics in 1988                                                                                                                                                                             | and the 1991 World Cup. She won five gold medals at US Olympic Festivals. She later became a dressage instructor                                                | starting her own program                                                                                                                                                                                                | Dressage4Kids                                                                                                                   | which is a non-profit organization that provides educational and competitive opportunities for youth riders and adults supporting them. In 2011 Gray was inducted into the Roemer Foundation / US Dressage Federation Hall of Fame.                                                                                                                                                                                                                                      |NULL                                                                                                                                                                                                                                                        |2011       |0            |0            |\n",
            "|Kristin Otto                                                                                                                                                                                                                            | of the German Democratic Republic                                                                                                                                                                      | won six gold medals at one Games (1988) to set a women's record for any sport at the Olympics. In Seoul Otto uniquely won gold medals in three different strokes| freestyle                                                                                                                                                                                                               | backstroke and butterfly                                                                                                        | and her overall performance at the 1988 Games ranks as one of history's greatest sporting achievements. Her gold medals came in the 50 freestyle                                                                                                                                                                                                                                                                                                                         | 100 freestyle                                                                                                                                                                                                                                              |1988       |0            |0            |\n",
            "|Linehan swam for the University of Texas. Linehan made the ill-fated 1980 Olympic team                                                                                                                                                  | where she would likely have been favored in the 400 and 800 metre freestyles. She retired after the 1982 World Championships                                                                           | and did not compete in 1983                                                                                                                                     | but returned for the 1984 Olympics                                                                                                                                                                                      | although not as strong as she had been                                                                                          | and placed fourth in the 800 at Los Angeles. Linehan retired after the 1984 Games and moved home to Florida                                                                                                                                                                                                                                                                                                                                                              | where she attended the University of South Florida. She later became a social worker and health care administrator in Peoria                                                                                                                               |1984       |0            |0            |\n",
            "|At the World Championships Gushiken won his first medals in 1979 with bronze in pommelled horse and silver with the team. After winning four medals at the 1981 World Championships (gold on parallel bars                              | silver with the team                                                                                                                                                                                   | and bronze in all-around and floor) and again three medals at the 1983 World Championships (gold on rings                                                       | silver in all-around                                                                                                                                                                                                    | and bronze with the team)                                                                                                       | Gushiken became the second most successful gymnast (behind Li Ning) at the 1984 Games. Gushiken broke his ankle in May 1985                                                                                                                                                                                                                                                                                                                                              | but finished his international career with a bronze medal on pommelled horse at the World Championships in the same year before his retirement.                                                                                                            |1984       |0            |0            |\n",
            "|Crooks was far from retirement following her Olympic success. Although she would compete in three more Olympics                                                                                                                         | from 1988 through 1996                                                                                                                                                                                 | the closest she ever got to the podium again was in the 4x400 m relay in 1992                                                                                   | when the Canadians missed bronze by less than a second. She would                                                                                                                                                       | however                                                                                                                         | earn three more Commonwealth medals (gold in the 4x400 m relay in 1986 and silver in the 800 metres and bronze in the 4x400 m relay in 1994) and one more at the Pan American Games (silver in the 4x400 m relay in 1987). She was also selected as Canada’s flagbearer in the opening ceremony of the 1996 Games and later served on the International Olympic Committee                                                                                                | one of the many administrative positions in sport that she has held since her retirement. She has also worked as a television presenter and received the “IOC Women in Sport Trophy” in 2006. She has been inducted into the British Columbia Sports (2005)|1996       |0            |0            |\n",
            "|Karin Smith was a javelin thrower from Cal Poly San Luis Opisbo and UCLA who competed in major internationals for the United States 10 times. She competed at the 1976                                                                  | 1984                                                                                                                                                                                                   | and 1988 Olympic Games                                                                                                                                          | and made the US team for the 1980 Olympics                                                                                                                                                                              | winning the Olympic Trials in 1980 and 1984. She won the following medals in international meets: silver at the 1981 Universiade| and bronzes at the 1981 World Cup and 1990 Goodwill Games. Smith also competed at the World Athletics Championships in both 1983 and 1991. She was a two-time AIAW Champion                                                                                                                                                                                                                                                                                              | in 1976-77                                                                                                                                                                                                                                                 |1990       |0            |0            |\n",
            "|Randy Givens won the 1984 NCAA sprint double while running for Florida State                                                                                                                                                            | adding titles that year in both relays. In 1983 she had also helped the Seminoles win both the 4x100 and 4x400 at the NCAAs. Givens later won multiple medals representing the US internationally      | including gold in the 1983 Universiade and Pan-American Games 200                                                                                               | and 4x100 relay golds at the 1983 Universiade                                                                                                                                                                           | 1983 Pan Americans                                                                                                              | and the 1986 Goodwill Games. She added silvers in the 1983 Universiade 100 and the 1987 Pan-American Games 200. After college she competed for the Puma Track Club.                                                                                                                                                                                                                                                                                                      |NULL                                                                                                                                                                                                                                                        |1986       |0            |0            |\n",
            "+----------------------------------------------------------------------------------------------------------------------------------------------------------------------------------------------------------------------------------------+--------------------------------------------------------------------------------------------------------------------------------------------------------------------------------------------------------+-----------------------------------------------------------------------------------------------------------------------------------------------------------------+-------------------------------------------------------------------------------------------------------------------------------------------------------------------------------------------------------------------------+---------------------------------------------------------------------------------------------------------------------------------+--------------------------------------------------------------------------------------------------------------------------------------------------------------------------------------------------------------------------------------------------------------------------------------------------------------------------------------------------------------------------------------------------------------------------------------------------------------------------+------------------------------------------------------------------------------------------------------------------------------------------------------------------------------------------------------------------------------------------------------------+-----------+-------------+-------------+\n",
            "only showing top 20 rows\n",
            "\n"
          ]
        }
      ]
    },
    {
      "cell_type": "code",
      "source": [
        "# olympic_results"
      ],
      "metadata": {
        "id": "jl0gGBlZMdW3"
      },
      "execution_count": null,
      "outputs": []
    },
    {
      "cell_type": "code",
      "source": [
        "df_results = spark.read.csv('olympic_results.csv', header=True, inferSchema=True)"
      ],
      "metadata": {
        "id": "GC-XimukMG_T"
      },
      "execution_count": 52,
      "outputs": []
    },
    {
      "cell_type": "code",
      "source": [
        "df_results_null_rank = df_results.filter(col(\"rank_position\").isNull())\n",
        "df_results_null_rank.show()"
      ],
      "metadata": {
        "colab": {
          "base_uri": "https://localhost:8080/"
        },
        "id": "9AaKH6-tMdGO",
        "outputId": "49199e43-2836-4705-8c54-4bc167b5f86c"
      },
      "execution_count": 53,
      "outputs": [
        {
          "output_type": "stream",
          "name": "stdout",
          "text": [
            "+----------+----------------+--------------------+------------+----------------+----------+--------+----------+-------------+--------------------+------------+---------------------+--------------------+------------------+----------+----------+\n",
            "|Unnamed: 0|discipline_title|         event_title|   slug_game|participant_type|medal_type|athletes|rank_equal|rank_position|        country_name|country_code|country_3_letter_code|         athlete_url| athlete_full_name|value_unit|value_type|\n",
            "+----------+----------------+--------------------+------------+----------------+----------+--------+----------+-------------+--------------------+------------+---------------------+--------------------+------------------+----------+----------+\n",
            "|      2182|   Alpine Skiing|Men's Alpine Comb...|beijing-2022|         Athlete|      NULL|    NULL|     False|         NULL|      Czech Republic|          CZ|                  CZE|https://olympics....|     Jan ZABYSTRAN|      NULL|       IRM|\n",
            "|      2185|   Alpine Skiing|Men's Alpine Comb...|beijing-2022|         Athlete|      NULL|    NULL|     False|         NULL|              France|          FR|                  FRA|https://olympics....| Alexis PINTURAULT|      NULL|       IRM|\n",
            "|      2191|   Alpine Skiing|Men's Alpine Comb...|beijing-2022|         Athlete|      NULL|    NULL|     False|         NULL|         Switzerland|          CH|                  SUI|https://olympics....|   Yannick CHABLOZ|      NULL|       IRM|\n",
            "|      2192|   Alpine Skiing|Men's Alpine Comb...|beijing-2022|         Athlete|      NULL|    NULL|     False|         NULL|         Switzerland|          CH|                  SUI|https://olympics....|        Luca AERNI|      NULL|       IRM|\n",
            "|      2193|   Alpine Skiing|Men's Alpine Comb...|beijing-2022|         Athlete|      NULL|    NULL|     False|         NULL|               Chile|          CL|                  CHI|https://olympics....|  Henrik VON APPEN|      NULL|       IRM|\n",
            "|      2195|   Alpine Skiing|Men's Alpine Comb...|beijing-2022|         Athlete|      NULL|    NULL|     False|         NULL|            Slovenia|          SI|                  SLO|https://olympics....|       Miha HROBAT|      NULL|       IRM|\n",
            "|      2196|   Alpine Skiing|Men's Alpine Comb...|beijing-2022|         Athlete|      NULL|    NULL|     False|         NULL|              Canada|          CA|                  CAN|https://olympics....|      Trevor PHILP|      NULL|       IRM|\n",
            "|      2200|   Alpine Skiing|Men's Alpine Comb...|beijing-2022|         Athlete|      NULL|    NULL|     False|         NULL|            Slovenia|          SI|                  SLO|https://olympics....|   Nejc NARALOCNIK|      NULL|       IRM|\n",
            "|      2202|   Alpine Skiing|Men's Alpine Comb...|beijing-2022|         Athlete|      NULL|    NULL|     False|         NULL|         Switzerland|          CH|                  SUI|https://olympics....|     Loic MEILLARD|      NULL|       IRM|\n",
            "|      2204|   Alpine Skiing|Men's Alpine Comb...|beijing-2022|         Athlete|      NULL|    NULL|     False|         NULL|             Germany|          DE|                  GER|https://olympics....|      Simon JOCHER|      NULL|       IRM|\n",
            "|      6268|   Cycling Track|        Men's Omnium|  tokyo-2020|         Athlete|      NULL|    NULL|     False|         NULL|              Greece|          GR|                  GRE|https://olympics....|Christos VOLIKAKIS|        11|IRM_POINTS|\n",
            "|      6288|   Cycling Track|      Women's Omnium|  tokyo-2020|         Athlete|      NULL|    NULL|     False|         NULL|              Poland|          PL|                  POL|https://olympics....|     Daria PIKULIK|        16|IRM_POINTS|\n",
            "|      6294|   Cycling Track|      Women's Omnium|  tokyo-2020|         Athlete|      NULL|    NULL|     False|         NULL|             Belgium|          BE|                  BEL|https://olympics....|     Lotte KOPECKY|        16|IRM_POINTS|\n",
            "|      6676|       Badminton|     Women's Singles|  tokyo-2020|         Athlete|      NULL|    NULL|     False|         NULL|             Hungary|          HU|                  HUN|https://olympics....|      Laura SAROSI|      NULL|      NULL|\n",
            "|      6691|       Badminton|     Women's Singles|  tokyo-2020|         Athlete|      NULL|    NULL|     False|         NULL|United States of ...|          US|                  USA|https://olympics....|      Beiwen ZHANG|      NULL|      NULL|\n",
            "|      6873|       Wrestling|Men's Greco-Roman...|  tokyo-2020|         Athlete|      NULL|    NULL|     False|         NULL|             Morocco|          MA|                  MAR|https://olympics....|  Zied AIT OUAGRAM|      NULL|      NULL|\n",
            "|      7053|       Wrestling|Men's Freestyle 97kg|  tokyo-2020|         Athlete|      NULL|    NULL|     False|         NULL|             Algeria|          DZ|                  ALG|https://olympics....|    Mohammed FARDJ|      NULL|      NULL|\n",
            "|      8403|      Equestrian| Eventing Individual|  tokyo-2020|         Athlete|      NULL|    NULL|     False|         NULL|              Poland|          PL|                  POL|https://olympics....|      Pawel SPISAK|      NULL|      NULL|\n",
            "|      8404|      Equestrian| Eventing Individual|  tokyo-2020|         Athlete|      NULL|    NULL|     False|         NULL|               Japan|          JP|                  JPN|https://olympics....|    Ryuzo KITAJIMA|      NULL|      NULL|\n",
            "|      8405|      Equestrian| Eventing Individual|  tokyo-2020|         Athlete|      NULL|    NULL|     False|         NULL|             Belarus|          BY|                  BLR|https://olympics....|Aliaksandr FAMINOU|      NULL|      NULL|\n",
            "+----------+----------------+--------------------+------------+----------------+----------+--------+----------+-------------+--------------------+------------+---------------------+--------------------+------------------+----------+----------+\n",
            "only showing top 20 rows\n",
            "\n"
          ]
        }
      ]
    },
    {
      "cell_type": "code",
      "source": [
        "df_results = df_results.dropna(subset=[\"rank_position\"])\n",
        "df_results.filter(col(\"rank_position\").isNull()).show()"
      ],
      "metadata": {
        "colab": {
          "base_uri": "https://localhost:8080/"
        },
        "id": "1zXgBjtuNAEh",
        "outputId": "3ef9ccfe-892d-4f03-e288-01d5e43d8852"
      },
      "execution_count": 54,
      "outputs": [
        {
          "output_type": "stream",
          "name": "stdout",
          "text": [
            "+----------+----------------+-----------+---------+----------------+----------+--------+----------+-------------+------------+------------+---------------------+-----------+-----------------+----------+----------+\n",
            "|Unnamed: 0|discipline_title|event_title|slug_game|participant_type|medal_type|athletes|rank_equal|rank_position|country_name|country_code|country_3_letter_code|athlete_url|athlete_full_name|value_unit|value_type|\n",
            "+----------+----------------+-----------+---------+----------------+----------+--------+----------+-------------+------------+------------+---------------------+-----------+-----------------+----------+----------+\n",
            "+----------+----------------+-----------+---------+----------------+----------+--------+----------+-------------+------------+------------+---------------------+-----------+-----------------+----------+----------+\n",
            "\n"
          ]
        }
      ]
    },
    {
      "cell_type": "code",
      "source": [
        "df_results = df_results.drop(\"country_code\", \"athlete_url\", \"index\", \"value_unit\", \"value_type\")\n",
        "df_results.printSchema()"
      ],
      "metadata": {
        "colab": {
          "base_uri": "https://localhost:8080/"
        },
        "id": "I0_-xuiEOLuj",
        "outputId": "4f70ef79-773f-46a7-c001-c218ab705bbb"
      },
      "execution_count": 55,
      "outputs": [
        {
          "output_type": "stream",
          "name": "stdout",
          "text": [
            "root\n",
            " |-- Unnamed: 0: integer (nullable = true)\n",
            " |-- discipline_title: string (nullable = true)\n",
            " |-- event_title: string (nullable = true)\n",
            " |-- slug_game: string (nullable = true)\n",
            " |-- participant_type: string (nullable = true)\n",
            " |-- medal_type: string (nullable = true)\n",
            " |-- athletes: string (nullable = true)\n",
            " |-- rank_equal: string (nullable = true)\n",
            " |-- rank_position: string (nullable = true)\n",
            " |-- country_name: string (nullable = true)\n",
            " |-- country_3_letter_code: string (nullable = true)\n",
            " |-- athlete_full_name: string (nullable = true)\n",
            "\n"
          ]
        }
      ]
    },
    {
      "cell_type": "code",
      "source": [
        "pd.unique(df_results[\"rank_position\"])"
      ],
      "metadata": {
        "id": "JT6IPDOhOgUD"
      },
      "execution_count": null,
      "outputs": []
    },
    {
      "cell_type": "code",
      "source": [
        "unique_rank_positions = df_results.select(\"rank_position\").distinct()\n",
        "unique_rank_positions.show()"
      ],
      "metadata": {
        "colab": {
          "base_uri": "https://localhost:8080/"
        },
        "id": "RXFKJOqxOn5A",
        "outputId": "b910114c-ed02-41ed-d667-2798eca1959d"
      },
      "execution_count": 56,
      "outputs": [
        {
          "output_type": "stream",
          "name": "stdout",
          "text": [
            "+--------------------+\n",
            "|       rank_position|\n",
            "+--------------------+\n",
            "|                 DNS|\n",
            "|                 125|\n",
            "|                   7|\n",
            "|                  51|\n",
            "|                 124|\n",
            "|     ('Jared PALMER'|\n",
            "|    ('Stephen MILNE'|\n",
            "|                  15|\n",
            "|                  54|\n",
            "|                 WDR|\n",
            "| ('Kseniya SYDORE...|\n",
            "|                 132|\n",
            "| ('Oleksandr SKRY...|\n",
            "|                  11|\n",
            "|                 101|\n",
            "|                 138|\n",
            "|                  29|\n",
            "|                  69|\n",
            "|                  42|\n",
            "|                 112|\n",
            "+--------------------+\n",
            "only showing top 20 rows\n",
            "\n"
          ]
        }
      ]
    }
  ]
}